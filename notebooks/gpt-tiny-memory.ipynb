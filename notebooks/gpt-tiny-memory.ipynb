{
 "cells": [
  {
   "cell_type": "markdown",
   "metadata": {},
   "source": [
    "# args & validate dataset"
   ]
  },
  {
   "cell_type": "code",
   "execution_count": 1,
   "metadata": {},
   "outputs": [],
   "source": [
    "model_path = \"E:\\\\data\\\\models\\\\gpt-boost\\\\gpt-8-layer\"\n",
    "data_path = \"E:\\\\data\\\\corpus\\\\gpt-boost\\\\novel.txt\"\n",
    "tokenizer_path = \".\\\\tokenizer\"\n",
    "tb_path = \".\\\\runs\\\\gpt-8-layer\""
   ]
  },
  {
   "cell_type": "code",
   "execution_count": 2,
   "metadata": {},
   "outputs": [],
   "source": [
    "n_embd=512\n",
    "n_head=8\n",
    "n_layer=8\n",
    "n_positions=256\n",
    "vocab_size=20000\n",
    "finetuning_mode=False"
   ]
  },
  {
   "cell_type": "code",
   "execution_count": 3,
   "metadata": {},
   "outputs": [],
   "source": [
    "learning_rate=5e-4\n",
    "gradient_accumulation_steps=4\n",
    "num_train_epochs=10\n",
    "per_device_train_batch_size=8"
   ]
  },
  {
   "cell_type": "markdown",
   "metadata": {
    "colab_type": "text",
    "id": "yAwQ82JiE5pi"
   },
   "source": [
    "# 1. create tokenizer"
   ]
  },
  {
   "cell_type": "code",
   "execution_count": 4,
   "metadata": {
    "colab": {},
    "colab_type": "code",
    "id": "4keFBUjQFOD1",
    "scrolled": true
   },
   "outputs": [
    {
     "name": "stderr",
     "output_type": "stream",
     "text": [
      "Special tokens have been added in the vocabulary, make sure the associated word emebedding are fine-tuned or trained.\n"
     ]
    }
   ],
   "source": [
    "from transformers import GPT2TokenizerFast\n",
    "tokenizer = GPT2TokenizerFast.from_pretrained(tokenizer_path, max_len=256)"
   ]
  },
  {
   "cell_type": "markdown",
   "metadata": {},
   "source": [
    "# 2. initialize model"
   ]
  },
  {
   "cell_type": "code",
   "execution_count": 5,
   "metadata": {
    "colab": {},
    "colab_type": "code",
    "id": "BzMqR-dzF4Ro",
    "scrolled": false
   },
   "outputs": [],
   "source": [
    "import sys\n",
    "sys.path.append(\"../\")\n",
    "# from models.memory.modeling_gpt2_memory import GPT2LMHeadModel\n",
    "from transformers import GPT2LMHeadModel\n",
    "\n",
    "if finetuning_mode:\n",
    "    model = GPT2LMHeadModel.from_pretrained(model_path)\n",
    "else:\n",
    "    from transformers import GPT2Config\n",
    "    config = GPT2Config(\n",
    "        n_embd=n_embd,\n",
    "        n_head=n_head,\n",
    "        n_layer=n_layer,\n",
    "        n_positions=n_positions,\n",
    "        vocab_size=vocab_size\n",
    "    )\n",
    "    model = GPT2LMHeadModel(config=config)"
   ]
  },
  {
   "cell_type": "code",
   "execution_count": 6,
   "metadata": {
    "colab": {
     "base_uri": "https://localhost:8080/",
     "height": 34
    },
    "colab_type": "code",
    "id": "jU6JhBSTKiaM",
    "outputId": "35879a60-2915-4894-f702-2d649cfa398a"
   },
   "outputs": [
    {
     "data": {
      "text/plain": [
       "35591168"
      ]
     },
     "execution_count": 6,
     "metadata": {},
     "output_type": "execute_result"
    }
   ],
   "source": [
    "model.num_parameters()\n",
    "# => 13524480 parameters (约14M)"
   ]
  },
  {
   "cell_type": "markdown",
   "metadata": {
    "colab_type": "text",
    "id": "jBtUHRMliOLM"
   },
   "source": [
    "# 3. build training Dataset"
   ]
  },
  {
   "cell_type": "code",
   "execution_count": 7,
   "metadata": {
    "colab": {
     "base_uri": "https://localhost:8080/",
     "height": 52
    },
    "colab_type": "code",
    "id": "GlvP_A-THEEl",
    "outputId": "e0510a33-7937-4a04-fa1c-d4e20b758bb2"
   },
   "outputs": [],
   "source": [
    "from transformers import TextDataset\n",
    "\n",
    "dataset = TextDataset(\n",
    "    tokenizer=tokenizer,\n",
    "    file_path=data_path,\n",
    "    block_size=256,\n",
    ")"
   ]
  },
  {
   "cell_type": "markdown",
   "metadata": {
    "colab_type": "text",
    "id": "hDLs73HcIHk5"
   },
   "source": [
    "Like in the [`run_language_modeling.py`](https://github.com/huggingface/transformers/blob/master/examples/language-modeling/run_language_modeling.py) script, we need to define a data_collator.\n",
    "\n",
    "This is just a small helper that will help us batch different samples of the dataset together into an object that PyTorch knows how to perform backprop on."
   ]
  },
  {
   "cell_type": "code",
   "execution_count": 8,
   "metadata": {
    "colab": {},
    "colab_type": "code",
    "id": "zTgWPa9Dipk2"
   },
   "outputs": [],
   "source": [
    "from transformers import DataCollatorForLanguageModeling\n",
    "\n",
    "data_collator = DataCollatorForLanguageModeling(\n",
    "    tokenizer=tokenizer, mlm=False\n",
    ")"
   ]
  },
  {
   "cell_type": "markdown",
   "metadata": {
    "colab_type": "text",
    "id": "ri2BIQKqjfHm"
   },
   "source": [
    "# 4. initialize our Trainer & Train & Save"
   ]
  },
  {
   "cell_type": "code",
   "execution_count": 9,
   "metadata": {
    "colab": {},
    "colab_type": "code",
    "id": "YpvnFFmZJD-N"
   },
   "outputs": [
    {
     "name": "stderr",
     "output_type": "stream",
     "text": [
      "E:\\Users\\anshengqiang\\anaconda3\\lib\\site-packages\\transformers\\trainer.py:245: FutureWarning: Passing `prediction_loss_only` as a keyword argument is deprecated and won't be possible in a future version. Use `args.prediction_loss_only` instead.\n",
      "  warnings.warn(\n"
     ]
    }
   ],
   "source": [
    "from transformers import Trainer, TrainingArguments\n",
    "\n",
    "training_args = TrainingArguments(\n",
    "    output_dir=model_path,\n",
    "    overwrite_output_dir=True,\n",
    "    no_cuda=False,\n",
    "    do_train=True,\n",
    "    fp16=True,\n",
    "    logging_dir=tb_path,\n",
    "    logging_steps=100,\n",
    "    learning_rate=learning_rate,\n",
    "    gradient_accumulation_steps=gradient_accumulation_steps,\n",
    "    num_train_epochs=num_train_epochs,\n",
    "    per_device_train_batch_size=per_device_train_batch_size,\n",
    "    save_steps=1000,\n",
    "    save_total_limit=2\n",
    ")\n",
    "\n",
    "trainer = Trainer(\n",
    "    model=model,\n",
    "    args=training_args,\n",
    "    data_collator=data_collator,\n",
    "    train_dataset=dataset,\n",
    "    prediction_loss_only=True,\n",
    ")"
   ]
  },
  {
   "cell_type": "code",
   "execution_count": null,
   "metadata": {
    "colab": {
     "base_uri": "https://localhost:8080/",
     "height": 738,
     "referenced_widgets": [
      "a58a66392b644b1384661e850c077a6c",
      "a491e8caa0a048beb3b5259f14eb233f",
      "837c9ddc3d594e088891874560c646b8",
      "dbf50873d62c4ba39321faefbed0cca5",
      "40bf955ba0284e84b198da6be8654219",
      "fe20a8dae6e84628b5076d02183090f5",
      "93b3f9eae3cb4e3e859cf456e3547c6d",
      "6feb10aeb43147e6aba028d065947ae8",
      "0989d41a4da24e9ebff377e02127642c",
      "42c6061ef7e44f179db5a6e3551c0f17",
      "d295dd80550447d88da0f04ce36a22ff",
      "04e7e6d291da49d5816dc98a2904e95c",
      "e7d8c3a4fecd40778e32966b29ea65a1",
      "016d7c8318f742c1943464b08232a510",
      "8388e9da9da4492c98c19235ca5fc1b5",
      "39c23c6a972b419eb2eeeebafeaedc22"
     ]
    },
    "colab_type": "code",
    "id": "VmaHZXzmkNtJ",
    "outputId": "a19880cb-bcc6-4885-bf24-c2c6d0f56d1e",
    "scrolled": false
   },
   "outputs": [
    {
     "data": {
      "application/vnd.jupyter.widget-view+json": {
       "model_id": "2d5d9311c354477a96833e0d129c099c",
       "version_major": 2,
       "version_minor": 0
      },
      "text/plain": [
       "HBox(children=(FloatProgress(value=0.0, description='Epoch', max=10.0, style=ProgressStyle(description_width='…"
      ]
     },
     "metadata": {},
     "output_type": "display_data"
    },
    {
     "data": {
      "application/vnd.jupyter.widget-view+json": {
       "model_id": "02bbc0358f3144fca61310b68a3a3170",
       "version_major": 2,
       "version_minor": 0
      },
      "text/plain": [
       "HBox(children=(FloatProgress(value=0.0, description='Iteration', max=22899.0, style=ProgressStyle(description_…"
      ]
     },
     "metadata": {},
     "output_type": "display_data"
    },
    {
     "name": "stdout",
     "output_type": "stream",
     "text": [
      "{'loss': 7.482940063476563, 'learning_rate': 0.0004991264849755416, 'epoch': 0.01746801170356784, 'step': 100}\n",
      "{'loss': 7.119507446289062, 'learning_rate': 0.0004982529699510831, 'epoch': 0.03493602340713568, 'step': 200}\n",
      "{'loss': 6.949014892578125, 'learning_rate': 0.0004973794549266247, 'epoch': 0.052404035110703524, 'step': 300}\n",
      "{'loss': 6.817021484375, 'learning_rate': 0.0004965059399021664, 'epoch': 0.06987204681427137, 'step': 400}\n",
      "{'loss': 6.65694091796875, 'learning_rate': 0.000495632424877708, 'epoch': 0.0873400585178392, 'step': 500}\n",
      "{'loss': 6.4836767578125, 'learning_rate': 0.0004947589098532495, 'epoch': 0.10480807022140705, 'step': 600}\n",
      "{'loss': 6.3166796875, 'learning_rate': 0.0004938853948287911, 'epoch': 0.12227608192497488, 'step': 700}\n",
      "{'loss': 6.1766064453125, 'learning_rate': 0.0004930118798043327, 'epoch': 0.13974409362854273, 'step': 800}\n",
      "{'loss': 6.093056640625, 'learning_rate': 0.0004921383647798742, 'epoch': 0.15721210533211058, 'step': 900}\n",
      "{'loss': 6.012255859375, 'learning_rate': 0.0004912648497554158, 'epoch': 0.1746801170356784, 'step': 1000}\n"
     ]
    },
    {
     "name": "stderr",
     "output_type": "stream",
     "text": [
      "E:\\Users\\anshengqiang\\anaconda3\\lib\\site-packages\\torch\\optim\\lr_scheduler.py:200: UserWarning: Please also save or load the state of the optimzer when saving or loading the scheduler.\n",
      "  warnings.warn(SAVE_STATE_WARNING, UserWarning)\n"
     ]
    },
    {
     "name": "stdout",
     "output_type": "stream",
     "text": [
      "{'loss': 5.92087890625, 'learning_rate': 0.0004903913347309573, 'epoch': 0.19214812873924625, 'step': 1100}\n",
      "{'loss': 5.8588818359375, 'learning_rate': 0.0004895178197064989, 'epoch': 0.2096161404428141, 'step': 1200}\n",
      "{'loss': 5.778486328125, 'learning_rate': 0.0004886443046820405, 'epoch': 0.22708415214638195, 'step': 1300}\n",
      "{'loss': 5.721689453125, 'learning_rate': 0.00048777078965758216, 'epoch': 0.24455216384994977, 'step': 1400}\n",
      "{'loss': 5.66572265625, 'learning_rate': 0.0004868972746331237, 'epoch': 0.26202017555351764, 'step': 1500}\n",
      "{'loss': 5.580380859375, 'learning_rate': 0.0004860237596086653, 'epoch': 0.27948818725708546, 'step': 1600}\n",
      "{'loss': 5.52337890625, 'learning_rate': 0.0004851502445842069, 'epoch': 0.2969561989606533, 'step': 1700}\n",
      "{'loss': 5.4665234375, 'learning_rate': 0.00048427672955974845, 'epoch': 0.31442421066422116, 'step': 1800}\n",
      "{'loss': 5.416162109375, 'learning_rate': 0.00048340321453529, 'epoch': 0.331892222367789, 'step': 1900}\n",
      "{'loss': 5.372724609375, 'learning_rate': 0.00048252969951083157, 'epoch': 0.3493602340713568, 'step': 2000}\n",
      "{'loss': 5.330458984375, 'learning_rate': 0.0004816561844863732, 'epoch': 0.3668282457749247, 'step': 2100}\n",
      "{'loss': 5.27865234375, 'learning_rate': 0.00048078266946191474, 'epoch': 0.3842962574784925, 'step': 2200}\n",
      "{'loss': 5.23013671875, 'learning_rate': 0.0004799091544374563, 'epoch': 0.4017642691820604, 'step': 2300}\n",
      "{'loss': 5.17759765625, 'learning_rate': 0.0004790356394129979, 'epoch': 0.4192322808856282, 'step': 2400}\n",
      "{'loss': 5.131142578125, 'learning_rate': 0.00047816212438853953, 'epoch': 0.436700292589196, 'step': 2500}\n",
      "{'loss': 5.10833984375, 'learning_rate': 0.0004772886093640811, 'epoch': 0.4541683042927639, 'step': 2600}\n",
      "{'loss': 5.0583203125, 'learning_rate': 0.00047641509433962265, 'epoch': 0.4716363159963317, 'step': 2700}\n",
      "{'loss': 5.0273046875, 'learning_rate': 0.0004755415793151642, 'epoch': 0.48910432769989953, 'step': 2800}\n",
      "{'loss': 4.983818359375, 'learning_rate': 0.0004746680642907058, 'epoch': 0.5065723394034674, 'step': 2900}\n",
      "{'loss': 4.9607421875, 'learning_rate': 0.0004737945492662474, 'epoch': 0.5240403511070353, 'step': 3000}\n",
      "{'loss': 4.9267578125, 'learning_rate': 0.00047292103424178894, 'epoch': 0.5415083628106031, 'step': 3100}\n",
      "{'loss': 4.8950390625, 'learning_rate': 0.00047204751921733055, 'epoch': 0.5589763745141709, 'step': 3200}\n",
      "{'loss': 4.886796875, 'learning_rate': 0.00047117400419287216, 'epoch': 0.5764443862177387, 'step': 3300}\n",
      "{'loss': 4.845, 'learning_rate': 0.0004703004891684137, 'epoch': 0.5939123979213066, 'step': 3400}\n",
      "{'loss': 4.8183203125, 'learning_rate': 0.0004694269741439553, 'epoch': 0.6113804096248745, 'step': 3500}\n",
      "{'loss': 4.82, 'learning_rate': 0.0004685534591194969, 'epoch': 0.6288484213284423, 'step': 3600}\n",
      "{'loss': 4.77263671875, 'learning_rate': 0.00046767994409503845, 'epoch': 0.6463164330320101, 'step': 3700}\n",
      "{'loss': 4.75884765625, 'learning_rate': 0.00046680642907058, 'epoch': 0.663784444735578, 'step': 3800}\n",
      "{'loss': 4.7455078125, 'learning_rate': 0.00046593291404612157, 'epoch': 0.6812524564391458, 'step': 3900}\n",
      "{'loss': 4.723203125, 'learning_rate': 0.0004650593990216632, 'epoch': 0.6987204681427136, 'step': 4000}\n",
      "{'loss': 4.68923828125, 'learning_rate': 0.00046418588399720474, 'epoch': 0.7161884798462815, 'step': 4100}\n",
      "{'loss': 4.67806640625, 'learning_rate': 0.00046331236897274636, 'epoch': 0.7336564915498494, 'step': 4200}\n",
      "{'loss': 4.6487890625, 'learning_rate': 0.0004624388539482879, 'epoch': 0.7511245032534172, 'step': 4300}\n",
      "{'loss': 4.6436328125, 'learning_rate': 0.00046156533892382953, 'epoch': 0.768592514956985, 'step': 4400}\n",
      "{'loss': 4.62833984375, 'learning_rate': 0.0004606918238993711, 'epoch': 0.7860605266605528, 'step': 4500}\n",
      "{'loss': 4.63078125, 'learning_rate': 0.00045981830887491265, 'epoch': 0.8035285383641207, 'step': 4600}\n",
      "{'loss': 4.60712890625, 'learning_rate': 0.00045894479385045426, 'epoch': 0.8209965500676886, 'step': 4700}\n",
      "{'loss': 4.58716796875, 'learning_rate': 0.0004580712788259958, 'epoch': 0.8384645617712564, 'step': 4800}\n",
      "{'loss': 4.5858984375, 'learning_rate': 0.0004571977638015374, 'epoch': 0.8559325734748242, 'step': 4900}\n",
      "{'loss': 4.55970703125, 'learning_rate': 0.00045632424877707894, 'epoch': 0.873400585178392, 'step': 5000}\n",
      "{'loss': 4.55400390625, 'learning_rate': 0.00045545073375262055, 'epoch': 0.89086859688196, 'step': 5100}\n",
      "{'loss': 4.530390625, 'learning_rate': 0.00045457721872816216, 'epoch': 0.9083366085855278, 'step': 5200}\n",
      "{'loss': 4.52990234375, 'learning_rate': 0.0004537037037037037, 'epoch': 0.9258046202890956, 'step': 5300}\n",
      "{'loss': 4.51328125, 'learning_rate': 0.0004528301886792453, 'epoch': 0.9432726319926634, 'step': 5400}\n",
      "{'loss': 4.50203125, 'learning_rate': 0.0004519566736547869, 'epoch': 0.9607406436962312, 'step': 5500}\n",
      "{'loss': 4.50244140625, 'learning_rate': 0.00045108315863032845, 'epoch': 0.9782086553997991, 'step': 5600}\n",
      "{'loss': 4.4919921875, 'learning_rate': 0.00045020964360587, 'epoch': 0.995676667103367, 'step': 5700}\n",
      "\n"
     ]
    },
    {
     "data": {
      "application/vnd.jupyter.widget-view+json": {
       "model_id": "c3c71652d3d940c5b66b90f2bd8dcf56",
       "version_major": 2,
       "version_minor": 0
      },
      "text/plain": [
       "HBox(children=(FloatProgress(value=0.0, description='Iteration', max=22899.0, style=ProgressStyle(description_…"
      ]
     },
     "metadata": {},
     "output_type": "display_data"
    },
    {
     "name": "stdout",
     "output_type": "stream",
     "text": [
      "{'loss': 4.44794921875, 'learning_rate': 0.00044933612858141157, 'epoch': 1.0132756888947116, 'step': 5800}\n",
      "{'loss': 4.39857421875, 'learning_rate': 0.0004484626135569532, 'epoch': 1.0307437005982794, 'step': 5900}\n",
      "{'loss': 4.395625, 'learning_rate': 0.00044758909853249474, 'epoch': 1.0482117123018473, 'step': 6000}\n",
      "{'loss': 4.38373046875, 'learning_rate': 0.00044671558350803636, 'epoch': 1.065679724005415, 'step': 6100}\n",
      "{'loss': 4.40021484375, 'learning_rate': 0.00044584206848357797, 'epoch': 1.083147735708983, 'step': 6200}\n",
      "{'loss': 4.36955078125, 'learning_rate': 0.00044496855345911953, 'epoch': 1.1006157474125509, 'step': 6300}\n",
      "{'loss': 4.38462890625, 'learning_rate': 0.0004440950384346611, 'epoch': 1.1180837591161186, 'step': 6400}\n",
      "{'loss': 4.369375, 'learning_rate': 0.00044322152341020265, 'epoch': 1.1355517708196865, 'step': 6500}\n",
      "{'loss': 4.380546875, 'learning_rate': 0.00044234800838574426, 'epoch': 1.1530197825232542, 'step': 6600}\n",
      "{'loss': 4.3542578125, 'learning_rate': 0.0004414744933612858, 'epoch': 1.1704877942268221, 'step': 6700}\n",
      "{'loss': 4.35359375, 'learning_rate': 0.0004406009783368274, 'epoch': 1.18795580593039, 'step': 6800}\n",
      "{'loss': 4.3564453125, 'learning_rate': 0.00043972746331236894, 'epoch': 1.2054238176339578, 'step': 6900}\n",
      "{'loss': 4.332421875, 'learning_rate': 0.0004388539482879106, 'epoch': 1.2228918293375257, 'step': 7000}\n",
      "{'loss': 4.3325390625, 'learning_rate': 0.00043798043326345217, 'epoch': 1.2403598410410934, 'step': 7100}\n",
      "{'loss': 4.331015625, 'learning_rate': 0.0004371069182389937, 'epoch': 1.2578278527446614, 'step': 7200}\n",
      "{'loss': 4.3321484375, 'learning_rate': 0.0004362334032145353, 'epoch': 1.2752958644482293, 'step': 7300}\n",
      "{'loss': 4.316953125, 'learning_rate': 0.0004353598881900769, 'epoch': 1.292763876151797, 'step': 7400}\n",
      "{'loss': 4.3141796875, 'learning_rate': 0.00043448637316561846, 'epoch': 1.310231887855365, 'step': 7500}\n",
      "{'loss': 4.3078515625, 'learning_rate': 0.00043361285814116, 'epoch': 1.3276998995589326, 'step': 7600}\n",
      "{'loss': 4.2961328125, 'learning_rate': 0.0004327393431167016, 'epoch': 1.3451679112625006, 'step': 7700}\n",
      "{'loss': 4.294375, 'learning_rate': 0.0004318658280922432, 'epoch': 1.3626359229660685, 'step': 7800}\n",
      "{'loss': 4.300859375, 'learning_rate': 0.0004309923130677848, 'epoch': 1.3801039346696362, 'step': 7900}\n",
      "{'loss': 4.2778125, 'learning_rate': 0.00043011879804332636, 'epoch': 1.3975719463732041, 'step': 8000}\n",
      "{'loss': 4.294921875, 'learning_rate': 0.00042924528301886797, 'epoch': 1.4150399580767719, 'step': 8100}\n",
      "{'loss': 4.2612109375, 'learning_rate': 0.00042837176799440953, 'epoch': 1.4325079697803398, 'step': 8200}\n",
      "{'loss': 4.2805078125, 'learning_rate': 0.0004274982529699511, 'epoch': 1.4499759814839077, 'step': 8300}\n",
      "{'loss': 4.2535546875, 'learning_rate': 0.00042662473794549265, 'epoch': 1.4674439931874754, 'step': 8400}\n",
      "{'loss': 4.25828125, 'learning_rate': 0.00042575122292103426, 'epoch': 1.4849120048910434, 'step': 8500}\n"
     ]
    }
   ],
   "source": [
    "trainer.train()"
   ]
  },
  {
   "cell_type": "markdown",
   "metadata": {
    "colab_type": "text",
    "id": "_ZkooHz1-_2h"
   },
   "source": [
    "### 🎉 Save final model (+ tokenizer + config) to disk"
   ]
  },
  {
   "cell_type": "code",
   "execution_count": null,
   "metadata": {
    "colab": {},
    "colab_type": "code",
    "id": "QDNgPls7_l13"
   },
   "outputs": [],
   "source": [
    "trainer.save_model(model_path)"
   ]
  }
 ],
 "metadata": {
  "accelerator": "GPU",
  "colab": {
   "collapsed_sections": [],
   "machine_shape": "hm",
   "name": "01_how-to-train.ipynb",
   "provenance": [],
   "toc_visible": true
  },
  "kernelspec": {
   "display_name": "Python 3",
   "language": "python",
   "name": "python3"
  },
  "language_info": {
   "codemirror_mode": {
    "name": "ipython",
    "version": 3
   },
   "file_extension": ".py",
   "mimetype": "text/x-python",
   "name": "python",
   "nbconvert_exporter": "python",
   "pygments_lexer": "ipython3",
   "version": "3.8.3"
  },
  "widgets": {
   "application/vnd.jupyter.widget-state+json": {
    "016d7c8318f742c1943464b08232a510": {
     "model_module": "@jupyter-widgets/base",
     "model_name": "LayoutModel",
     "state": {
      "_model_module": "@jupyter-widgets/base",
      "_model_module_version": "1.2.0",
      "_model_name": "LayoutModel",
      "_view_count": null,
      "_view_module": "@jupyter-widgets/base",
      "_view_module_version": "1.2.0",
      "_view_name": "LayoutView",
      "align_content": null,
      "align_items": null,
      "align_self": null,
      "border": null,
      "bottom": null,
      "display": null,
      "flex": null,
      "flex_flow": null,
      "grid_area": null,
      "grid_auto_columns": null,
      "grid_auto_flow": null,
      "grid_auto_rows": null,
      "grid_column": null,
      "grid_gap": null,
      "grid_row": null,
      "grid_template_areas": null,
      "grid_template_columns": null,
      "grid_template_rows": null,
      "height": null,
      "justify_content": null,
      "justify_items": null,
      "left": null,
      "margin": null,
      "max_height": null,
      "max_width": null,
      "min_height": null,
      "min_width": null,
      "object_fit": null,
      "object_position": null,
      "order": null,
      "overflow": null,
      "overflow_x": null,
      "overflow_y": null,
      "padding": null,
      "right": null,
      "top": null,
      "visibility": null,
      "width": null
     }
    },
    "04e7e6d291da49d5816dc98a2904e95c": {
     "model_module": "@jupyter-widgets/controls",
     "model_name": "HTMLModel",
     "state": {
      "_dom_classes": [],
      "_model_module": "@jupyter-widgets/controls",
      "_model_module_version": "1.5.0",
      "_model_name": "HTMLModel",
      "_view_count": null,
      "_view_module": "@jupyter-widgets/controls",
      "_view_module_version": "1.5.0",
      "_view_name": "HTMLView",
      "description": "",
      "description_tooltip": null,
      "layout": "IPY_MODEL_39c23c6a972b419eb2eeeebafeaedc22",
      "placeholder": "​",
      "style": "IPY_MODEL_8388e9da9da4492c98c19235ca5fc1b5",
      "value": " 15228/15228 [2:46:46&lt;00:00,  1.52it/s]"
     }
    },
    "0989d41a4da24e9ebff377e02127642c": {
     "model_module": "@jupyter-widgets/controls",
     "model_name": "HBoxModel",
     "state": {
      "_dom_classes": [],
      "_model_module": "@jupyter-widgets/controls",
      "_model_module_version": "1.5.0",
      "_model_name": "HBoxModel",
      "_view_count": null,
      "_view_module": "@jupyter-widgets/controls",
      "_view_module_version": "1.5.0",
      "_view_name": "HBoxView",
      "box_style": "",
      "children": [
       "IPY_MODEL_d295dd80550447d88da0f04ce36a22ff",
       "IPY_MODEL_04e7e6d291da49d5816dc98a2904e95c"
      ],
      "layout": "IPY_MODEL_42c6061ef7e44f179db5a6e3551c0f17"
     }
    },
    "39c23c6a972b419eb2eeeebafeaedc22": {
     "model_module": "@jupyter-widgets/base",
     "model_name": "LayoutModel",
     "state": {
      "_model_module": "@jupyter-widgets/base",
      "_model_module_version": "1.2.0",
      "_model_name": "LayoutModel",
      "_view_count": null,
      "_view_module": "@jupyter-widgets/base",
      "_view_module_version": "1.2.0",
      "_view_name": "LayoutView",
      "align_content": null,
      "align_items": null,
      "align_self": null,
      "border": null,
      "bottom": null,
      "display": null,
      "flex": null,
      "flex_flow": null,
      "grid_area": null,
      "grid_auto_columns": null,
      "grid_auto_flow": null,
      "grid_auto_rows": null,
      "grid_column": null,
      "grid_gap": null,
      "grid_row": null,
      "grid_template_areas": null,
      "grid_template_columns": null,
      "grid_template_rows": null,
      "height": null,
      "justify_content": null,
      "justify_items": null,
      "left": null,
      "margin": null,
      "max_height": null,
      "max_width": null,
      "min_height": null,
      "min_width": null,
      "object_fit": null,
      "object_position": null,
      "order": null,
      "overflow": null,
      "overflow_x": null,
      "overflow_y": null,
      "padding": null,
      "right": null,
      "top": null,
      "visibility": null,
      "width": null
     }
    },
    "40bf955ba0284e84b198da6be8654219": {
     "model_module": "@jupyter-widgets/controls",
     "model_name": "ProgressStyleModel",
     "state": {
      "_model_module": "@jupyter-widgets/controls",
      "_model_module_version": "1.5.0",
      "_model_name": "ProgressStyleModel",
      "_view_count": null,
      "_view_module": "@jupyter-widgets/base",
      "_view_module_version": "1.2.0",
      "_view_name": "StyleView",
      "bar_color": null,
      "description_width": "initial"
     }
    },
    "42c6061ef7e44f179db5a6e3551c0f17": {
     "model_module": "@jupyter-widgets/base",
     "model_name": "LayoutModel",
     "state": {
      "_model_module": "@jupyter-widgets/base",
      "_model_module_version": "1.2.0",
      "_model_name": "LayoutModel",
      "_view_count": null,
      "_view_module": "@jupyter-widgets/base",
      "_view_module_version": "1.2.0",
      "_view_name": "LayoutView",
      "align_content": null,
      "align_items": null,
      "align_self": null,
      "border": null,
      "bottom": null,
      "display": null,
      "flex": null,
      "flex_flow": null,
      "grid_area": null,
      "grid_auto_columns": null,
      "grid_auto_flow": null,
      "grid_auto_rows": null,
      "grid_column": null,
      "grid_gap": null,
      "grid_row": null,
      "grid_template_areas": null,
      "grid_template_columns": null,
      "grid_template_rows": null,
      "height": null,
      "justify_content": null,
      "justify_items": null,
      "left": null,
      "margin": null,
      "max_height": null,
      "max_width": null,
      "min_height": null,
      "min_width": null,
      "object_fit": null,
      "object_position": null,
      "order": null,
      "overflow": null,
      "overflow_x": null,
      "overflow_y": null,
      "padding": null,
      "right": null,
      "top": null,
      "visibility": null,
      "width": null
     }
    },
    "6feb10aeb43147e6aba028d065947ae8": {
     "model_module": "@jupyter-widgets/base",
     "model_name": "LayoutModel",
     "state": {
      "_model_module": "@jupyter-widgets/base",
      "_model_module_version": "1.2.0",
      "_model_name": "LayoutModel",
      "_view_count": null,
      "_view_module": "@jupyter-widgets/base",
      "_view_module_version": "1.2.0",
      "_view_name": "LayoutView",
      "align_content": null,
      "align_items": null,
      "align_self": null,
      "border": null,
      "bottom": null,
      "display": null,
      "flex": null,
      "flex_flow": null,
      "grid_area": null,
      "grid_auto_columns": null,
      "grid_auto_flow": null,
      "grid_auto_rows": null,
      "grid_column": null,
      "grid_gap": null,
      "grid_row": null,
      "grid_template_areas": null,
      "grid_template_columns": null,
      "grid_template_rows": null,
      "height": null,
      "justify_content": null,
      "justify_items": null,
      "left": null,
      "margin": null,
      "max_height": null,
      "max_width": null,
      "min_height": null,
      "min_width": null,
      "object_fit": null,
      "object_position": null,
      "order": null,
      "overflow": null,
      "overflow_x": null,
      "overflow_y": null,
      "padding": null,
      "right": null,
      "top": null,
      "visibility": null,
      "width": null
     }
    },
    "837c9ddc3d594e088891874560c646b8": {
     "model_module": "@jupyter-widgets/controls",
     "model_name": "FloatProgressModel",
     "state": {
      "_dom_classes": [],
      "_model_module": "@jupyter-widgets/controls",
      "_model_module_version": "1.5.0",
      "_model_name": "FloatProgressModel",
      "_view_count": null,
      "_view_module": "@jupyter-widgets/controls",
      "_view_module_version": "1.5.0",
      "_view_name": "ProgressView",
      "bar_style": "success",
      "description": "Epoch: 100%",
      "description_tooltip": null,
      "layout": "IPY_MODEL_fe20a8dae6e84628b5076d02183090f5",
      "max": 1,
      "min": 0,
      "orientation": "horizontal",
      "style": "IPY_MODEL_40bf955ba0284e84b198da6be8654219",
      "value": 1
     }
    },
    "8388e9da9da4492c98c19235ca5fc1b5": {
     "model_module": "@jupyter-widgets/controls",
     "model_name": "DescriptionStyleModel",
     "state": {
      "_model_module": "@jupyter-widgets/controls",
      "_model_module_version": "1.5.0",
      "_model_name": "DescriptionStyleModel",
      "_view_count": null,
      "_view_module": "@jupyter-widgets/base",
      "_view_module_version": "1.2.0",
      "_view_name": "StyleView",
      "description_width": ""
     }
    },
    "93b3f9eae3cb4e3e859cf456e3547c6d": {
     "model_module": "@jupyter-widgets/controls",
     "model_name": "DescriptionStyleModel",
     "state": {
      "_model_module": "@jupyter-widgets/controls",
      "_model_module_version": "1.5.0",
      "_model_name": "DescriptionStyleModel",
      "_view_count": null,
      "_view_module": "@jupyter-widgets/base",
      "_view_module_version": "1.2.0",
      "_view_name": "StyleView",
      "description_width": ""
     }
    },
    "a491e8caa0a048beb3b5259f14eb233f": {
     "model_module": "@jupyter-widgets/base",
     "model_name": "LayoutModel",
     "state": {
      "_model_module": "@jupyter-widgets/base",
      "_model_module_version": "1.2.0",
      "_model_name": "LayoutModel",
      "_view_count": null,
      "_view_module": "@jupyter-widgets/base",
      "_view_module_version": "1.2.0",
      "_view_name": "LayoutView",
      "align_content": null,
      "align_items": null,
      "align_self": null,
      "border": null,
      "bottom": null,
      "display": null,
      "flex": null,
      "flex_flow": null,
      "grid_area": null,
      "grid_auto_columns": null,
      "grid_auto_flow": null,
      "grid_auto_rows": null,
      "grid_column": null,
      "grid_gap": null,
      "grid_row": null,
      "grid_template_areas": null,
      "grid_template_columns": null,
      "grid_template_rows": null,
      "height": null,
      "justify_content": null,
      "justify_items": null,
      "left": null,
      "margin": null,
      "max_height": null,
      "max_width": null,
      "min_height": null,
      "min_width": null,
      "object_fit": null,
      "object_position": null,
      "order": null,
      "overflow": null,
      "overflow_x": null,
      "overflow_y": null,
      "padding": null,
      "right": null,
      "top": null,
      "visibility": null,
      "width": null
     }
    },
    "a58a66392b644b1384661e850c077a6c": {
     "model_module": "@jupyter-widgets/controls",
     "model_name": "HBoxModel",
     "state": {
      "_dom_classes": [],
      "_model_module": "@jupyter-widgets/controls",
      "_model_module_version": "1.5.0",
      "_model_name": "HBoxModel",
      "_view_count": null,
      "_view_module": "@jupyter-widgets/controls",
      "_view_module_version": "1.5.0",
      "_view_name": "HBoxView",
      "box_style": "",
      "children": [
       "IPY_MODEL_837c9ddc3d594e088891874560c646b8",
       "IPY_MODEL_dbf50873d62c4ba39321faefbed0cca5"
      ],
      "layout": "IPY_MODEL_a491e8caa0a048beb3b5259f14eb233f"
     }
    },
    "d295dd80550447d88da0f04ce36a22ff": {
     "model_module": "@jupyter-widgets/controls",
     "model_name": "FloatProgressModel",
     "state": {
      "_dom_classes": [],
      "_model_module": "@jupyter-widgets/controls",
      "_model_module_version": "1.5.0",
      "_model_name": "FloatProgressModel",
      "_view_count": null,
      "_view_module": "@jupyter-widgets/controls",
      "_view_module_version": "1.5.0",
      "_view_name": "ProgressView",
      "bar_style": "success",
      "description": "Iteration: 100%",
      "description_tooltip": null,
      "layout": "IPY_MODEL_016d7c8318f742c1943464b08232a510",
      "max": 15228,
      "min": 0,
      "orientation": "horizontal",
      "style": "IPY_MODEL_e7d8c3a4fecd40778e32966b29ea65a1",
      "value": 15228
     }
    },
    "dbf50873d62c4ba39321faefbed0cca5": {
     "model_module": "@jupyter-widgets/controls",
     "model_name": "HTMLModel",
     "state": {
      "_dom_classes": [],
      "_model_module": "@jupyter-widgets/controls",
      "_model_module_version": "1.5.0",
      "_model_name": "HTMLModel",
      "_view_count": null,
      "_view_module": "@jupyter-widgets/controls",
      "_view_module_version": "1.5.0",
      "_view_name": "HTMLView",
      "description": "",
      "description_tooltip": null,
      "layout": "IPY_MODEL_6feb10aeb43147e6aba028d065947ae8",
      "placeholder": "​",
      "style": "IPY_MODEL_93b3f9eae3cb4e3e859cf456e3547c6d",
      "value": " 1/1 [2:46:46&lt;00:00, 10006.17s/it]"
     }
    },
    "e7d8c3a4fecd40778e32966b29ea65a1": {
     "model_module": "@jupyter-widgets/controls",
     "model_name": "ProgressStyleModel",
     "state": {
      "_model_module": "@jupyter-widgets/controls",
      "_model_module_version": "1.5.0",
      "_model_name": "ProgressStyleModel",
      "_view_count": null,
      "_view_module": "@jupyter-widgets/base",
      "_view_module_version": "1.2.0",
      "_view_name": "StyleView",
      "bar_color": null,
      "description_width": "initial"
     }
    },
    "fe20a8dae6e84628b5076d02183090f5": {
     "model_module": "@jupyter-widgets/base",
     "model_name": "LayoutModel",
     "state": {
      "_model_module": "@jupyter-widgets/base",
      "_model_module_version": "1.2.0",
      "_model_name": "LayoutModel",
      "_view_count": null,
      "_view_module": "@jupyter-widgets/base",
      "_view_module_version": "1.2.0",
      "_view_name": "LayoutView",
      "align_content": null,
      "align_items": null,
      "align_self": null,
      "border": null,
      "bottom": null,
      "display": null,
      "flex": null,
      "flex_flow": null,
      "grid_area": null,
      "grid_auto_columns": null,
      "grid_auto_flow": null,
      "grid_auto_rows": null,
      "grid_column": null,
      "grid_gap": null,
      "grid_row": null,
      "grid_template_areas": null,
      "grid_template_columns": null,
      "grid_template_rows": null,
      "height": null,
      "justify_content": null,
      "justify_items": null,
      "left": null,
      "margin": null,
      "max_height": null,
      "max_width": null,
      "min_height": null,
      "min_width": null,
      "object_fit": null,
      "object_position": null,
      "order": null,
      "overflow": null,
      "overflow_x": null,
      "overflow_y": null,
      "padding": null,
      "right": null,
      "top": null,
      "visibility": null,
      "width": null
     }
    }
   }
  }
 },
 "nbformat": 4,
 "nbformat_minor": 1
}
