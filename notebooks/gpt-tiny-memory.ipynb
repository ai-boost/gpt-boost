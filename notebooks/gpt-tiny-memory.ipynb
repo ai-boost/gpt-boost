{
 "cells": [
  {
   "cell_type": "markdown",
   "metadata": {},
   "source": [
    "# args & validate dataset"
   ]
  },
  {
   "cell_type": "code",
   "execution_count": 3,
   "metadata": {},
   "outputs": [],
   "source": [
    "model_path = \"E:\\\\data\\\\models\\\\gpt-boost\\\\gpt-tiny-memory\"\n",
    "data_path = \"E:\\\\data\\\\corpus\\\\gpt-boost\\\\novel.txt\"\n",
    "tokenizer_path = \".\\\\tokenizer\"\n",
    "tb_path = \".\\\\runs\\\\gpt-tiny-memory\""
   ]
  },
  {
   "cell_type": "code",
   "execution_count": 2,
   "metadata": {},
   "outputs": [],
   "source": [
    "n_embd=512\n",
    "n_head=8\n",
    "n_layer=4\n",
    "n_positions=256\n",
    "vocab_size=20000\n",
    "finetuning_mode=False"
   ]
  },
  {
   "cell_type": "code",
   "execution_count": 3,
   "metadata": {},
   "outputs": [],
   "source": [
    "learning_rate=1e-3\n",
    "gradient_accumulation_steps=4\n",
    "num_train_epochs=40\n",
    "per_device_train_batch_size=8"
   ]
  },
  {
   "cell_type": "markdown",
   "metadata": {
    "colab_type": "text",
    "id": "yAwQ82JiE5pi"
   },
   "source": [
    "# 1. create tokenizer"
   ]
  },
  {
   "cell_type": "code",
   "execution_count": 4,
   "metadata": {
    "colab": {},
    "colab_type": "code",
    "id": "4keFBUjQFOD1",
    "scrolled": true
   },
   "outputs": [
    {
     "name": "stderr",
     "output_type": "stream",
     "text": [
      "Special tokens have been added in the vocabulary, make sure the associated word emebedding are fine-tuned or trained.\n"
     ]
    }
   ],
   "source": [
    "from transformers import GPT2TokenizerFast\n",
    "tokenizer = GPT2TokenizerFast.from_pretrained(tokenizer_path, max_len=256)"
   ]
  },
  {
   "cell_type": "markdown",
   "metadata": {},
   "source": [
    "# 2. initialize model"
   ]
  },
  {
   "cell_type": "code",
   "execution_count": 5,
   "metadata": {
    "colab": {},
    "colab_type": "code",
    "id": "BzMqR-dzF4Ro",
    "scrolled": false
   },
   "outputs": [
    {
     "name": "stderr",
     "output_type": "stream",
     "text": [
      "FAISS library was not found.\n",
      "FAISS not available. Switching to standard nearest neighbors search implementation.\n",
      "WARNING: if you use batch normalization, be sure that you use batches of sentences with the same size at training time. Otherwise, the padding token will result in incorrect mean/variance estimations in the BatchNorm layer.\n"
     ]
    }
   ],
   "source": [
    "import sys\n",
    "sys.path.append(\"../\")\n",
    "from models.memory.modeling_gpt2_memory import GPT2LMHeadModel\n",
    "\n",
    "if finetuning_mode:\n",
    "    model = GPT2LMHeadModel.from_pretrained(model_path)\n",
    "else:\n",
    "    from transformers import GPT2Config\n",
    "    config = GPT2Config(\n",
    "        n_embd=n_embd,\n",
    "        n_head=n_head,\n",
    "        n_layer=n_layer,\n",
    "        n_positions=n_positions,\n",
    "        vocab_size=vocab_size\n",
    "    )\n",
    "    model = GPT2LMHeadModel(config=config)"
   ]
  },
  {
   "cell_type": "code",
   "execution_count": 6,
   "metadata": {
    "colab": {
     "base_uri": "https://localhost:8080/",
     "height": 34
    },
    "colab_type": "code",
    "id": "jU6JhBSTKiaM",
    "outputId": "35879a60-2915-4894-f702-2d649cfa398a"
   },
   "outputs": [
    {
     "data": {
      "text/plain": [
       "161405952"
      ]
     },
     "execution_count": 6,
     "metadata": {},
     "output_type": "execute_result"
    }
   ],
   "source": [
    "model.num_parameters()\n",
    "# => 161405952 parameters (约1.6B)"
   ]
  },
  {
   "cell_type": "markdown",
   "metadata": {
    "colab_type": "text",
    "id": "jBtUHRMliOLM"
   },
   "source": [
    "# 3. build training Dataset"
   ]
  },
  {
   "cell_type": "code",
   "execution_count": 7,
   "metadata": {
    "colab": {
     "base_uri": "https://localhost:8080/",
     "height": 52
    },
    "colab_type": "code",
    "id": "GlvP_A-THEEl",
    "outputId": "e0510a33-7937-4a04-fa1c-d4e20b758bb2"
   },
   "outputs": [],
   "source": [
    "from transformers import TextDataset\n",
    "\n",
    "dataset = TextDataset(\n",
    "    tokenizer=tokenizer,\n",
    "    file_path=data_path,\n",
    "    block_size=256,\n",
    ")"
   ]
  },
  {
   "cell_type": "markdown",
   "metadata": {
    "colab_type": "text",
    "id": "hDLs73HcIHk5"
   },
   "source": [
    "Like in the [`run_language_modeling.py`](https://github.com/huggingface/transformers/blob/master/examples/language-modeling/run_language_modeling.py) script, we need to define a data_collator.\n",
    "\n",
    "This is just a small helper that will help us batch different samples of the dataset together into an object that PyTorch knows how to perform backprop on."
   ]
  },
  {
   "cell_type": "code",
   "execution_count": 8,
   "metadata": {
    "colab": {},
    "colab_type": "code",
    "id": "zTgWPa9Dipk2"
   },
   "outputs": [],
   "source": [
    "from transformers import DataCollatorForLanguageModeling\n",
    "\n",
    "data_collator = DataCollatorForLanguageModeling(\n",
    "    tokenizer=tokenizer, mlm=False\n",
    ")"
   ]
  },
  {
   "cell_type": "markdown",
   "metadata": {
    "colab_type": "text",
    "id": "ri2BIQKqjfHm"
   },
   "source": [
    "# 4. initialize our Trainer & Train & Save"
   ]
  },
  {
   "cell_type": "code",
   "execution_count": 9,
   "metadata": {
    "colab": {},
    "colab_type": "code",
    "id": "YpvnFFmZJD-N"
   },
   "outputs": [
    {
     "name": "stderr",
     "output_type": "stream",
     "text": [
      "E:\\Users\\anshengqiang\\anaconda3\\lib\\site-packages\\transformers\\trainer.py:245: FutureWarning: Passing `prediction_loss_only` as a keyword argument is deprecated and won't be possible in a future version. Use `args.prediction_loss_only` instead.\n",
      "  warnings.warn(\n"
     ]
    }
   ],
   "source": [
    "from transformers import Trainer, TrainingArguments\n",
    "\n",
    "training_args = TrainingArguments(\n",
    "    output_dir=model_path,\n",
    "    overwrite_output_dir=True,\n",
    "    no_cuda=False,\n",
    "    do_train=True,\n",
    "    fp16=True,\n",
    "    logging_dir=tb_path,\n",
    "    logging_steps=100,\n",
    "    learning_rate=learning_rate,\n",
    "    gradient_accumulation_steps=gradient_accumulation_steps,\n",
    "    num_train_epochs=num_train_epochs,\n",
    "    per_device_train_batch_size=per_device_train_batch_size,\n",
    "    save_steps=1000,\n",
    "    save_total_limit=2\n",
    ")\n",
    "\n",
    "trainer = Trainer(\n",
    "    model=model,\n",
    "    args=training_args,\n",
    "    data_collator=data_collator,\n",
    "    train_dataset=dataset,\n",
    "    prediction_loss_only=True,\n",
    ")"
   ]
  },
  {
   "cell_type": "code",
   "execution_count": 10,
   "metadata": {
    "colab": {
     "base_uri": "https://localhost:8080/",
     "height": 738,
     "referenced_widgets": [
      "a58a66392b644b1384661e850c077a6c",
      "a491e8caa0a048beb3b5259f14eb233f",
      "837c9ddc3d594e088891874560c646b8",
      "dbf50873d62c4ba39321faefbed0cca5",
      "40bf955ba0284e84b198da6be8654219",
      "fe20a8dae6e84628b5076d02183090f5",
      "93b3f9eae3cb4e3e859cf456e3547c6d",
      "6feb10aeb43147e6aba028d065947ae8",
      "0989d41a4da24e9ebff377e02127642c",
      "42c6061ef7e44f179db5a6e3551c0f17",
      "d295dd80550447d88da0f04ce36a22ff",
      "04e7e6d291da49d5816dc98a2904e95c",
      "e7d8c3a4fecd40778e32966b29ea65a1",
      "016d7c8318f742c1943464b08232a510",
      "8388e9da9da4492c98c19235ca5fc1b5",
      "39c23c6a972b419eb2eeeebafeaedc22"
     ]
    },
    "colab_type": "code",
    "collapsed": true,
    "id": "VmaHZXzmkNtJ",
    "outputId": "a19880cb-bcc6-4885-bf24-c2c6d0f56d1e"
   },
   "outputs": [
    {
     "data": {
      "application/vnd.jupyter.widget-view+json": {
       "model_id": "e35ec17bf61d40eb8ee00740df594c41",
       "version_major": 2,
       "version_minor": 0
      },
      "text/plain": [
       "HBox(children=(FloatProgress(value=0.0, description='Epoch', max=40.0, style=ProgressStyle(description_width='…"
      ]
     },
     "metadata": {},
     "output_type": "display_data"
    },
    {
     "data": {
      "application/vnd.jupyter.widget-view+json": {
       "model_id": "83a0fa25ed5a4813a6f80e6e276cc92b",
       "version_major": 2,
       "version_minor": 0
      },
      "text/plain": [
       "HBox(children=(FloatProgress(value=0.0, description='Iteration', max=22899.0, style=ProgressStyle(description_…"
      ]
     },
     "metadata": {},
     "output_type": "display_data"
    },
    {
     "name": "stdout",
     "output_type": "stream",
     "text": [
      "{'loss': 7.406942138671875, 'learning_rate': 0.000999563242487771, 'epoch': 0.01746801170356784, 'step': 100}\n",
      "{'loss': 7.035367431640625, 'learning_rate': 0.0009991264849755416, 'epoch': 0.03493602340713568, 'step': 200}\n",
      "{'loss': 6.83661376953125, 'learning_rate': 0.0009986897274633123, 'epoch': 0.052404035110703524, 'step': 300}\n",
      "{'loss': 6.65123779296875, 'learning_rate': 0.0009982529699510832, 'epoch': 0.06987204681427137, 'step': 400}\n",
      "{'loss': 6.44953369140625, 'learning_rate': 0.000997816212438854, 'epoch': 0.0873400585178392, 'step': 500}\n",
      "{'loss': 6.2636328125, 'learning_rate': 0.0009973794549266246, 'epoch': 0.10480807022140705, 'step': 600}\n",
      "{'loss': 6.12408447265625, 'learning_rate': 0.0009969426974143956, 'epoch': 0.12227608192497488, 'step': 700}\n",
      "{'loss': 5.999541015625, 'learning_rate': 0.0009965059399021663, 'epoch': 0.13974409362854273, 'step': 800}\n",
      "{'loss': 5.910390625, 'learning_rate': 0.0009960691823899372, 'epoch': 0.15721210533211058, 'step': 900}\n",
      "{'loss': 5.8230078125, 'learning_rate': 0.0009956324248777079, 'epoch': 0.1746801170356784, 'step': 1000}\n"
     ]
    },
    {
     "name": "stderr",
     "output_type": "stream",
     "text": [
      "E:\\Users\\anshengqiang\\anaconda3\\lib\\site-packages\\torch\\optim\\lr_scheduler.py:200: UserWarning: Please also save or load the state of the optimzer when saving or loading the scheduler.\n",
      "  warnings.warn(SAVE_STATE_WARNING, UserWarning)\n"
     ]
    },
    {
     "name": "stdout",
     "output_type": "stream",
     "text": [
      "{'loss': 5.7264453125, 'learning_rate': 0.0009951956673654788, 'epoch': 0.19214812873924625, 'step': 1100}\n",
      "{'loss': 5.66408203125, 'learning_rate': 0.0009947589098532495, 'epoch': 0.2096161404428141, 'step': 1200}\n",
      "{'loss': 5.587314453125, 'learning_rate': 0.0009943221523410204, 'epoch': 0.22708415214638195, 'step': 1300}\n",
      "{'loss': 5.53396484375, 'learning_rate': 0.000993885394828791, 'epoch': 0.24455216384994977, 'step': 1400}\n",
      "{'loss': 5.48033203125, 'learning_rate': 0.0009934486373165618, 'epoch': 0.26202017555351764, 'step': 1500}\n",
      "{'loss': 5.4062890625, 'learning_rate': 0.0009930118798043327, 'epoch': 0.27948818725708546, 'step': 1600}\n",
      "{'loss': 5.356865234375, 'learning_rate': 0.0009925751222921034, 'epoch': 0.2969561989606533, 'step': 1700}\n",
      "{'loss': 5.306728515625, 'learning_rate': 0.000992138364779874, 'epoch': 0.31442421066422116, 'step': 1800}\n",
      "{'loss': 5.2624609375, 'learning_rate': 0.000991701607267645, 'epoch': 0.331892222367789, 'step': 1900}\n",
      "{'loss': 5.2238671875, 'learning_rate': 0.000991264849755416, 'epoch': 0.3493602340713568, 'step': 2000}\n",
      "{'loss': 5.18734375, 'learning_rate': 0.0009908280922431866, 'epoch': 0.3668282457749247, 'step': 2100}\n",
      "{'loss': 5.1476171875, 'learning_rate': 0.0009903913347309573, 'epoch': 0.3842962574784925, 'step': 2200}\n",
      "{'loss': 5.11373046875, 'learning_rate': 0.0009899545772187282, 'epoch': 0.4017642691820604, 'step': 2300}\n",
      "{'loss': 5.072978515625, 'learning_rate': 0.000989517819706499, 'epoch': 0.4192322808856282, 'step': 2400}\n",
      "{'loss': 5.041181640625, 'learning_rate': 0.0009890810621942696, 'epoch': 0.436700292589196, 'step': 2500}\n",
      "{'loss': 5.029140625, 'learning_rate': 0.0009886443046820406, 'epoch': 0.4541683042927639, 'step': 2600}\n",
      "{'loss': 4.99439453125, 'learning_rate': 0.0009882075471698113, 'epoch': 0.4716363159963317, 'step': 2700}\n",
      "{'loss': 4.97474609375, 'learning_rate': 0.0009877707896575822, 'epoch': 0.48910432769989953, 'step': 2800}\n",
      "{'loss': 4.945458984375, 'learning_rate': 0.0009873340321453529, 'epoch': 0.5065723394034674, 'step': 2900}\n",
      "{'loss': 4.92951171875, 'learning_rate': 0.0009868972746331238, 'epoch': 0.5240403511070353, 'step': 3000}\n",
      "{'loss': 4.90814453125, 'learning_rate': 0.0009864605171208945, 'epoch': 0.5415083628106031, 'step': 3100}\n",
      "{'loss': 4.8873828125, 'learning_rate': 0.0009860237596086654, 'epoch': 0.5589763745141709, 'step': 3200}\n",
      "{'loss': 4.885546875, 'learning_rate': 0.000985587002096436, 'epoch': 0.5764443862177387, 'step': 3300}\n",
      "{'loss': 4.85591796875, 'learning_rate': 0.0009851502445842068, 'epoch': 0.5939123979213066, 'step': 3400}\n",
      "{'loss': 4.83505859375, 'learning_rate': 0.0009847134870719777, 'epoch': 0.6113804096248745, 'step': 3500}\n",
      "{'loss': 4.84494140625, 'learning_rate': 0.0009842767295597484, 'epoch': 0.6288484213284423, 'step': 3600}\n",
      "{'loss': 4.807109375, 'learning_rate': 0.000983839972047519, 'epoch': 0.6463164330320101, 'step': 3700}\n",
      "{'loss': 4.801328125, 'learning_rate': 0.00098340321453529, 'epoch': 0.663784444735578, 'step': 3800}\n",
      "{'loss': 4.79314453125, 'learning_rate': 0.000982966457023061, 'epoch': 0.6812524564391458, 'step': 3900}\n",
      "{'loss': 4.7735546875, 'learning_rate': 0.0009825296995108316, 'epoch': 0.6987204681427136, 'step': 4000}\n",
      "{'loss': 4.7471875, 'learning_rate': 0.0009820929419986023, 'epoch': 0.7161884798462815, 'step': 4100}\n",
      "{'loss': 4.74111328125, 'learning_rate': 0.0009816561844863732, 'epoch': 0.7336564915498494, 'step': 4200}\n",
      "{'loss': 4.71802734375, 'learning_rate': 0.000981219426974144, 'epoch': 0.7511245032534172, 'step': 4300}\n",
      "{'loss': 4.71787109375, 'learning_rate': 0.0009807826694619146, 'epoch': 0.768592514956985, 'step': 4400}\n",
      "{'loss': 4.70765625, 'learning_rate': 0.0009803459119496856, 'epoch': 0.7860605266605528, 'step': 4500}\n",
      "{'loss': 4.71498046875, 'learning_rate': 0.0009799091544374563, 'epoch': 0.8035285383641207, 'step': 4600}\n",
      "{'loss': 4.69205078125, 'learning_rate': 0.0009794723969252272, 'epoch': 0.8209965500676886, 'step': 4700}\n",
      "{'loss': 4.678125, 'learning_rate': 0.0009790356394129979, 'epoch': 0.8384645617712564, 'step': 4800}\n",
      "{'loss': 4.68109375, 'learning_rate': 0.0009785988819007688, 'epoch': 0.8559325734748242, 'step': 4900}\n",
      "{'loss': 4.6590625, 'learning_rate': 0.0009781621243885395, 'epoch': 0.873400585178392, 'step': 5000}\n",
      "{'loss': 4.653125, 'learning_rate': 0.0009777253668763104, 'epoch': 0.89086859688196, 'step': 5100}\n",
      "{'loss': 4.636171875, 'learning_rate': 0.000977288609364081, 'epoch': 0.9083366085855278, 'step': 5200}\n",
      "{'loss': 4.637734375, 'learning_rate': 0.0009768518518518518, 'epoch': 0.9258046202890956, 'step': 5300}\n",
      "{'loss': 4.62625, 'learning_rate': 0.0009764150943396226, 'epoch': 0.9432726319926634, 'step': 5400}\n",
      "{'loss': 4.61525390625, 'learning_rate': 0.0009759783368273934, 'epoch': 0.9607406436962312, 'step': 5500}\n",
      "{'loss': 4.6208203125, 'learning_rate': 0.0009755415793151643, 'epoch': 0.9782086553997991, 'step': 5600}\n",
      "{'loss': 4.61208984375, 'learning_rate': 0.000975104821802935, 'epoch': 0.995676667103367, 'step': 5700}\n",
      "\n"
     ]
    },
    {
     "data": {
      "application/vnd.jupyter.widget-view+json": {
       "model_id": "ba1a05318c1f4303967ee4afb634d5fa",
       "version_major": 2,
       "version_minor": 0
      },
      "text/plain": [
       "HBox(children=(FloatProgress(value=0.0, description='Iteration', max=22899.0, style=ProgressStyle(description_…"
      ]
     },
     "metadata": {},
     "output_type": "display_data"
    },
    {
     "name": "stdout",
     "output_type": "stream",
     "text": [
      "{'loss': 4.577109375, 'learning_rate': 0.0009746680642907058, 'epoch': 1.0132756888947116, 'step': 5800}\n",
      "{'loss': 4.5317578125, 'learning_rate': 0.0009742313067784766, 'epoch': 1.0307437005982794, 'step': 5900}\n",
      "{'loss': 4.5296484375, 'learning_rate': 0.0009737945492662474, 'epoch': 1.0482117123018473, 'step': 6000}\n",
      "{'loss': 4.52201171875, 'learning_rate': 0.0009733577917540181, 'epoch': 1.065679724005415, 'step': 6100}\n",
      "{'loss': 4.540078125, 'learning_rate': 0.0009729210342417891, 'epoch': 1.083147735708983, 'step': 6200}\n",
      "{'loss': 4.51197265625, 'learning_rate': 0.0009724842767295598, 'epoch': 1.1006157474125509, 'step': 6300}\n",
      "{'loss': 4.5257421875, 'learning_rate': 0.0009720475192173306, 'epoch': 1.1180837591161186, 'step': 6400}\n",
      "{'loss': 4.5166796875, 'learning_rate': 0.0009716107617051014, 'epoch': 1.1355517708196865, 'step': 6500}\n",
      "{'loss': 4.528515625, 'learning_rate': 0.0009711740041928722, 'epoch': 1.1530197825232542, 'step': 6600}\n",
      "{'loss': 4.504453125, 'learning_rate': 0.0009707372466806429, 'epoch': 1.1704877942268221, 'step': 6700}\n",
      "{'loss': 4.505859375, 'learning_rate': 0.0009703004891684138, 'epoch': 1.18795580593039, 'step': 6800}\n",
      "{'loss': 4.5090234375, 'learning_rate': 0.0009698637316561845, 'epoch': 1.2054238176339578, 'step': 6900}\n",
      "{'loss': 4.486484375, 'learning_rate': 0.0009694269741439553, 'epoch': 1.2228918293375257, 'step': 7000}\n",
      "{'loss': 4.4883203125, 'learning_rate': 0.000968990216631726, 'epoch': 1.2403598410410934, 'step': 7100}\n",
      "{'loss': 4.4876171875, 'learning_rate': 0.0009685534591194969, 'epoch': 1.2578278527446614, 'step': 7200}\n",
      "{'loss': 4.493203125, 'learning_rate': 0.0009681167016072676, 'epoch': 1.2752958644482293, 'step': 7300}\n",
      "{'loss': 4.4790625, 'learning_rate': 0.0009676799440950384, 'epoch': 1.292763876151797, 'step': 7400}\n",
      "{'loss': 4.4780859375, 'learning_rate': 0.0009672431865828093, 'epoch': 1.310231887855365, 'step': 7500}\n",
      "{'loss': 4.4707421875, 'learning_rate': 0.00096680642907058, 'epoch': 1.3276998995589326, 'step': 7600}\n",
      "{'loss': 4.4590234375, 'learning_rate': 0.0009663696715583508, 'epoch': 1.3451679112625006, 'step': 7700}\n",
      "{'loss': 4.460078125, 'learning_rate': 0.0009659329140461216, 'epoch': 1.3626359229660685, 'step': 7800}\n",
      "{'loss': 4.468359375, 'learning_rate': 0.0009654961565338924, 'epoch': 1.3801039346696362, 'step': 7900}\n",
      "{'loss': 4.447109375, 'learning_rate': 0.0009650593990216631, 'epoch': 1.3975719463732041, 'step': 8000}\n",
      "{'loss': 4.4640234375, 'learning_rate': 0.0009646226415094341, 'epoch': 1.4150399580767719, 'step': 8100}\n",
      "{'loss': 4.4341015625, 'learning_rate': 0.0009641858839972048, 'epoch': 1.4325079697803398, 'step': 8200}\n",
      "{'loss': 4.4534765625, 'learning_rate': 0.0009637491264849756, 'epoch': 1.4499759814839077, 'step': 8300}\n",
      "{'loss': 4.425234375, 'learning_rate': 0.0009633123689727464, 'epoch': 1.4674439931874754, 'step': 8400}\n",
      "{'loss': 4.4327734375, 'learning_rate': 0.0009628756114605172, 'epoch': 1.4849120048910434, 'step': 8500}\n",
      "{'loss': 4.4289453125, 'learning_rate': 0.0009624388539482879, 'epoch': 1.502380016594611, 'step': 8600}\n",
      "{'loss': 4.4187109375, 'learning_rate': 0.0009620020964360588, 'epoch': 1.519848028298179, 'step': 8700}\n",
      "{'loss': 4.425390625, 'learning_rate': 0.0009615653389238295, 'epoch': 1.537316040001747, 'step': 8800}\n",
      "{'loss': 4.42578125, 'learning_rate': 0.0009611285814116003, 'epoch': 1.5547840517053146, 'step': 8900}\n",
      "{'loss': 4.4158984375, 'learning_rate': 0.000960691823899371, 'epoch': 1.5722520634088823, 'step': 9000}\n",
      "{'loss': 4.419609375, 'learning_rate': 0.0009602550663871419, 'epoch': 1.5897200751124503, 'step': 9100}\n",
      "{'loss': 4.4028515625, 'learning_rate': 0.0009598183088749126, 'epoch': 1.6071880868160182, 'step': 9200}\n",
      "{'loss': 4.4084375, 'learning_rate': 0.0009593815513626834, 'epoch': 1.6246560985195861, 'step': 9300}\n",
      "{'loss': 4.408125, 'learning_rate': 0.0009589447938504543, 'epoch': 1.6421241102231539, 'step': 9400}\n",
      "{'loss': 4.3914453125, 'learning_rate': 0.000958508036338225, 'epoch': 1.6595921219267216, 'step': 9500}\n",
      "{'loss': 4.4026953125, 'learning_rate': 0.0009580712788259958, 'epoch': 1.6770601336302895, 'step': 9600}\n",
      "{'loss': 4.3990234375, 'learning_rate': 0.0009576345213137666, 'epoch': 1.6945281453338574, 'step': 9700}\n",
      "{'loss': 4.3898046875, 'learning_rate': 0.0009571977638015374, 'epoch': 1.7119961570374254, 'step': 9800}\n",
      "{'loss': 4.3835546875, 'learning_rate': 0.0009567610062893081, 'epoch': 1.729464168740993, 'step': 9900}\n",
      "{'loss': 4.379453125, 'learning_rate': 0.0009563242487770791, 'epoch': 1.7469321804445608, 'step': 10000}\n",
      "{'loss': 4.367421875, 'learning_rate': 0.0009558874912648498, 'epoch': 1.7644001921481287, 'step': 10100}\n",
      "{'loss': 4.3890234375, 'learning_rate': 0.0009554507337526206, 'epoch': 1.7818682038516966, 'step': 10200}\n",
      "{'loss': 4.38375, 'learning_rate': 0.0009550139762403914, 'epoch': 1.7993362155552646, 'step': 10300}\n",
      "{'loss': 4.3598828125, 'learning_rate': 0.0009545772187281622, 'epoch': 1.8168042272588323, 'step': 10400}\n",
      "{'loss': 4.355546875, 'learning_rate': 0.0009541404612159329, 'epoch': 1.8342722389624, 'step': 10500}\n",
      "{'loss': 4.3737890625, 'learning_rate': 0.0009537037037037038, 'epoch': 1.851740250665968, 'step': 10600}\n",
      "{'loss': 4.3621875, 'learning_rate': 0.0009532669461914745, 'epoch': 1.8692082623695359, 'step': 10700}\n",
      "{'loss': 4.3627734375, 'learning_rate': 0.0009528301886792453, 'epoch': 1.8866762740731038, 'step': 10800}\n",
      "{'loss': 4.3479296875, 'learning_rate': 0.000952393431167016, 'epoch': 1.9041442857766715, 'step': 10900}\n",
      "{'loss': 4.3489453125, 'learning_rate': 0.0009519566736547869, 'epoch': 1.9216122974802392, 'step': 11000}\n",
      "{'loss': 4.3642578125, 'learning_rate': 0.0009515199161425576, 'epoch': 1.9390803091838071, 'step': 11100}\n",
      "{'loss': 4.34109375, 'learning_rate': 0.0009510831586303284, 'epoch': 1.956548320887375, 'step': 11200}\n",
      "{'loss': 4.33140625, 'learning_rate': 0.0009506464011180993, 'epoch': 1.974016332590943, 'step': 11300}\n",
      "{'loss': 4.3526953125, 'learning_rate': 0.00095020964360587, 'epoch': 1.9914843442945107, 'step': 11400}\n",
      "\n"
     ]
    },
    {
     "data": {
      "application/vnd.jupyter.widget-view+json": {
       "model_id": "b08b9753269d4b6a9ae487e9915cbf1b",
       "version_major": 2,
       "version_minor": 0
      },
      "text/plain": [
       "HBox(children=(FloatProgress(value=0.0, description='Iteration', max=22899.0, style=ProgressStyle(description_…"
      ]
     },
     "metadata": {},
     "output_type": "display_data"
    },
    {
     "name": "stdout",
     "output_type": "stream",
     "text": [
      "{'loss': 4.333515625, 'learning_rate': 0.0009497728860936408, 'epoch': 2.0090833660858554, 'step': 11500}\n",
      "{'loss': 4.271484375, 'learning_rate': 0.0009493361285814116, 'epoch': 2.0265513777894233, 'step': 11600}\n",
      "{'loss': 4.2772265625, 'learning_rate': 0.0009488993710691824, 'epoch': 2.044019389492991, 'step': 11700}\n",
      "{'loss': 4.2760546875, 'learning_rate': 0.0009484626135569531, 'epoch': 2.0614874011965587, 'step': 11800}\n",
      "{'loss': 4.281875, 'learning_rate': 0.0009480258560447241, 'epoch': 2.0789554129001266, 'step': 11900}\n",
      "{'loss': 4.2698828125, 'learning_rate': 0.0009475890985324948, 'epoch': 2.0964234246036946, 'step': 12000}\n",
      "{'loss': 4.2681640625, 'learning_rate': 0.0009471523410202656, 'epoch': 2.1138914363072625, 'step': 12100}\n",
      "{'loss': 4.261015625, 'learning_rate': 0.0009467155835080364, 'epoch': 2.13135944801083, 'step': 12200}\n",
      "{'loss': 4.27296875, 'learning_rate': 0.0009462788259958072, 'epoch': 2.148827459714398, 'step': 12300}\n",
      "{'loss': 4.2641796875, 'learning_rate': 0.0009458420684835779, 'epoch': 2.166295471417966, 'step': 12400}\n",
      "{'loss': 4.2721875, 'learning_rate': 0.0009454053109713488, 'epoch': 2.183763483121534, 'step': 12500}\n",
      "{'loss': 4.269921875, 'learning_rate': 0.0009449685534591195, 'epoch': 2.2012314948251017, 'step': 12600}\n",
      "{'loss': 4.254140625, 'learning_rate': 0.0009445317959468903, 'epoch': 2.218699506528669, 'step': 12700}\n",
      "{'loss': 4.2691015625, 'learning_rate': 0.0009440950384346611, 'epoch': 2.236167518232237, 'step': 12800}\n",
      "{'loss': 4.2594921875, 'learning_rate': 0.0009436582809224319, 'epoch': 2.253635529935805, 'step': 12900}\n",
      "{'loss': 4.2553515625, 'learning_rate': 0.0009432215234102026, 'epoch': 2.271103541639373, 'step': 13000}\n",
      "{'loss': 4.2626171875, 'learning_rate': 0.0009427847658979734, 'epoch': 2.2885715533429405, 'step': 13100}\n",
      "{'loss': 4.26546875, 'learning_rate': 0.0009423480083857443, 'epoch': 2.3060395650465084, 'step': 13200}\n",
      "{'loss': 4.2648828125, 'learning_rate': 0.000941911250873515, 'epoch': 2.3235075767500764, 'step': 13300}\n",
      "{'loss': 4.2616015625, 'learning_rate': 0.0009414744933612858, 'epoch': 2.3409755884536443, 'step': 13400}\n",
      "{'loss': 4.262109375, 'learning_rate': 0.0009410377358490566, 'epoch': 2.358443600157212, 'step': 13500}\n",
      "{'loss': 4.2655859375, 'learning_rate': 0.0009406009783368274, 'epoch': 2.37591161186078, 'step': 13600}\n",
      "{'loss': 4.263359375, 'learning_rate': 0.0009401642208245981, 'epoch': 2.3933796235643476, 'step': 13700}\n",
      "{'loss': 4.249140625, 'learning_rate': 0.0009397274633123691, 'epoch': 2.4108476352679156, 'step': 13800}\n",
      "{'loss': 4.2509765625, 'learning_rate': 0.0009392907058001398, 'epoch': 2.4283156469714835, 'step': 13900}\n",
      "{'loss': 4.249140625, 'learning_rate': 0.0009388539482879106, 'epoch': 2.4457836586750514, 'step': 14000}\n",
      "{'loss': 4.245546875, 'learning_rate': 0.0009384171907756814, 'epoch': 2.463251670378619, 'step': 14100}\n",
      "{'loss': 4.249921875, 'learning_rate': 0.0009379804332634522, 'epoch': 2.480719682082187, 'step': 14200}\n",
      "{'loss': 4.25984375, 'learning_rate': 0.0009375436757512229, 'epoch': 2.498187693785755, 'step': 14300}\n",
      "{'loss': 4.233828125, 'learning_rate': 0.0009371069182389938, 'epoch': 2.5156557054893227, 'step': 14400}\n",
      "{'loss': 4.249921875, 'learning_rate': 0.0009366701607267645, 'epoch': 2.5331237171928906, 'step': 14500}\n",
      "{'loss': 4.256171875, 'learning_rate': 0.0009362334032145353, 'epoch': 2.5505917288964586, 'step': 14600}\n",
      "{'loss': 4.25453125, 'learning_rate': 0.0009357966457023061, 'epoch': 2.568059740600026, 'step': 14700}\n",
      "{'loss': 4.2434375, 'learning_rate': 0.0009353598881900769, 'epoch': 2.585527752303594, 'step': 14800}\n",
      "{'loss': 4.238828125, 'learning_rate': 0.0009349231306778477, 'epoch': 2.602995764007162, 'step': 14900}\n",
      "{'loss': 4.23796875, 'learning_rate': 0.0009344863731656184, 'epoch': 2.62046377571073, 'step': 15000}\n",
      "{'loss': 4.2365625, 'learning_rate': 0.0009340496156533893, 'epoch': 2.6379317874142973, 'step': 15100}\n",
      "{'loss': 4.230546875, 'learning_rate': 0.00093361285814116, 'epoch': 2.6553997991178653, 'step': 15200}\n",
      "{'loss': 4.23, 'learning_rate': 0.0009331761006289308, 'epoch': 2.672867810821433, 'step': 15300}\n",
      "{'loss': 4.22515625, 'learning_rate': 0.0009327393431167016, 'epoch': 2.690335822525001, 'step': 15400}\n",
      "{'loss': 4.23, 'learning_rate': 0.0009323025856044724, 'epoch': 2.707803834228569, 'step': 15500}\n",
      "{'loss': 4.233125, 'learning_rate': 0.0009318658280922431, 'epoch': 2.725271845932137, 'step': 15600}\n",
      "{'loss': 4.2275, 'learning_rate': 0.0009314290705800141, 'epoch': 2.7427398576357045, 'step': 15700}\n",
      "{'loss': 4.225859375, 'learning_rate': 0.0009309923130677848, 'epoch': 2.7602078693392724, 'step': 15800}\n",
      "{'loss': 4.22046875, 'learning_rate': 0.0009305555555555556, 'epoch': 2.7776758810428404, 'step': 15900}\n",
      "{'loss': 4.23140625, 'learning_rate': 0.0009301187980433264, 'epoch': 2.7951438927464083, 'step': 16000}\n",
      "{'loss': 4.2365625, 'learning_rate': 0.0009296820405310972, 'epoch': 2.8126119044499758, 'step': 16100}\n",
      "{'loss': 4.2221875, 'learning_rate': 0.0009292452830188679, 'epoch': 2.8300799161535437, 'step': 16200}\n",
      "{'loss': 4.22484375, 'learning_rate': 0.0009288085255066388, 'epoch': 2.8475479278571116, 'step': 16300}\n",
      "{'loss': 4.224921875, 'learning_rate': 0.0009283717679944095, 'epoch': 2.8650159395606796, 'step': 16400}\n",
      "{'loss': 4.228046875, 'learning_rate': 0.0009279350104821803, 'epoch': 2.8824839512642475, 'step': 16500}\n",
      "{'loss': 4.211640625, 'learning_rate': 0.0009274982529699511, 'epoch': 2.8999519629678154, 'step': 16600}\n",
      "{'loss': 4.21046875, 'learning_rate': 0.0009270614954577219, 'epoch': 2.917419974671383, 'step': 16700}\n",
      "{'loss': 4.214296875, 'learning_rate': 0.0009266247379454927, 'epoch': 2.934887986374951, 'step': 16800}\n",
      "{'loss': 4.22609375, 'learning_rate': 0.0009261879804332634, 'epoch': 2.952355998078519, 'step': 16900}\n",
      "{'loss': 4.227421875, 'learning_rate': 0.0009257512229210343, 'epoch': 2.9698240097820867, 'step': 17000}\n",
      "{'loss': 4.23640625, 'learning_rate': 0.000925314465408805, 'epoch': 2.987292021485654, 'step': 17100}\n",
      "\n"
     ]
    },
    {
     "data": {
      "application/vnd.jupyter.widget-view+json": {
       "model_id": "5774c32c9a664f3b92cc1110586820c6",
       "version_major": 2,
       "version_minor": 0
      },
      "text/plain": [
       "HBox(children=(FloatProgress(value=0.0, description='Iteration', max=22899.0, style=ProgressStyle(description_…"
      ]
     },
     "metadata": {},
     "output_type": "display_data"
    },
    {
     "name": "stdout",
     "output_type": "stream",
     "text": [
      "{'loss': 4.225703125, 'learning_rate': 0.0009248777078965758, 'epoch': 3.004891043276999, 'step': 17200}\n",
      "{'loss': 4.12875, 'learning_rate': 0.0009244409503843466, 'epoch': 3.022359054980567, 'step': 17300}\n",
      "{'loss': 4.1409375, 'learning_rate': 0.0009240041928721174, 'epoch': 3.0398270666841345, 'step': 17400}\n",
      "{'loss': 4.151796875, 'learning_rate': 0.0009235674353598881, 'epoch': 3.0572950783877024, 'step': 17500}\n",
      "{'loss': 4.139140625, 'learning_rate': 0.0009231306778476591, 'epoch': 3.0747630900912704, 'step': 17600}\n",
      "{'loss': 4.136171875, 'learning_rate': 0.0009226939203354298, 'epoch': 3.0922311017948383, 'step': 17700}\n",
      "{'loss': 4.14140625, 'learning_rate': 0.0009222571628232006, 'epoch': 3.109699113498406, 'step': 17800}\n",
      "{'loss': 4.142890625, 'learning_rate': 0.0009218204053109714, 'epoch': 3.1271671252019737, 'step': 17900}\n",
      "{'loss': 4.149453125, 'learning_rate': 0.0009213836477987422, 'epoch': 3.1446351369055416, 'step': 18000}\n",
      "{'loss': 4.14765625, 'learning_rate': 0.0009209468902865129, 'epoch': 3.1621031486091096, 'step': 18100}\n",
      "{'loss': 4.137890625, 'learning_rate': 0.0009205101327742838, 'epoch': 3.1795711603126775, 'step': 18200}\n",
      "{'loss': 4.1546875, 'learning_rate': 0.0009200733752620545, 'epoch': 3.1970391720162454, 'step': 18300}\n",
      "{'loss': 4.15734375, 'learning_rate': 0.0009196366177498253, 'epoch': 3.214507183719813, 'step': 18400}\n",
      "{'loss': 4.15453125, 'learning_rate': 0.0009191998602375961, 'epoch': 3.231975195423381, 'step': 18500}\n",
      "{'loss': 4.1346875, 'learning_rate': 0.0009187631027253669, 'epoch': 3.249443207126949, 'step': 18600}\n",
      "{'loss': 4.152578125, 'learning_rate': 0.0009183263452131377, 'epoch': 3.2669112188305167, 'step': 18700}\n",
      "{'loss': 4.1546875, 'learning_rate': 0.0009178895877009085, 'epoch': 3.2843792305340846, 'step': 18800}\n",
      "{'loss': 4.125859375, 'learning_rate': 0.0009174528301886793, 'epoch': 3.301847242237652, 'step': 18900}\n",
      "{'loss': 4.14375, 'learning_rate': 0.00091701607267645, 'epoch': 3.31931525394122, 'step': 19000}\n",
      "{'loss': 4.148046875, 'learning_rate': 0.0009165793151642208, 'epoch': 3.336783265644788, 'step': 19100}\n",
      "{'loss': 4.15578125, 'learning_rate': 0.0009161425576519916, 'epoch': 3.354251277348356, 'step': 19200}\n",
      "{'loss': 4.151875, 'learning_rate': 0.0009157058001397624, 'epoch': 3.3717192890519234, 'step': 19300}\n",
      "{'loss': 4.143515625, 'learning_rate': 0.0009152690426275331, 'epoch': 3.3891873007554913, 'step': 19400}\n",
      "{'loss': 4.158515625, 'learning_rate': 0.0009148322851153041, 'epoch': 3.4066553124590593, 'step': 19500}\n",
      "{'loss': 4.152109375, 'learning_rate': 0.0009143955276030748, 'epoch': 3.424123324162627, 'step': 19600}\n",
      "{'loss': 4.153125, 'learning_rate': 0.0009139587700908456, 'epoch': 3.441591335866195, 'step': 19700}\n",
      "{'loss': 4.15515625, 'learning_rate': 0.0009135220125786164, 'epoch': 3.459059347569763, 'step': 19800}\n",
      "{'loss': 4.143515625, 'learning_rate': 0.0009130852550663872, 'epoch': 3.4765273592733306, 'step': 19900}\n",
      "{'loss': 4.145703125, 'learning_rate': 0.0009126484975541579, 'epoch': 3.4939953709768985, 'step': 20000}\n",
      "{'loss': 4.148984375, 'learning_rate': 0.0009122117400419288, 'epoch': 3.5114633826804664, 'step': 20100}\n",
      "{'loss': 4.15546875, 'learning_rate': 0.0009117749825296995, 'epoch': 3.5289313943840344, 'step': 20200}\n",
      "{'loss': 4.144765625, 'learning_rate': 0.0009113382250174703, 'epoch': 3.546399406087602, 'step': 20300}\n",
      "{'loss': 4.144296875, 'learning_rate': 0.0009109014675052411, 'epoch': 3.56386741779117, 'step': 20400}\n",
      "{'loss': 4.1396875, 'learning_rate': 0.0009104647099930119, 'epoch': 3.5813354294947377, 'step': 20500}\n",
      "{'loss': 4.1396875, 'learning_rate': 0.0009100279524807827, 'epoch': 3.5988034411983056, 'step': 20600}\n",
      "{'loss': 4.143671875, 'learning_rate': 0.0009095911949685535, 'epoch': 3.6162714529018736, 'step': 20700}\n",
      "{'loss': 4.15171875, 'learning_rate': 0.0009091544374563243, 'epoch': 3.6337394646054415, 'step': 20800}\n",
      "{'loss': 4.16125, 'learning_rate': 0.000908717679944095, 'epoch': 3.651207476309009, 'step': 20900}\n",
      "{'loss': 4.137578125, 'learning_rate': 0.0009082809224318658, 'epoch': 3.668675488012577, 'step': 21000}\n",
      "{'loss': 4.157890625, 'learning_rate': 0.0009078441649196366, 'epoch': 3.686143499716145, 'step': 21100}\n",
      "{'loss': 4.137734375, 'learning_rate': 0.0009074074074074074, 'epoch': 3.703611511419713, 'step': 21200}\n",
      "{'loss': 4.138828125, 'learning_rate': 0.0009069706498951781, 'epoch': 3.7210795231232803, 'step': 21300}\n",
      "{'loss': 4.134375, 'learning_rate': 0.0009065338923829491, 'epoch': 3.738547534826848, 'step': 21400}\n",
      "{'loss': 4.13609375, 'learning_rate': 0.0009060971348707198, 'epoch': 3.756015546530416, 'step': 21500}\n",
      "{'loss': 4.137578125, 'learning_rate': 0.0009056603773584906, 'epoch': 3.773483558233984, 'step': 21600}\n",
      "{'loss': 4.1453125, 'learning_rate': 0.0009052236198462614, 'epoch': 3.790951569937552, 'step': 21700}\n",
      "{'loss': 4.14953125, 'learning_rate': 0.0009047868623340322, 'epoch': 3.80841958164112, 'step': 21800}\n",
      "{'loss': 4.127734375, 'learning_rate': 0.0009043501048218029, 'epoch': 3.8258875933446874, 'step': 21900}\n",
      "{'loss': 4.13859375, 'learning_rate': 0.0009039133473095738, 'epoch': 3.8433556050482554, 'step': 22000}\n",
      "{'loss': 4.136875, 'learning_rate': 0.0009034765897973445, 'epoch': 3.8608236167518233, 'step': 22100}\n",
      "{'loss': 4.139296875, 'learning_rate': 0.0009030398322851153, 'epoch': 3.878291628455391, 'step': 22200}\n",
      "{'loss': 4.133984375, 'learning_rate': 0.0009026030747728861, 'epoch': 3.8957596401589587, 'step': 22300}\n",
      "{'loss': 4.135234375, 'learning_rate': 0.0009021663172606569, 'epoch': 3.9132276518625266, 'step': 22400}\n",
      "{'loss': 4.131484375, 'learning_rate': 0.0009017295597484277, 'epoch': 3.9306956635660946, 'step': 22500}\n",
      "{'loss': 4.118828125, 'learning_rate': 0.0009012928022361985, 'epoch': 3.9481636752696625, 'step': 22600}\n",
      "{'loss': 4.127109375, 'learning_rate': 0.0009008560447239693, 'epoch': 3.9656316869732304, 'step': 22700}\n",
      "{'loss': 4.135, 'learning_rate': 0.00090041928721174, 'epoch': 3.9830996986767984, 'step': 22800}\n",
      "\n"
     ]
    },
    {
     "data": {
      "application/vnd.jupyter.widget-view+json": {
       "model_id": "3dc75e886f424d78a382e33a5a602126",
       "version_major": 2,
       "version_minor": 0
      },
      "text/plain": [
       "HBox(children=(FloatProgress(value=0.0, description='Iteration', max=22899.0, style=ProgressStyle(description_…"
      ]
     },
     "metadata": {},
     "output_type": "display_data"
    },
    {
     "name": "stdout",
     "output_type": "stream",
     "text": [
      "{'loss': 4.146953125, 'learning_rate': 0.0008999825296995109, 'epoch': 4.000698720468143, 'step': 22900}\n",
      "{'loss': 4.052890625, 'learning_rate': 0.0008995457721872816, 'epoch': 4.018166732171711, 'step': 23000}\n",
      "{'loss': 4.05890625, 'learning_rate': 0.0008991090146750524, 'epoch': 4.035634743875279, 'step': 23100}\n",
      "{'loss': 4.055546875, 'learning_rate': 0.0008986722571628231, 'epoch': 4.053102755578847, 'step': 23200}\n",
      "{'loss': 4.07046875, 'learning_rate': 0.0008982354996505941, 'epoch': 4.0705707672824145, 'step': 23300}\n",
      "{'loss': 4.065859375, 'learning_rate': 0.0008977987421383648, 'epoch': 4.088038778985982, 'step': 23400}\n",
      "{'loss': 4.072421875, 'learning_rate': 0.0008973619846261356, 'epoch': 4.1055067906895495, 'step': 23500}\n",
      "{'loss': 4.063984375, 'learning_rate': 0.0008969252271139064, 'epoch': 4.122974802393117, 'step': 23600}\n",
      "{'loss': 4.063046875, 'learning_rate': 0.0008964884696016772, 'epoch': 4.140442814096685, 'step': 23700}\n",
      "{'loss': 4.07078125, 'learning_rate': 0.0008960517120894479, 'epoch': 4.157910825800253, 'step': 23800}\n",
      "{'loss': 4.06890625, 'learning_rate': 0.0008956149545772188, 'epoch': 4.175378837503821, 'step': 23900}\n",
      "{'loss': 4.066015625, 'learning_rate': 0.0008951781970649895, 'epoch': 4.192846849207389, 'step': 24000}\n",
      "{'loss': 4.067421875, 'learning_rate': 0.0008947414395527603, 'epoch': 4.210314860910957, 'step': 24100}\n",
      "{'loss': 4.069140625, 'learning_rate': 0.0008943046820405312, 'epoch': 4.227782872614525, 'step': 24200}\n",
      "{'loss': 4.06609375, 'learning_rate': 0.0008938679245283019, 'epoch': 4.245250884318093, 'step': 24300}\n",
      "{'loss': 4.073984375, 'learning_rate': 0.0008934311670160727, 'epoch': 4.26271889602166, 'step': 24400}\n",
      "{'loss': 4.069375, 'learning_rate': 0.0008929944095038435, 'epoch': 4.280186907725228, 'step': 24500}\n",
      "{'loss': 4.080703125, 'learning_rate': 0.0008925576519916143, 'epoch': 4.297654919428796, 'step': 24600}\n",
      "{'loss': 4.076640625, 'learning_rate': 0.000892120894479385, 'epoch': 4.315122931132364, 'step': 24700}\n",
      "{'loss': 4.08265625, 'learning_rate': 0.0008916841369671559, 'epoch': 4.332590942835932, 'step': 24800}\n",
      "{'loss': 4.076796875, 'learning_rate': 0.0008912473794549266, 'epoch': 4.3500589545395, 'step': 24900}\n",
      "{'loss': 4.0803125, 'learning_rate': 0.0008908106219426974, 'epoch': 4.367526966243068, 'step': 25000}\n",
      "{'loss': 4.069765625, 'learning_rate': 0.0008903738644304681, 'epoch': 4.3849949779466355, 'step': 25100}\n",
      "{'loss': 4.086640625, 'learning_rate': 0.0008899371069182391, 'epoch': 4.402462989650203, 'step': 25200}\n",
      "{'loss': 4.072265625, 'learning_rate': 0.0008895003494060098, 'epoch': 4.4199310013537705, 'step': 25300}\n",
      "{'loss': 4.06859375, 'learning_rate': 0.0008890635918937806, 'epoch': 4.437399013057338, 'step': 25400}\n",
      "{'loss': 4.08359375, 'learning_rate': 0.0008886268343815514, 'epoch': 4.454867024760906, 'step': 25500}\n",
      "{'loss': 4.074375, 'learning_rate': 0.0008881900768693222, 'epoch': 4.472335036464474, 'step': 25600}\n",
      "{'loss': 4.0809375, 'learning_rate': 0.0008877533193570929, 'epoch': 4.489803048168042, 'step': 25700}\n",
      "{'loss': 4.086328125, 'learning_rate': 0.0008873165618448638, 'epoch': 4.50727105987161, 'step': 25800}\n",
      "{'loss': 4.08359375, 'learning_rate': 0.0008868798043326345, 'epoch': 4.524739071575178, 'step': 25900}\n",
      "{'loss': 4.07859375, 'learning_rate': 0.0008864430468204053, 'epoch': 4.542207083278746, 'step': 26000}\n",
      "{'loss': 4.0834375, 'learning_rate': 0.0008860062893081762, 'epoch': 4.559675094982314, 'step': 26100}\n",
      "{'loss': 4.079140625, 'learning_rate': 0.0008855695317959469, 'epoch': 4.577143106685881, 'step': 26200}\n",
      "{'loss': 4.067734375, 'learning_rate': 0.0008851327742837177, 'epoch': 4.59461111838945, 'step': 26300}\n",
      "{'loss': 4.06890625, 'learning_rate': 0.0008846960167714885, 'epoch': 4.612079130093017, 'step': 26400}\n",
      "{'loss': 4.09, 'learning_rate': 0.0008842592592592593, 'epoch': 4.629547141796585, 'step': 26500}\n",
      "{'loss': 4.064609375, 'learning_rate': 0.00088382250174703, 'epoch': 4.647015153500153, 'step': 26600}\n",
      "{'loss': 4.07265625, 'learning_rate': 0.0008833857442348009, 'epoch': 4.664483165203721, 'step': 26700}\n",
      "{'loss': 4.086953125, 'learning_rate': 0.0008829489867225716, 'epoch': 4.681951176907289, 'step': 26800}\n",
      "{'loss': 4.069609375, 'learning_rate': 0.0008825122292103424, 'epoch': 4.6994191886108565, 'step': 26900}\n",
      "{'loss': 4.072421875, 'learning_rate': 0.0008820754716981131, 'epoch': 4.716887200314424, 'step': 27000}\n",
      "{'loss': 4.063359375, 'learning_rate': 0.0008816387141858841, 'epoch': 4.734355212017992, 'step': 27100}\n",
      "{'loss': 4.061328125, 'learning_rate': 0.0008812019566736548, 'epoch': 4.75182322372156, 'step': 27200}\n",
      "{'loss': 4.070234375, 'learning_rate': 0.0008807651991614256, 'epoch': 4.769291235425127, 'step': 27300}\n",
      "{'loss': 4.076015625, 'learning_rate': 0.0008803284416491964, 'epoch': 4.786759247128695, 'step': 27400}\n",
      "{'loss': 4.081875, 'learning_rate': 0.0008798916841369672, 'epoch': 4.804227258832263, 'step': 27500}\n",
      "{'loss': 4.073984375, 'learning_rate': 0.0008794549266247379, 'epoch': 4.821695270535831, 'step': 27600}\n",
      "{'loss': 4.075078125, 'learning_rate': 0.0008790181691125088, 'epoch': 4.839163282239399, 'step': 27700}\n",
      "{'loss': 4.08515625, 'learning_rate': 0.0008785814116002795, 'epoch': 4.856631293942967, 'step': 27800}\n",
      "{'loss': 4.063203125, 'learning_rate': 0.0008781446540880503, 'epoch': 4.874099305646535, 'step': 27900}\n",
      "{'loss': 4.081015625, 'learning_rate': 0.0008777078965758212, 'epoch': 4.891567317350103, 'step': 28000}\n",
      "{'loss': 4.0525, 'learning_rate': 0.0008772711390635919, 'epoch': 4.909035329053671, 'step': 28100}\n",
      "{'loss': 4.09296875, 'learning_rate': 0.0008768343815513627, 'epoch': 4.926503340757238, 'step': 28200}\n",
      "{'loss': 4.054296875, 'learning_rate': 0.0008763976240391335, 'epoch': 4.943971352460806, 'step': 28300}\n",
      "{'loss': 4.07421875, 'learning_rate': 0.0008759608665269043, 'epoch': 4.961439364164374, 'step': 28400}\n",
      "{'loss': 4.064140625, 'learning_rate': 0.000875524109014675, 'epoch': 4.978907375867942, 'step': 28500}\n"
     ]
    },
    {
     "ename": "KeyboardInterrupt",
     "evalue": "",
     "output_type": "error",
     "traceback": [
      "\u001B[1;31m---------------------------------------------------------------------------\u001B[0m",
      "\u001B[1;31mKeyboardInterrupt\u001B[0m                         Traceback (most recent call last)",
      "\u001B[1;32m<ipython-input-10-3435b262f1ae>\u001B[0m in \u001B[0;36m<module>\u001B[1;34m\u001B[0m\n\u001B[1;32m----> 1\u001B[1;33m \u001B[0mtrainer\u001B[0m\u001B[1;33m.\u001B[0m\u001B[0mtrain\u001B[0m\u001B[1;33m(\u001B[0m\u001B[1;33m)\u001B[0m\u001B[1;33m\u001B[0m\u001B[1;33m\u001B[0m\u001B[0m\n\u001B[0m",
      "\u001B[1;32mE:\\Users\\anshengqiang\\anaconda3\\lib\\site-packages\\transformers\\trainer.py\u001B[0m in \u001B[0;36mtrain\u001B[1;34m(self, model_path, trial)\u001B[0m\n\u001B[0;32m    705\u001B[0m                     \u001B[1;32mcontinue\u001B[0m\u001B[1;33m\u001B[0m\u001B[1;33m\u001B[0m\u001B[0m\n\u001B[0;32m    706\u001B[0m \u001B[1;33m\u001B[0m\u001B[0m\n\u001B[1;32m--> 707\u001B[1;33m                 \u001B[0mtr_loss\u001B[0m \u001B[1;33m+=\u001B[0m \u001B[0mself\u001B[0m\u001B[1;33m.\u001B[0m\u001B[0mtraining_step\u001B[0m\u001B[1;33m(\u001B[0m\u001B[0mmodel\u001B[0m\u001B[1;33m,\u001B[0m \u001B[0minputs\u001B[0m\u001B[1;33m)\u001B[0m\u001B[1;33m\u001B[0m\u001B[1;33m\u001B[0m\u001B[0m\n\u001B[0m\u001B[0;32m    708\u001B[0m \u001B[1;33m\u001B[0m\u001B[0m\n\u001B[0;32m    709\u001B[0m                 if (step + 1) % self.args.gradient_accumulation_steps == 0 or (\n",
      "\u001B[1;32mE:\\Users\\anshengqiang\\anaconda3\\lib\\site-packages\\transformers\\trainer.py\u001B[0m in \u001B[0;36mtraining_step\u001B[1;34m(self, model, inputs)\u001B[0m\n\u001B[0;32m   1006\u001B[0m \u001B[1;33m\u001B[0m\u001B[0m\n\u001B[0;32m   1007\u001B[0m         \u001B[1;32mif\u001B[0m \u001B[0mself\u001B[0m\u001B[1;33m.\u001B[0m\u001B[0margs\u001B[0m\u001B[1;33m.\u001B[0m\u001B[0mfp16\u001B[0m \u001B[1;32mand\u001B[0m \u001B[0m_use_native_amp\u001B[0m\u001B[1;33m:\u001B[0m\u001B[1;33m\u001B[0m\u001B[1;33m\u001B[0m\u001B[0m\n\u001B[1;32m-> 1008\u001B[1;33m             \u001B[0mself\u001B[0m\u001B[1;33m.\u001B[0m\u001B[0mscaler\u001B[0m\u001B[1;33m.\u001B[0m\u001B[0mscale\u001B[0m\u001B[1;33m(\u001B[0m\u001B[0mloss\u001B[0m\u001B[1;33m)\u001B[0m\u001B[1;33m.\u001B[0m\u001B[0mbackward\u001B[0m\u001B[1;33m(\u001B[0m\u001B[1;33m)\u001B[0m\u001B[1;33m\u001B[0m\u001B[1;33m\u001B[0m\u001B[0m\n\u001B[0m\u001B[0;32m   1009\u001B[0m         \u001B[1;32melif\u001B[0m \u001B[0mself\u001B[0m\u001B[1;33m.\u001B[0m\u001B[0margs\u001B[0m\u001B[1;33m.\u001B[0m\u001B[0mfp16\u001B[0m \u001B[1;32mand\u001B[0m \u001B[0m_use_apex\u001B[0m\u001B[1;33m:\u001B[0m\u001B[1;33m\u001B[0m\u001B[1;33m\u001B[0m\u001B[0m\n\u001B[0;32m   1010\u001B[0m             \u001B[1;32mwith\u001B[0m \u001B[0mamp\u001B[0m\u001B[1;33m.\u001B[0m\u001B[0mscale_loss\u001B[0m\u001B[1;33m(\u001B[0m\u001B[0mloss\u001B[0m\u001B[1;33m,\u001B[0m \u001B[0mself\u001B[0m\u001B[1;33m.\u001B[0m\u001B[0moptimizer\u001B[0m\u001B[1;33m)\u001B[0m \u001B[1;32mas\u001B[0m \u001B[0mscaled_loss\u001B[0m\u001B[1;33m:\u001B[0m\u001B[1;33m\u001B[0m\u001B[1;33m\u001B[0m\u001B[0m\n",
      "\u001B[1;32mE:\\Users\\anshengqiang\\anaconda3\\lib\\site-packages\\torch\\tensor.py\u001B[0m in \u001B[0;36mbackward\u001B[1;34m(self, gradient, retain_graph, create_graph)\u001B[0m\n\u001B[0;32m    183\u001B[0m                 \u001B[0mproducts\u001B[0m\u001B[1;33m.\u001B[0m \u001B[0mDefaults\u001B[0m \u001B[0mto\u001B[0m\u001B[0;31m \u001B[0m\u001B[0;31m`\u001B[0m\u001B[0;31m`\u001B[0m\u001B[1;32mFalse\u001B[0m\u001B[0;31m`\u001B[0m\u001B[0;31m`\u001B[0m\u001B[1;33m.\u001B[0m\u001B[1;33m\u001B[0m\u001B[1;33m\u001B[0m\u001B[0m\n\u001B[0;32m    184\u001B[0m         \"\"\"\n\u001B[1;32m--> 185\u001B[1;33m         \u001B[0mtorch\u001B[0m\u001B[1;33m.\u001B[0m\u001B[0mautograd\u001B[0m\u001B[1;33m.\u001B[0m\u001B[0mbackward\u001B[0m\u001B[1;33m(\u001B[0m\u001B[0mself\u001B[0m\u001B[1;33m,\u001B[0m \u001B[0mgradient\u001B[0m\u001B[1;33m,\u001B[0m \u001B[0mretain_graph\u001B[0m\u001B[1;33m,\u001B[0m \u001B[0mcreate_graph\u001B[0m\u001B[1;33m)\u001B[0m\u001B[1;33m\u001B[0m\u001B[1;33m\u001B[0m\u001B[0m\n\u001B[0m\u001B[0;32m    186\u001B[0m \u001B[1;33m\u001B[0m\u001B[0m\n\u001B[0;32m    187\u001B[0m     \u001B[1;32mdef\u001B[0m \u001B[0mregister_hook\u001B[0m\u001B[1;33m(\u001B[0m\u001B[0mself\u001B[0m\u001B[1;33m,\u001B[0m \u001B[0mhook\u001B[0m\u001B[1;33m)\u001B[0m\u001B[1;33m:\u001B[0m\u001B[1;33m\u001B[0m\u001B[1;33m\u001B[0m\u001B[0m\n",
      "\u001B[1;32mE:\\Users\\anshengqiang\\anaconda3\\lib\\site-packages\\torch\\autograd\\__init__.py\u001B[0m in \u001B[0;36mbackward\u001B[1;34m(tensors, grad_tensors, retain_graph, create_graph, grad_variables)\u001B[0m\n\u001B[0;32m    123\u001B[0m         \u001B[0mretain_graph\u001B[0m \u001B[1;33m=\u001B[0m \u001B[0mcreate_graph\u001B[0m\u001B[1;33m\u001B[0m\u001B[1;33m\u001B[0m\u001B[0m\n\u001B[0;32m    124\u001B[0m \u001B[1;33m\u001B[0m\u001B[0m\n\u001B[1;32m--> 125\u001B[1;33m     Variable._execution_engine.run_backward(\n\u001B[0m\u001B[0;32m    126\u001B[0m         \u001B[0mtensors\u001B[0m\u001B[1;33m,\u001B[0m \u001B[0mgrad_tensors\u001B[0m\u001B[1;33m,\u001B[0m \u001B[0mretain_graph\u001B[0m\u001B[1;33m,\u001B[0m \u001B[0mcreate_graph\u001B[0m\u001B[1;33m,\u001B[0m\u001B[1;33m\u001B[0m\u001B[1;33m\u001B[0m\u001B[0m\n\u001B[0;32m    127\u001B[0m         allow_unreachable=True)  # allow_unreachable flag\n",
      "\u001B[1;31mKeyboardInterrupt\u001B[0m: "
     ]
    }
   ],
   "source": [
    "trainer.train()"
   ]
  },
  {
   "cell_type": "markdown",
   "metadata": {
    "colab_type": "text",
    "id": "_ZkooHz1-_2h"
   },
   "source": [
    "### 🎉 Save final model (+ tokenizer + config) to disk"
   ]
  },
  {
   "cell_type": "code",
   "execution_count": null,
   "metadata": {
    "colab": {},
    "colab_type": "code",
    "id": "QDNgPls7_l13"
   },
   "outputs": [],
   "source": [
    "trainer.save_model(model_path)"
   ]
  },
  {
   "cell_type": "markdown",
   "metadata": {},
   "source": [
    "#### ！！！注意，这里需要把词表拷贝到模型文件夹！！！"
   ]
  },
  {
   "cell_type": "markdown",
   "metadata": {
    "colab_type": "text",
    "id": "d0caceCy_p1-"
   },
   "source": [
    "# 5. Check the model"
   ]
  },
  {
   "cell_type": "code",
   "execution_count": 4,
   "metadata": {
    "colab": {},
    "colab_type": "code",
    "id": "ltXgXyCbAJLY"
   },
   "outputs": [
    {
     "name": "stderr",
     "output_type": "stream",
     "text": [
      "Some weights of the model checkpoint at E:\\data\\models\\gpt-boost\\gpt-tiny-memory were not used when initializing GPT2LMHeadModel: ['transformer.h.0.memory_layer.keys', 'transformer.h.0.memory_layer.values.weight', 'transformer.h.0.memory_layer.query_proj.query_mlps.0.weight', 'transformer.h.0.memory_layer.query_proj.query_mlps.0.bias', 'transformer.h.0.memory_layer.query_proj.query_mlps.1.weight', 'transformer.h.0.memory_layer.query_proj.query_mlps.1.bias', 'transformer.h.0.memory_layer.query_proj.query_mlps.1.running_mean', 'transformer.h.0.memory_layer.query_proj.query_mlps.1.running_var', 'transformer.h.0.memory_layer.query_proj.query_mlps.1.num_batches_tracked', 'transformer.h.1.memory_layer.keys', 'transformer.h.1.memory_layer.values.weight', 'transformer.h.1.memory_layer.query_proj.query_mlps.0.weight', 'transformer.h.1.memory_layer.query_proj.query_mlps.0.bias', 'transformer.h.1.memory_layer.query_proj.query_mlps.1.weight', 'transformer.h.1.memory_layer.query_proj.query_mlps.1.bias', 'transformer.h.1.memory_layer.query_proj.query_mlps.1.running_mean', 'transformer.h.1.memory_layer.query_proj.query_mlps.1.running_var', 'transformer.h.1.memory_layer.query_proj.query_mlps.1.num_batches_tracked', 'transformer.h.2.memory_layer.keys', 'transformer.h.2.memory_layer.values.weight', 'transformer.h.2.memory_layer.query_proj.query_mlps.0.weight', 'transformer.h.2.memory_layer.query_proj.query_mlps.0.bias', 'transformer.h.2.memory_layer.query_proj.query_mlps.1.weight', 'transformer.h.2.memory_layer.query_proj.query_mlps.1.bias', 'transformer.h.2.memory_layer.query_proj.query_mlps.1.running_mean', 'transformer.h.2.memory_layer.query_proj.query_mlps.1.running_var', 'transformer.h.2.memory_layer.query_proj.query_mlps.1.num_batches_tracked', 'transformer.h.3.memory_layer.keys', 'transformer.h.3.memory_layer.values.weight', 'transformer.h.3.memory_layer.query_proj.query_mlps.0.weight', 'transformer.h.3.memory_layer.query_proj.query_mlps.0.bias', 'transformer.h.3.memory_layer.query_proj.query_mlps.1.weight', 'transformer.h.3.memory_layer.query_proj.query_mlps.1.bias', 'transformer.h.3.memory_layer.query_proj.query_mlps.1.running_mean', 'transformer.h.3.memory_layer.query_proj.query_mlps.1.running_var', 'transformer.h.3.memory_layer.query_proj.query_mlps.1.num_batches_tracked']\n",
      "- This IS expected if you are initializing GPT2LMHeadModel from the checkpoint of a model trained on another task or with another architecture (e.g. initializing a BertForSequenceClassification model from a BertForPretraining model).\n",
      "- This IS NOT expected if you are initializing GPT2LMHeadModel from the checkpoint of a model that you expect to be exactly identical (initializing a BertForSequenceClassification model from a BertForSequenceClassification model).\n"
     ]
    }
   ],
   "source": [
    "from transformers import pipeline\n",
    "\n",
    "generate = pipeline(\n",
    "    \"text-generation\",\n",
    "    model=model_path,\n",
    ")"
   ]
  },
  {
   "cell_type": "code",
   "execution_count": 5,
   "metadata": {
    "colab": {
     "base_uri": "https://localhost:8080/",
     "height": 283
    },
    "colab_type": "code",
    "id": "UIvgZ3S6AO0z",
    "outputId": "5f3d2f00-abdc-44a9-9c1b-75e3ec328576",
    "scrolled": false
   },
   "outputs": [
    {
     "name": "stderr",
     "output_type": "stream",
     "text": [
      "Setting `pad_token_id` to 50256 (first `eos_token_id`) to generate sequence\n"
     ]
    },
    {
     "name": "stdout",
     "output_type": "stream",
     "text": [
      "1.3519995212554932\n",
      "第八十四章 满月的呓语\n",
      "　　克莱恩刚披上双排扣长礼服，拿起半高丝绸礼帽，往门口走去，忽然听见了层层回荡的虚幻祈求声。\n",
      "　　谁？他微皱眉头，侧耳倾听了一下，但只能确认祈求者是一位女士，而且嗓音断断续续，似乎蕴藏着极大的痛苦。\n",
      "　　想着也没什么特别紧要的事情，新晋“魔术师”克莱恩随手一扔，让半高丝绸礼帽又准确无误地挂到了衣帽架上，自身则返回卧室，逆走四步，进入巍峨雄伟的宫殿。\n",
      "　　这一次，他有足够的时间做一次的拜访了“愚者”先生。因为他因为没有别的能力和和意外得到了回应，有获得相应的馈赠，有的直接占卜，比如，比如阿蒙后，另外两个途径“0-02”，“安提哥努斯；\n",
      "　　第一件事就是亚当亚当的亚当“命运将就交给你”。\n",
      "　　紧接着，克莱恩的身影，一下联排。\n",
      "　　一个一个半高丝绸礼帽，穿着镶斗篷的老仆恩·唐泰斯，位上一个银一个银，银两短。；四则两四个黑，三四个银。银两\n",
      "\n",
      "==================================================\n",
      "\n",
      "第八十四章 满月的呓语\n",
      "　　克莱恩刚披上双排扣长礼服，拿起半高丝绸礼帽，往门口走去，忽然听见了层层回荡的虚幻祈求声。\n",
      "　　谁？他微皱眉头，侧耳倾听了一下，但只能确认祈求者是一位女士，而且嗓音断断续续，似乎蕴藏着极大的痛苦。\n",
      "　　想着也没什么特别紧要的事情，新晋“魔术师”克莱恩随手一扔，让半高丝绸礼帽又准确无误地挂到了衣帽架上，自身则返回卧室，逆走四步，进入巍峨雄伟的宫殿。\n",
      "　　这一次，克莱恩又将目光投向了古老宫殿大厅。\n",
      "　他灵性直觉告诉他，道恩·唐泰斯的存在没有使用“偷盗”钥匙，也未有携带物品，仅是那点熟悉又又虚幻的气息。\n",
      "　不过，他依旧只是表面粗糙，不和谐，却相当不错，相当不错，与格尔曼·斯帕罗的格尔曼·斯帕罗，属于正常，属于神秘组织的，“海神”级的是。\n",
      "　当然，这不是代表没有灰雾之上那些神秘空间，也具备对应真神的力量和有相应的高层次特点？克莱恩表面微沉，有微沉，有微沉。\n",
      "\n",
      "\n",
      "==================================================\n",
      "\n",
      "第八十四章 满月的呓语\n",
      "　　克莱恩刚披上双排扣长礼服，拿起半高丝绸礼帽，往门口走去，忽然听见了层层回荡的虚幻祈求声。\n",
      "　　谁？他微皱眉头，侧耳倾听了一下，但只能确认祈求者是一位女士，而且嗓音断断续续，似乎蕴藏着极大的痛苦。\n",
      "　　想着也没什么特别紧要的事情，新晋“魔术师”克莱恩随手一扔，让半高丝绸礼帽又准确无误地挂到了衣帽架上，自身则返回卧室，逆走四步，进入巍峨雄伟的宫殿。\n",
      "　　这一次，克莱恩又有了“小丑”的姿态。\n",
      "　当然，他对精神的把握并不重要，也确实相当危险……克莱恩无声“笑”回复。\n",
      "　……克莱恩回到客厅，拿过贴身衣帽架，拿好钥匙，推门进去。\n",
      "　　他拿过手杖，离开房间，关上盥洗室房门，进入屋内，克莱恩关上门门后，逆向召唤自己需要的塔罗牌，于“世界”的表面描绘出了一个个新的单词：\n",
      "　　“伟大的主人，祈求您的灵，赐予您的神使神灵赐予您的力量，祈求您强大的力量……\n",
      "　\n",
      "\n",
      "==================================================\n",
      "\n"
     ]
    }
   ],
   "source": [
    "import time\n",
    "time0 = time.time()\n",
    "result = generate(\"\"\"第八十四章 满月的呓语\n",
    "　　克莱恩刚披上双排扣长礼服，拿起半高丝绸礼帽，往门口走去，忽然听见了层层回荡的虚幻祈求声。\n",
    "　　谁？他微皱眉头，侧耳倾听了一下，但只能确认祈求者是一位女士，而且嗓音断断续续，似乎蕴藏着极大的痛苦。\n",
    "　　想着也没什么特别紧要的事情，新晋“魔术师”克莱恩随手一扔，让半高丝绸礼帽又准确无误地挂到了衣帽架上，自身则返回卧室，逆走四步，进入巍峨雄伟的宫殿。\n",
    "　　这一次，\"\"\", max_length=256, repetition_penalty=1, do_sample=True, top_k=40, temperature=1.2, num_return_sequences=3)\n",
    "print(time.time()-time0)\n",
    "for item in result:\n",
    "  print(item[\"generated_text\"])\n",
    "  print()\n",
    "  print(\"=\"*50)\n",
    "  print()"
   ]
  }
 ],
 "metadata": {
  "accelerator": "GPU",
  "colab": {
   "collapsed_sections": [],
   "machine_shape": "hm",
   "name": "01_how-to-train.ipynb",
   "provenance": [],
   "toc_visible": true
  },
  "kernelspec": {
   "display_name": "Python 3",
   "language": "python",
   "name": "python3"
  },
  "widgets": {
   "application/vnd.jupyter.widget-state+json": {
    "016d7c8318f742c1943464b08232a510": {
     "model_module": "@jupyter-widgets/base",
     "model_name": "LayoutModel",
     "state": {
      "_model_module": "@jupyter-widgets/base",
      "_model_module_version": "1.2.0",
      "_model_name": "LayoutModel",
      "_view_count": null,
      "_view_module": "@jupyter-widgets/base",
      "_view_module_version": "1.2.0",
      "_view_name": "LayoutView",
      "align_content": null,
      "align_items": null,
      "align_self": null,
      "border": null,
      "bottom": null,
      "display": null,
      "flex": null,
      "flex_flow": null,
      "grid_area": null,
      "grid_auto_columns": null,
      "grid_auto_flow": null,
      "grid_auto_rows": null,
      "grid_column": null,
      "grid_gap": null,
      "grid_row": null,
      "grid_template_areas": null,
      "grid_template_columns": null,
      "grid_template_rows": null,
      "height": null,
      "justify_content": null,
      "justify_items": null,
      "left": null,
      "margin": null,
      "max_height": null,
      "max_width": null,
      "min_height": null,
      "min_width": null,
      "object_fit": null,
      "object_position": null,
      "order": null,
      "overflow": null,
      "overflow_x": null,
      "overflow_y": null,
      "padding": null,
      "right": null,
      "top": null,
      "visibility": null,
      "width": null
     }
    },
    "04e7e6d291da49d5816dc98a2904e95c": {
     "model_module": "@jupyter-widgets/controls",
     "model_name": "HTMLModel",
     "state": {
      "_dom_classes": [],
      "_model_module": "@jupyter-widgets/controls",
      "_model_module_version": "1.5.0",
      "_model_name": "HTMLModel",
      "_view_count": null,
      "_view_module": "@jupyter-widgets/controls",
      "_view_module_version": "1.5.0",
      "_view_name": "HTMLView",
      "description": "",
      "description_tooltip": null,
      "layout": "IPY_MODEL_39c23c6a972b419eb2eeeebafeaedc22",
      "placeholder": "​",
      "style": "IPY_MODEL_8388e9da9da4492c98c19235ca5fc1b5",
      "value": " 15228/15228 [2:46:46&lt;00:00,  1.52it/s]"
     }
    },
    "0989d41a4da24e9ebff377e02127642c": {
     "model_module": "@jupyter-widgets/controls",
     "model_name": "HBoxModel",
     "state": {
      "_dom_classes": [],
      "_model_module": "@jupyter-widgets/controls",
      "_model_module_version": "1.5.0",
      "_model_name": "HBoxModel",
      "_view_count": null,
      "_view_module": "@jupyter-widgets/controls",
      "_view_module_version": "1.5.0",
      "_view_name": "HBoxView",
      "box_style": "",
      "children": [
       "IPY_MODEL_d295dd80550447d88da0f04ce36a22ff",
       "IPY_MODEL_04e7e6d291da49d5816dc98a2904e95c"
      ],
      "layout": "IPY_MODEL_42c6061ef7e44f179db5a6e3551c0f17"
     }
    },
    "39c23c6a972b419eb2eeeebafeaedc22": {
     "model_module": "@jupyter-widgets/base",
     "model_name": "LayoutModel",
     "state": {
      "_model_module": "@jupyter-widgets/base",
      "_model_module_version": "1.2.0",
      "_model_name": "LayoutModel",
      "_view_count": null,
      "_view_module": "@jupyter-widgets/base",
      "_view_module_version": "1.2.0",
      "_view_name": "LayoutView",
      "align_content": null,
      "align_items": null,
      "align_self": null,
      "border": null,
      "bottom": null,
      "display": null,
      "flex": null,
      "flex_flow": null,
      "grid_area": null,
      "grid_auto_columns": null,
      "grid_auto_flow": null,
      "grid_auto_rows": null,
      "grid_column": null,
      "grid_gap": null,
      "grid_row": null,
      "grid_template_areas": null,
      "grid_template_columns": null,
      "grid_template_rows": null,
      "height": null,
      "justify_content": null,
      "justify_items": null,
      "left": null,
      "margin": null,
      "max_height": null,
      "max_width": null,
      "min_height": null,
      "min_width": null,
      "object_fit": null,
      "object_position": null,
      "order": null,
      "overflow": null,
      "overflow_x": null,
      "overflow_y": null,
      "padding": null,
      "right": null,
      "top": null,
      "visibility": null,
      "width": null
     }
    },
    "40bf955ba0284e84b198da6be8654219": {
     "model_module": "@jupyter-widgets/controls",
     "model_name": "ProgressStyleModel",
     "state": {
      "_model_module": "@jupyter-widgets/controls",
      "_model_module_version": "1.5.0",
      "_model_name": "ProgressStyleModel",
      "_view_count": null,
      "_view_module": "@jupyter-widgets/base",
      "_view_module_version": "1.2.0",
      "_view_name": "StyleView",
      "bar_color": null,
      "description_width": "initial"
     }
    },
    "42c6061ef7e44f179db5a6e3551c0f17": {
     "model_module": "@jupyter-widgets/base",
     "model_name": "LayoutModel",
     "state": {
      "_model_module": "@jupyter-widgets/base",
      "_model_module_version": "1.2.0",
      "_model_name": "LayoutModel",
      "_view_count": null,
      "_view_module": "@jupyter-widgets/base",
      "_view_module_version": "1.2.0",
      "_view_name": "LayoutView",
      "align_content": null,
      "align_items": null,
      "align_self": null,
      "border": null,
      "bottom": null,
      "display": null,
      "flex": null,
      "flex_flow": null,
      "grid_area": null,
      "grid_auto_columns": null,
      "grid_auto_flow": null,
      "grid_auto_rows": null,
      "grid_column": null,
      "grid_gap": null,
      "grid_row": null,
      "grid_template_areas": null,
      "grid_template_columns": null,
      "grid_template_rows": null,
      "height": null,
      "justify_content": null,
      "justify_items": null,
      "left": null,
      "margin": null,
      "max_height": null,
      "max_width": null,
      "min_height": null,
      "min_width": null,
      "object_fit": null,
      "object_position": null,
      "order": null,
      "overflow": null,
      "overflow_x": null,
      "overflow_y": null,
      "padding": null,
      "right": null,
      "top": null,
      "visibility": null,
      "width": null
     }
    },
    "6feb10aeb43147e6aba028d065947ae8": {
     "model_module": "@jupyter-widgets/base",
     "model_name": "LayoutModel",
     "state": {
      "_model_module": "@jupyter-widgets/base",
      "_model_module_version": "1.2.0",
      "_model_name": "LayoutModel",
      "_view_count": null,
      "_view_module": "@jupyter-widgets/base",
      "_view_module_version": "1.2.0",
      "_view_name": "LayoutView",
      "align_content": null,
      "align_items": null,
      "align_self": null,
      "border": null,
      "bottom": null,
      "display": null,
      "flex": null,
      "flex_flow": null,
      "grid_area": null,
      "grid_auto_columns": null,
      "grid_auto_flow": null,
      "grid_auto_rows": null,
      "grid_column": null,
      "grid_gap": null,
      "grid_row": null,
      "grid_template_areas": null,
      "grid_template_columns": null,
      "grid_template_rows": null,
      "height": null,
      "justify_content": null,
      "justify_items": null,
      "left": null,
      "margin": null,
      "max_height": null,
      "max_width": null,
      "min_height": null,
      "min_width": null,
      "object_fit": null,
      "object_position": null,
      "order": null,
      "overflow": null,
      "overflow_x": null,
      "overflow_y": null,
      "padding": null,
      "right": null,
      "top": null,
      "visibility": null,
      "width": null
     }
    },
    "837c9ddc3d594e088891874560c646b8": {
     "model_module": "@jupyter-widgets/controls",
     "model_name": "FloatProgressModel",
     "state": {
      "_dom_classes": [],
      "_model_module": "@jupyter-widgets/controls",
      "_model_module_version": "1.5.0",
      "_model_name": "FloatProgressModel",
      "_view_count": null,
      "_view_module": "@jupyter-widgets/controls",
      "_view_module_version": "1.5.0",
      "_view_name": "ProgressView",
      "bar_style": "success",
      "description": "Epoch: 100%",
      "description_tooltip": null,
      "layout": "IPY_MODEL_fe20a8dae6e84628b5076d02183090f5",
      "max": 1,
      "min": 0,
      "orientation": "horizontal",
      "style": "IPY_MODEL_40bf955ba0284e84b198da6be8654219",
      "value": 1
     }
    },
    "8388e9da9da4492c98c19235ca5fc1b5": {
     "model_module": "@jupyter-widgets/controls",
     "model_name": "DescriptionStyleModel",
     "state": {
      "_model_module": "@jupyter-widgets/controls",
      "_model_module_version": "1.5.0",
      "_model_name": "DescriptionStyleModel",
      "_view_count": null,
      "_view_module": "@jupyter-widgets/base",
      "_view_module_version": "1.2.0",
      "_view_name": "StyleView",
      "description_width": ""
     }
    },
    "93b3f9eae3cb4e3e859cf456e3547c6d": {
     "model_module": "@jupyter-widgets/controls",
     "model_name": "DescriptionStyleModel",
     "state": {
      "_model_module": "@jupyter-widgets/controls",
      "_model_module_version": "1.5.0",
      "_model_name": "DescriptionStyleModel",
      "_view_count": null,
      "_view_module": "@jupyter-widgets/base",
      "_view_module_version": "1.2.0",
      "_view_name": "StyleView",
      "description_width": ""
     }
    },
    "a491e8caa0a048beb3b5259f14eb233f": {
     "model_module": "@jupyter-widgets/base",
     "model_name": "LayoutModel",
     "state": {
      "_model_module": "@jupyter-widgets/base",
      "_model_module_version": "1.2.0",
      "_model_name": "LayoutModel",
      "_view_count": null,
      "_view_module": "@jupyter-widgets/base",
      "_view_module_version": "1.2.0",
      "_view_name": "LayoutView",
      "align_content": null,
      "align_items": null,
      "align_self": null,
      "border": null,
      "bottom": null,
      "display": null,
      "flex": null,
      "flex_flow": null,
      "grid_area": null,
      "grid_auto_columns": null,
      "grid_auto_flow": null,
      "grid_auto_rows": null,
      "grid_column": null,
      "grid_gap": null,
      "grid_row": null,
      "grid_template_areas": null,
      "grid_template_columns": null,
      "grid_template_rows": null,
      "height": null,
      "justify_content": null,
      "justify_items": null,
      "left": null,
      "margin": null,
      "max_height": null,
      "max_width": null,
      "min_height": null,
      "min_width": null,
      "object_fit": null,
      "object_position": null,
      "order": null,
      "overflow": null,
      "overflow_x": null,
      "overflow_y": null,
      "padding": null,
      "right": null,
      "top": null,
      "visibility": null,
      "width": null
     }
    },
    "a58a66392b644b1384661e850c077a6c": {
     "model_module": "@jupyter-widgets/controls",
     "model_name": "HBoxModel",
     "state": {
      "_dom_classes": [],
      "_model_module": "@jupyter-widgets/controls",
      "_model_module_version": "1.5.0",
      "_model_name": "HBoxModel",
      "_view_count": null,
      "_view_module": "@jupyter-widgets/controls",
      "_view_module_version": "1.5.0",
      "_view_name": "HBoxView",
      "box_style": "",
      "children": [
       "IPY_MODEL_837c9ddc3d594e088891874560c646b8",
       "IPY_MODEL_dbf50873d62c4ba39321faefbed0cca5"
      ],
      "layout": "IPY_MODEL_a491e8caa0a048beb3b5259f14eb233f"
     }
    },
    "d295dd80550447d88da0f04ce36a22ff": {
     "model_module": "@jupyter-widgets/controls",
     "model_name": "FloatProgressModel",
     "state": {
      "_dom_classes": [],
      "_model_module": "@jupyter-widgets/controls",
      "_model_module_version": "1.5.0",
      "_model_name": "FloatProgressModel",
      "_view_count": null,
      "_view_module": "@jupyter-widgets/controls",
      "_view_module_version": "1.5.0",
      "_view_name": "ProgressView",
      "bar_style": "success",
      "description": "Iteration: 100%",
      "description_tooltip": null,
      "layout": "IPY_MODEL_016d7c8318f742c1943464b08232a510",
      "max": 15228,
      "min": 0,
      "orientation": "horizontal",
      "style": "IPY_MODEL_e7d8c3a4fecd40778e32966b29ea65a1",
      "value": 15228
     }
    },
    "dbf50873d62c4ba39321faefbed0cca5": {
     "model_module": "@jupyter-widgets/controls",
     "model_name": "HTMLModel",
     "state": {
      "_dom_classes": [],
      "_model_module": "@jupyter-widgets/controls",
      "_model_module_version": "1.5.0",
      "_model_name": "HTMLModel",
      "_view_count": null,
      "_view_module": "@jupyter-widgets/controls",
      "_view_module_version": "1.5.0",
      "_view_name": "HTMLView",
      "description": "",
      "description_tooltip": null,
      "layout": "IPY_MODEL_6feb10aeb43147e6aba028d065947ae8",
      "placeholder": "​",
      "style": "IPY_MODEL_93b3f9eae3cb4e3e859cf456e3547c6d",
      "value": " 1/1 [2:46:46&lt;00:00, 10006.17s/it]"
     }
    },
    "e7d8c3a4fecd40778e32966b29ea65a1": {
     "model_module": "@jupyter-widgets/controls",
     "model_name": "ProgressStyleModel",
     "state": {
      "_model_module": "@jupyter-widgets/controls",
      "_model_module_version": "1.5.0",
      "_model_name": "ProgressStyleModel",
      "_view_count": null,
      "_view_module": "@jupyter-widgets/base",
      "_view_module_version": "1.2.0",
      "_view_name": "StyleView",
      "bar_color": null,
      "description_width": "initial"
     }
    },
    "fe20a8dae6e84628b5076d02183090f5": {
     "model_module": "@jupyter-widgets/base",
     "model_name": "LayoutModel",
     "state": {
      "_model_module": "@jupyter-widgets/base",
      "_model_module_version": "1.2.0",
      "_model_name": "LayoutModel",
      "_view_count": null,
      "_view_module": "@jupyter-widgets/base",
      "_view_module_version": "1.2.0",
      "_view_name": "LayoutView",
      "align_content": null,
      "align_items": null,
      "align_self": null,
      "border": null,
      "bottom": null,
      "display": null,
      "flex": null,
      "flex_flow": null,
      "grid_area": null,
      "grid_auto_columns": null,
      "grid_auto_flow": null,
      "grid_auto_rows": null,
      "grid_column": null,
      "grid_gap": null,
      "grid_row": null,
      "grid_template_areas": null,
      "grid_template_columns": null,
      "grid_template_rows": null,
      "height": null,
      "justify_content": null,
      "justify_items": null,
      "left": null,
      "margin": null,
      "max_height": null,
      "max_width": null,
      "min_height": null,
      "min_width": null,
      "object_fit": null,
      "object_position": null,
      "order": null,
      "overflow": null,
      "overflow_x": null,
      "overflow_y": null,
      "padding": null,
      "right": null,
      "top": null,
      "visibility": null,
      "width": null
     }
    }
   }
  }
 },
 "nbformat": 4,
 "nbformat_minor": 1
}