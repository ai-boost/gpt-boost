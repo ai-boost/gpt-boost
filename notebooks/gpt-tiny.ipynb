{
 "cells": [
  {
   "cell_type": "markdown",
   "metadata": {},
   "source": [
    "# args & validate dataset"
   ]
  },
  {
   "cell_type": "code",
   "execution_count": 1,
   "metadata": {},
   "outputs": [],
   "source": [
    "model_path = \"E:\\\\data\\\\models\\\\gpt-boost\\\\gpt-tiny\"\n",
    "data_path = \"E:\\\\data\\\\corpus\\\\gpt-boost\\\\novel.txt\"\n",
    "tokenizer_path = \".\\\\tokenizer\"\n",
    "tb_path = \".\\\\runs\\\\gpt-tiny-finetune\""
   ]
  },
  {
   "cell_type": "code",
   "execution_count": 2,
   "metadata": {},
   "outputs": [],
   "source": [
    "n_embd=512\n",
    "n_head=8\n",
    "n_layer=4\n",
    "n_positions=256\n",
    "vocab_size=20000\n",
    "finetuning_mode=True"
   ]
  },
  {
   "cell_type": "code",
   "execution_count": 3,
   "metadata": {},
   "outputs": [],
   "source": [
    "learning_rate=1e-4\n",
    "gradient_accumulation_steps=4\n",
    "num_train_epochs=40\n",
    "per_device_train_batch_size=16"
   ]
  },
  {
   "cell_type": "markdown",
   "metadata": {
    "colab_type": "text",
    "id": "yAwQ82JiE5pi"
   },
   "source": [
    "# 1. create tokenizer"
   ]
  },
  {
   "cell_type": "code",
   "execution_count": 4,
   "metadata": {
    "colab": {},
    "colab_type": "code",
    "id": "4keFBUjQFOD1",
    "scrolled": true
   },
   "outputs": [
    {
     "name": "stderr",
     "output_type": "stream",
     "text": [
      "Special tokens have been added in the vocabulary, make sure the associated word emebedding are fine-tuned or trained.\n"
     ]
    }
   ],
   "source": [
    "from transformers import GPT2TokenizerFast\n",
    "tokenizer = GPT2TokenizerFast.from_pretrained(tokenizer_path, max_len=256)"
   ]
  },
  {
   "cell_type": "markdown",
   "metadata": {},
   "source": [
    "# 2. initialize model"
   ]
  },
  {
   "cell_type": "code",
   "execution_count": 5,
   "metadata": {
    "colab": {},
    "colab_type": "code",
    "id": "BzMqR-dzF4Ro",
    "scrolled": false
   },
   "outputs": [],
   "source": [
    "from transformers import GPT2LMHeadModel\n",
    "\n",
    "if finetuning_mode:\n",
    "    model = GPT2LMHeadModel.from_pretrained(model_path)\n",
    "else:\n",
    "    from transformers import GPT2Config\n",
    "    config = GPT2Config(\n",
    "        n_embd=n_embd,\n",
    "        n_head=n_head,\n",
    "        n_layer=n_layer,\n",
    "        n_positions=n_positions,\n",
    "        vocab_size=vocab_size\n",
    "    )\n",
    "    model = GPT2LMHeadModel(config=config)"
   ]
  },
  {
   "cell_type": "code",
   "execution_count": 6,
   "metadata": {
    "colab": {
     "base_uri": "https://localhost:8080/",
     "height": 34
    },
    "colab_type": "code",
    "id": "jU6JhBSTKiaM",
    "outputId": "35879a60-2915-4894-f702-2d649cfa398a"
   },
   "outputs": [
    {
     "data": {
      "text/plain": [
       "22981632"
      ]
     },
     "execution_count": 6,
     "metadata": {},
     "output_type": "execute_result"
    }
   ],
   "source": [
    "model.num_parameters()\n",
    "# => 22981632 parameters (约23M)"
   ]
  },
  {
   "cell_type": "markdown",
   "metadata": {
    "colab_type": "text",
    "id": "jBtUHRMliOLM"
   },
   "source": [
    "# 3. build training Dataset"
   ]
  },
  {
   "cell_type": "code",
   "execution_count": 7,
   "metadata": {
    "colab": {
     "base_uri": "https://localhost:8080/",
     "height": 52
    },
    "colab_type": "code",
    "id": "GlvP_A-THEEl",
    "outputId": "e0510a33-7937-4a04-fa1c-d4e20b758bb2"
   },
   "outputs": [],
   "source": [
    "from transformers import TextDataset\n",
    "\n",
    "dataset = TextDataset(\n",
    "    tokenizer=tokenizer,\n",
    "    file_path=data_path,\n",
    "    block_size=256,\n",
    ")"
   ]
  },
  {
   "cell_type": "markdown",
   "metadata": {
    "colab_type": "text",
    "id": "hDLs73HcIHk5"
   },
   "source": [
    "Like in the [`run_language_modeling.py`](https://github.com/huggingface/transformers/blob/master/examples/language-modeling/run_language_modeling.py) script, we need to define a data_collator.\n",
    "\n",
    "This is just a small helper that will help us batch different samples of the dataset together into an object that PyTorch knows how to perform backprop on."
   ]
  },
  {
   "cell_type": "code",
   "execution_count": 8,
   "metadata": {
    "colab": {},
    "colab_type": "code",
    "id": "zTgWPa9Dipk2"
   },
   "outputs": [],
   "source": [
    "from transformers import DataCollatorForLanguageModeling\n",
    "\n",
    "data_collator = DataCollatorForLanguageModeling(\n",
    "    tokenizer=tokenizer, mlm=False\n",
    ")"
   ]
  },
  {
   "cell_type": "markdown",
   "metadata": {
    "colab_type": "text",
    "id": "ri2BIQKqjfHm"
   },
   "source": [
    "# 4. initialize our Trainer & Train & Save"
   ]
  },
  {
   "cell_type": "code",
   "execution_count": 9,
   "metadata": {
    "colab": {},
    "colab_type": "code",
    "id": "YpvnFFmZJD-N"
   },
   "outputs": [
    {
     "name": "stderr",
     "output_type": "stream",
     "text": [
      "E:\\Users\\anshengqiang\\anaconda3\\lib\\site-packages\\transformers\\trainer.py:245: FutureWarning: Passing `prediction_loss_only` as a keyword argument is deprecated and won't be possible in a future version. Use `args.prediction_loss_only` instead.\n",
      "  warnings.warn(\n"
     ]
    }
   ],
   "source": [
    "from transformers import Trainer, TrainingArguments\n",
    "\n",
    "training_args = TrainingArguments(\n",
    "    output_dir=model_path,\n",
    "    overwrite_output_dir=True,\n",
    "    no_cuda=False,\n",
    "    do_train=True,\n",
    "    fp16=True,\n",
    "    logging_dir=tb_path,\n",
    "    logging_steps=100,\n",
    "    learning_rate=learning_rate,\n",
    "    gradient_accumulation_steps=gradient_accumulation_steps,\n",
    "    num_train_epochs=num_train_epochs,\n",
    "    per_device_train_batch_size=per_device_train_batch_size,\n",
    "    save_steps=1000,\n",
    "    save_total_limit=2\n",
    ")\n",
    "\n",
    "trainer = Trainer(\n",
    "    model=model,\n",
    "    args=training_args,\n",
    "    data_collator=data_collator,\n",
    "    train_dataset=dataset,\n",
    "    prediction_loss_only=True,\n",
    ")"
   ]
  },
  {
   "cell_type": "code",
   "execution_count": 10,
   "metadata": {
    "colab": {
     "base_uri": "https://localhost:8080/",
     "height": 738,
     "referenced_widgets": [
      "a58a66392b644b1384661e850c077a6c",
      "a491e8caa0a048beb3b5259f14eb233f",
      "837c9ddc3d594e088891874560c646b8",
      "dbf50873d62c4ba39321faefbed0cca5",
      "40bf955ba0284e84b198da6be8654219",
      "fe20a8dae6e84628b5076d02183090f5",
      "93b3f9eae3cb4e3e859cf456e3547c6d",
      "6feb10aeb43147e6aba028d065947ae8",
      "0989d41a4da24e9ebff377e02127642c",
      "42c6061ef7e44f179db5a6e3551c0f17",
      "d295dd80550447d88da0f04ce36a22ff",
      "04e7e6d291da49d5816dc98a2904e95c",
      "e7d8c3a4fecd40778e32966b29ea65a1",
      "016d7c8318f742c1943464b08232a510",
      "8388e9da9da4492c98c19235ca5fc1b5",
      "39c23c6a972b419eb2eeeebafeaedc22"
     ]
    },
    "colab_type": "code",
    "id": "VmaHZXzmkNtJ",
    "outputId": "a19880cb-bcc6-4885-bf24-c2c6d0f56d1e"
   },
   "outputs": [
    {
     "data": {
      "application/vnd.jupyter.widget-view+json": {
       "model_id": "85c21e131d1548f19efa06f9dcbd63bc",
       "version_major": 2,
       "version_minor": 0
      },
      "text/plain": [
       "HBox(children=(FloatProgress(value=0.0, description='Epoch', max=40.0, style=ProgressStyle(description_width='…"
      ]
     },
     "metadata": {},
     "output_type": "display_data"
    },
    {
     "data": {
      "application/vnd.jupyter.widget-view+json": {
       "model_id": "69745ce4544f40f8812afdbaf4c87860",
       "version_major": 2,
       "version_minor": 0
      },
      "text/plain": [
       "HBox(children=(FloatProgress(value=0.0, description='Iteration', max=11450.0, style=ProgressStyle(description_…"
      ]
     },
     "metadata": {},
     "output_type": "display_data"
    },
    {
     "name": "stdout",
     "output_type": "stream",
     "text": [
      "{'loss': 3.6444317626953127, 'learning_rate': 9.991264849755416e-05, 'epoch': 0.034934497816593885, 'step': 100}\n",
      "{'loss': 3.637578125, 'learning_rate': 9.982529699510832e-05, 'epoch': 0.06986899563318777, 'step': 200}\n",
      "{'loss': 3.6367864990234375, 'learning_rate': 9.973794549266247e-05, 'epoch': 0.10480349344978165, 'step': 300}\n",
      "{'loss': 3.63298095703125, 'learning_rate': 9.965059399021663e-05, 'epoch': 0.13973799126637554, 'step': 400}\n",
      "{'loss': 3.634908447265625, 'learning_rate': 9.95632424877708e-05, 'epoch': 0.17467248908296942, 'step': 500}\n",
      "{'loss': 3.627374267578125, 'learning_rate': 9.947589098532495e-05, 'epoch': 0.2096069868995633, 'step': 600}\n",
      "{'loss': 3.633173828125, 'learning_rate': 9.938853948287911e-05, 'epoch': 0.2445414847161572, 'step': 700}\n",
      "{'loss': 3.6273291015625, 'learning_rate': 9.930118798043327e-05, 'epoch': 0.2794759825327511, 'step': 800}\n",
      "{'loss': 3.6208056640625, 'learning_rate': 9.921383647798742e-05, 'epoch': 0.314410480349345, 'step': 900}\n",
      "{'loss': 3.62720947265625, 'learning_rate': 9.912648497554159e-05, 'epoch': 0.34934497816593885, 'step': 1000}\n"
     ]
    },
    {
     "name": "stderr",
     "output_type": "stream",
     "text": [
      "E:\\Users\\anshengqiang\\anaconda3\\lib\\site-packages\\torch\\optim\\lr_scheduler.py:200: UserWarning: Please also save or load the state of the optimzer when saving or loading the scheduler.\n",
      "  warnings.warn(SAVE_STATE_WARNING, UserWarning)\n"
     ]
    },
    {
     "name": "stdout",
     "output_type": "stream",
     "text": [
      "{'loss': 3.6269921875, 'learning_rate': 9.903913347309575e-05, 'epoch': 0.38427947598253276, 'step': 1100}\n",
      "{'loss': 3.6226806640625, 'learning_rate': 9.89517819706499e-05, 'epoch': 0.4192139737991266, 'step': 1200}\n",
      "{'loss': 3.6258740234375, 'learning_rate': 9.886443046820406e-05, 'epoch': 0.45414847161572053, 'step': 1300}\n",
      "{'loss': 3.62333984375, 'learning_rate': 9.877707896575821e-05, 'epoch': 0.4890829694323144, 'step': 1400}\n",
      "{'loss': 3.61947265625, 'learning_rate': 9.868972746331237e-05, 'epoch': 0.5240174672489083, 'step': 1500}\n",
      "{'loss': 3.6176318359375, 'learning_rate': 9.860237596086654e-05, 'epoch': 0.5589519650655022, 'step': 1600}\n",
      "{'loss': 3.62626953125, 'learning_rate': 9.85150244584207e-05, 'epoch': 0.5938864628820961, 'step': 1700}\n",
      "{'loss': 3.62984375, 'learning_rate': 9.842767295597485e-05, 'epoch': 0.62882096069869, 'step': 1800}\n",
      "{'loss': 3.6247119140625, 'learning_rate': 9.834032145352901e-05, 'epoch': 0.6637554585152838, 'step': 1900}\n",
      "{'loss': 3.63083984375, 'learning_rate': 9.825296995108316e-05, 'epoch': 0.6986899563318777, 'step': 2000}\n",
      "{'loss': 3.61650390625, 'learning_rate': 9.816561844863732e-05, 'epoch': 0.7336244541484717, 'step': 2100}\n",
      "{'loss': 3.612822265625, 'learning_rate': 9.807826694619148e-05, 'epoch': 0.7685589519650655, 'step': 2200}\n",
      "{'loss': 3.62890625, 'learning_rate': 9.799091544374563e-05, 'epoch': 0.8034934497816594, 'step': 2300}\n",
      "{'loss': 3.622587890625, 'learning_rate': 9.790356394129979e-05, 'epoch': 0.8384279475982532, 'step': 2400}\n",
      "{'loss': 3.62880859375, 'learning_rate': 9.781621243885394e-05, 'epoch': 0.8733624454148472, 'step': 2500}\n",
      "{'loss': 3.619375, 'learning_rate': 9.772886093640811e-05, 'epoch': 0.9082969432314411, 'step': 2600}\n",
      "{'loss': 3.62373046875, 'learning_rate': 9.764150943396227e-05, 'epoch': 0.9432314410480349, 'step': 2700}\n",
      "{'loss': 3.625771484375, 'learning_rate': 9.755415793151644e-05, 'epoch': 0.9781659388646288, 'step': 2800}\n",
      "\n"
     ]
    },
    {
     "data": {
      "application/vnd.jupyter.widget-view+json": {
       "model_id": "79e55c46d8fe4811ab1d6e0d6f57e4e6",
       "version_major": 2,
       "version_minor": 0
      },
      "text/plain": [
       "HBox(children=(FloatProgress(value=0.0, description='Iteration', max=11450.0, style=ProgressStyle(description_…"
      ]
     },
     "metadata": {},
     "output_type": "display_data"
    },
    {
     "name": "stdout",
     "output_type": "stream",
     "text": [
      "{'loss': 3.634814453125, 'learning_rate': 9.74668064290706e-05, 'epoch': 1.0132751091703056, 'step': 2900}\n",
      "{'loss': 3.602333984375, 'learning_rate': 9.737945492662475e-05, 'epoch': 1.0482096069868996, 'step': 3000}\n",
      "{'loss': 3.60810546875, 'learning_rate': 9.72921034241789e-05, 'epoch': 1.0831441048034935, 'step': 3100}\n",
      "{'loss': 3.6054296875, 'learning_rate': 9.720475192173306e-05, 'epoch': 1.1180786026200873, 'step': 3200}\n",
      "{'loss': 3.61333984375, 'learning_rate': 9.711740041928722e-05, 'epoch': 1.1530131004366813, 'step': 3300}\n",
      "{'loss': 3.607607421875, 'learning_rate': 9.703004891684137e-05, 'epoch': 1.1879475982532752, 'step': 3400}\n",
      "{'loss': 3.607451171875, 'learning_rate': 9.694269741439553e-05, 'epoch': 1.222882096069869, 'step': 3500}\n",
      "{'loss': 3.60982421875, 'learning_rate': 9.685534591194969e-05, 'epoch': 1.257816593886463, 'step': 3600}\n",
      "{'loss': 3.61615234375, 'learning_rate': 9.676799440950385e-05, 'epoch': 1.2927510917030567, 'step': 3700}\n",
      "{'loss': 3.61173828125, 'learning_rate': 9.668064290705801e-05, 'epoch': 1.3276855895196507, 'step': 3800}\n",
      "{'loss': 3.60845703125, 'learning_rate': 9.659329140461217e-05, 'epoch': 1.3626200873362446, 'step': 3900}\n",
      "{'loss': 3.614404296875, 'learning_rate': 9.650593990216632e-05, 'epoch': 1.3975545851528384, 'step': 4000}\n",
      "{'loss': 3.613984375, 'learning_rate': 9.641858839972048e-05, 'epoch': 1.4324890829694323, 'step': 4100}\n",
      "{'loss': 3.612509765625, 'learning_rate': 9.633123689727463e-05, 'epoch': 1.467423580786026, 'step': 4200}\n",
      "{'loss': 3.610322265625, 'learning_rate': 9.624388539482879e-05, 'epoch': 1.50235807860262, 'step': 4300}\n",
      "{'loss': 3.61072265625, 'learning_rate': 9.615653389238295e-05, 'epoch': 1.537292576419214, 'step': 4400}\n",
      "{'loss': 3.615859375, 'learning_rate': 9.60691823899371e-05, 'epoch': 1.572227074235808, 'step': 4500}\n",
      "{'loss': 3.61123046875, 'learning_rate': 9.598183088749126e-05, 'epoch': 1.6071615720524017, 'step': 4600}\n",
      "{'loss': 3.61640625, 'learning_rate': 9.589447938504543e-05, 'epoch': 1.6420960698689955, 'step': 4700}\n",
      "{'loss': 3.61228515625, 'learning_rate': 9.58071278825996e-05, 'epoch': 1.6770305676855894, 'step': 4800}\n",
      "{'loss': 3.6160546875, 'learning_rate': 9.571977638015375e-05, 'epoch': 1.7119650655021834, 'step': 4900}\n",
      "{'loss': 3.60953125, 'learning_rate': 9.563242487770791e-05, 'epoch': 1.7468995633187774, 'step': 5000}\n",
      "{'loss': 3.6162109375, 'learning_rate': 9.554507337526206e-05, 'epoch': 1.7818340611353711, 'step': 5100}\n",
      "{'loss': 3.61541015625, 'learning_rate': 9.545772187281622e-05, 'epoch': 1.816768558951965, 'step': 5200}\n",
      "{'loss': 3.613359375, 'learning_rate': 9.537037037037038e-05, 'epoch': 1.8517030567685588, 'step': 5300}\n",
      "{'loss': 3.61755859375, 'learning_rate': 9.528301886792453e-05, 'epoch': 1.8866375545851528, 'step': 5400}\n",
      "{'loss': 3.60943359375, 'learning_rate': 9.519566736547869e-05, 'epoch': 1.9215720524017468, 'step': 5500}\n",
      "{'loss': 3.61861328125, 'learning_rate': 9.510831586303284e-05, 'epoch': 1.9565065502183407, 'step': 5600}\n",
      "{'loss': 3.61248046875, 'learning_rate': 9.5020964360587e-05, 'epoch': 1.9914410480349345, 'step': 5700}\n",
      "\n"
     ]
    },
    {
     "data": {
      "application/vnd.jupyter.widget-view+json": {
       "model_id": "bd928196f5de487f91824251ec91d404",
       "version_major": 2,
       "version_minor": 0
      },
      "text/plain": [
       "HBox(children=(FloatProgress(value=0.0, description='Iteration', max=11450.0, style=ProgressStyle(description_…"
      ]
     },
     "metadata": {},
     "output_type": "display_data"
    },
    {
     "name": "stdout",
     "output_type": "stream",
     "text": [
      "{'loss': 3.6258203125, 'learning_rate': 9.493361285814117e-05, 'epoch': 2.026550218340611, 'step': 5800}\n",
      "{'loss': 3.6058984375, 'learning_rate': 9.484626135569533e-05, 'epoch': 2.061484716157205, 'step': 5900}\n",
      "{'loss': 3.60408203125, 'learning_rate': 9.475890985324948e-05, 'epoch': 2.096419213973799, 'step': 6000}\n",
      "{'loss': 3.593984375, 'learning_rate': 9.467155835080364e-05, 'epoch': 2.131353711790393, 'step': 6100}\n",
      "{'loss': 3.59841796875, 'learning_rate': 9.458420684835779e-05, 'epoch': 2.166288209606987, 'step': 6200}\n",
      "{'loss': 3.60515625, 'learning_rate': 9.449685534591195e-05, 'epoch': 2.2012227074235806, 'step': 6300}\n",
      "{'loss': 3.597109375, 'learning_rate': 9.44095038434661e-05, 'epoch': 2.2361572052401746, 'step': 6400}\n",
      "{'loss': 3.596328125, 'learning_rate': 9.432215234102026e-05, 'epoch': 2.2710917030567686, 'step': 6500}\n",
      "{'loss': 3.60216796875, 'learning_rate': 9.423480083857443e-05, 'epoch': 2.3060262008733625, 'step': 6600}\n",
      "{'loss': 3.6048828125, 'learning_rate': 9.414744933612859e-05, 'epoch': 2.3409606986899565, 'step': 6700}\n",
      "{'loss': 3.60568359375, 'learning_rate': 9.406009783368274e-05, 'epoch': 2.3758951965065505, 'step': 6800}\n",
      "{'loss': 3.60201171875, 'learning_rate': 9.397274633123691e-05, 'epoch': 2.410829694323144, 'step': 6900}\n",
      "{'loss': 3.60015625, 'learning_rate': 9.388539482879107e-05, 'epoch': 2.445764192139738, 'step': 7000}\n",
      "{'loss': 3.601484375, 'learning_rate': 9.379804332634522e-05, 'epoch': 2.480698689956332, 'step': 7100}\n",
      "{'loss': 3.6034375, 'learning_rate': 9.371069182389938e-05, 'epoch': 2.515633187772926, 'step': 7200}\n",
      "{'loss': 3.61205078125, 'learning_rate': 9.362334032145353e-05, 'epoch': 2.5505676855895194, 'step': 7300}\n",
      "{'loss': 3.61154296875, 'learning_rate': 9.353598881900769e-05, 'epoch': 2.5855021834061134, 'step': 7400}\n",
      "{'loss': 3.60453125, 'learning_rate': 9.344863731656185e-05, 'epoch': 2.6204366812227073, 'step': 7500}\n",
      "{'loss': 3.60033203125, 'learning_rate': 9.3361285814116e-05, 'epoch': 2.6553711790393013, 'step': 7600}\n",
      "{'loss': 3.60146484375, 'learning_rate': 9.327393431167016e-05, 'epoch': 2.6903056768558953, 'step': 7700}\n",
      "{'loss': 3.60640625, 'learning_rate': 9.318658280922431e-05, 'epoch': 2.7252401746724892, 'step': 7800}\n",
      "{'loss': 3.6065234375, 'learning_rate': 9.309923130677848e-05, 'epoch': 2.760174672489083, 'step': 7900}\n",
      "{'loss': 3.60603515625, 'learning_rate': 9.301187980433264e-05, 'epoch': 2.7951091703056767, 'step': 8000}\n",
      "{'loss': 3.61177734375, 'learning_rate': 9.29245283018868e-05, 'epoch': 2.8300436681222707, 'step': 8100}\n",
      "{'loss': 3.612265625, 'learning_rate': 9.283717679944095e-05, 'epoch': 2.8649781659388647, 'step': 8200}\n",
      "{'loss': 3.609921875, 'learning_rate': 9.274982529699511e-05, 'epoch': 2.8999126637554586, 'step': 8300}\n",
      "{'loss': 3.60439453125, 'learning_rate': 9.266247379454928e-05, 'epoch': 2.934847161572052, 'step': 8400}\n",
      "{'loss': 3.62115234375, 'learning_rate': 9.257512229210343e-05, 'epoch': 2.969781659388646, 'step': 8500}\n",
      "\n"
     ]
    },
    {
     "data": {
      "application/vnd.jupyter.widget-view+json": {
       "model_id": "b8f9ca1e3049447f948d2529f85b0443",
       "version_major": 2,
       "version_minor": 0
      },
      "text/plain": [
       "HBox(children=(FloatProgress(value=0.0, description='Iteration', max=11450.0, style=ProgressStyle(description_…"
      ]
     },
     "metadata": {},
     "output_type": "display_data"
    },
    {
     "name": "stdout",
     "output_type": "stream",
     "text": [
      "{'loss': 3.64025390625, 'learning_rate': 9.248777078965759e-05, 'epoch': 3.004890829694323, 'step': 8600}\n",
      "{'loss': 3.59412109375, 'learning_rate': 9.240041928721174e-05, 'epoch': 3.039825327510917, 'step': 8700}\n",
      "{'loss': 3.5983203125, 'learning_rate': 9.23130677847659e-05, 'epoch': 3.074759825327511, 'step': 8800}\n",
      "{'loss': 3.59208984375, 'learning_rate': 9.222571628232006e-05, 'epoch': 3.109694323144105, 'step': 8900}\n",
      "{'loss': 3.5978515625, 'learning_rate': 9.213836477987423e-05, 'epoch': 3.1446288209606985, 'step': 9000}\n",
      "{'loss': 3.59314453125, 'learning_rate': 9.205101327742838e-05, 'epoch': 3.1795633187772925, 'step': 9100}\n",
      "{'loss': 3.605546875, 'learning_rate': 9.196366177498254e-05, 'epoch': 3.2144978165938864, 'step': 9200}\n",
      "{'loss': 3.594375, 'learning_rate': 9.18763102725367e-05, 'epoch': 3.2494323144104804, 'step': 9300}\n",
      "{'loss': 3.6029296875, 'learning_rate': 9.178895877009085e-05, 'epoch': 3.2843668122270744, 'step': 9400}\n",
      "{'loss': 3.5848046875, 'learning_rate': 9.1701607267645e-05, 'epoch': 3.3193013100436684, 'step': 9500}\n",
      "{'loss': 3.6010546875, 'learning_rate': 9.161425576519916e-05, 'epoch': 3.354235807860262, 'step': 9600}\n",
      "{'loss': 3.5984765625, 'learning_rate': 9.152690426275332e-05, 'epoch': 3.389170305676856, 'step': 9700}\n",
      "{'loss': 3.6062109375, 'learning_rate': 9.143955276030747e-05, 'epoch': 3.42410480349345, 'step': 9800}\n",
      "{'loss': 3.603984375, 'learning_rate': 9.135220125786164e-05, 'epoch': 3.459039301310044, 'step': 9900}\n",
      "{'loss': 3.5983203125, 'learning_rate': 9.12648497554158e-05, 'epoch': 3.4939737991266377, 'step': 10000}\n",
      "{'loss': 3.606953125, 'learning_rate': 9.117749825296995e-05, 'epoch': 3.5289082969432313, 'step': 10100}\n",
      "{'loss': 3.60125, 'learning_rate': 9.109014675052411e-05, 'epoch': 3.5638427947598252, 'step': 10200}\n",
      "{'loss': 3.5995703125, 'learning_rate': 9.100279524807828e-05, 'epoch': 3.598777292576419, 'step': 10300}\n",
      "{'loss': 3.60765625, 'learning_rate': 9.091544374563244e-05, 'epoch': 3.633711790393013, 'step': 10400}\n",
      "{'loss': 3.61078125, 'learning_rate': 9.082809224318659e-05, 'epoch': 3.668646288209607, 'step': 10500}\n",
      "{'loss': 3.6091015625, 'learning_rate': 9.074074074074075e-05, 'epoch': 3.703580786026201, 'step': 10600}\n",
      "{'loss': 3.5987109375, 'learning_rate': 9.06533892382949e-05, 'epoch': 3.7385152838427946, 'step': 10700}\n",
      "{'loss': 3.604140625, 'learning_rate': 9.056603773584906e-05, 'epoch': 3.7734497816593886, 'step': 10800}\n",
      "{'loss': 3.6148828125, 'learning_rate': 9.047868623340322e-05, 'epoch': 3.8083842794759826, 'step': 10900}\n",
      "{'loss': 3.5998828125, 'learning_rate': 9.039133473095737e-05, 'epoch': 3.8433187772925765, 'step': 11000}\n",
      "{'loss': 3.608359375, 'learning_rate': 9.030398322851154e-05, 'epoch': 3.87825327510917, 'step': 11100}\n",
      "{'loss': 3.607578125, 'learning_rate': 9.02166317260657e-05, 'epoch': 3.913187772925764, 'step': 11200}\n",
      "{'loss': 3.6006640625, 'learning_rate': 9.012928022361985e-05, 'epoch': 3.948122270742358, 'step': 11300}\n",
      "{'loss': 3.6081640625, 'learning_rate': 9.004192872117401e-05, 'epoch': 3.983056768558952, 'step': 11400}\n",
      "\n"
     ]
    },
    {
     "data": {
      "application/vnd.jupyter.widget-view+json": {
       "model_id": "6f870723cd35411bbb19c2ddf4d2d33a",
       "version_major": 2,
       "version_minor": 0
      },
      "text/plain": [
       "HBox(children=(FloatProgress(value=0.0, description='Iteration', max=11450.0, style=ProgressStyle(description_…"
      ]
     },
     "metadata": {},
     "output_type": "display_data"
    },
    {
     "name": "stdout",
     "output_type": "stream",
     "text": [
      "{'loss': 3.614765625, 'learning_rate': 8.995457721872816e-05, 'epoch': 4.0181659388646285, 'step': 11500}\n",
      "{'loss': 3.597734375, 'learning_rate': 8.986722571628232e-05, 'epoch': 4.053100436681222, 'step': 11600}\n",
      "{'loss': 3.599765625, 'learning_rate': 8.977987421383648e-05, 'epoch': 4.088034934497816, 'step': 11700}\n",
      "{'loss': 3.5951953125, 'learning_rate': 8.969252271139063e-05, 'epoch': 4.12296943231441, 'step': 11800}\n",
      "{'loss': 3.5928125, 'learning_rate': 8.960517120894479e-05, 'epoch': 4.157903930131004, 'step': 11900}\n",
      "{'loss': 3.58984375, 'learning_rate': 8.951781970649896e-05, 'epoch': 4.192838427947598, 'step': 12000}\n",
      "{'loss': 3.5888671875, 'learning_rate': 8.943046820405311e-05, 'epoch': 4.227772925764192, 'step': 12100}\n",
      "{'loss': 3.592578125, 'learning_rate': 8.934311670160728e-05, 'epoch': 4.262707423580786, 'step': 12200}\n",
      "{'loss': 3.596328125, 'learning_rate': 8.925576519916144e-05, 'epoch': 4.29764192139738, 'step': 12300}\n",
      "{'loss': 3.5999609375, 'learning_rate': 8.91684136967156e-05, 'epoch': 4.332576419213974, 'step': 12400}\n",
      "{'loss': 3.599921875, 'learning_rate': 8.908106219426975e-05, 'epoch': 4.367510917030568, 'step': 12500}\n",
      "{'loss': 3.5984765625, 'learning_rate': 8.89937106918239e-05, 'epoch': 4.402445414847161, 'step': 12600}\n",
      "{'loss': 3.59234375, 'learning_rate': 8.890635918937806e-05, 'epoch': 4.437379912663755, 'step': 12700}\n",
      "{'loss': 3.598984375, 'learning_rate': 8.881900768693222e-05, 'epoch': 4.472314410480349, 'step': 12800}\n",
      "{'loss': 3.605859375, 'learning_rate': 8.873165618448637e-05, 'epoch': 4.507248908296943, 'step': 12900}\n",
      "{'loss': 3.604140625, 'learning_rate': 8.864430468204053e-05, 'epoch': 4.542183406113537, 'step': 13000}\n",
      "{'loss': 3.6031640625, 'learning_rate': 8.85569531795947e-05, 'epoch': 4.577117903930131, 'step': 13100}\n",
      "{'loss': 3.593359375, 'learning_rate': 8.846960167714886e-05, 'epoch': 4.612052401746725, 'step': 13200}\n",
      "{'loss': 3.6005078125, 'learning_rate': 8.838225017470301e-05, 'epoch': 4.646986899563319, 'step': 13300}\n",
      "{'loss': 3.60546875, 'learning_rate': 8.829489867225717e-05, 'epoch': 4.681921397379913, 'step': 13400}\n",
      "{'loss': 3.5967578125, 'learning_rate': 8.820754716981132e-05, 'epoch': 4.716855895196506, 'step': 13500}\n",
      "{'loss': 3.589453125, 'learning_rate': 8.812019566736548e-05, 'epoch': 4.751790393013101, 'step': 13600}\n",
      "{'loss': 3.598359375, 'learning_rate': 8.803284416491963e-05, 'epoch': 4.786724890829694, 'step': 13700}\n",
      "{'loss': 3.605859375, 'learning_rate': 8.794549266247379e-05, 'epoch': 4.821659388646288, 'step': 13800}\n",
      "{'loss': 3.607578125, 'learning_rate': 8.785814116002795e-05, 'epoch': 4.856593886462882, 'step': 13900}\n",
      "{'loss': 3.6003515625, 'learning_rate': 8.777078965758212e-05, 'epoch': 4.891528384279476, 'step': 14000}\n",
      "{'loss': 3.603515625, 'learning_rate': 8.768343815513627e-05, 'epoch': 4.92646288209607, 'step': 14100}\n",
      "{'loss': 3.596171875, 'learning_rate': 8.759608665269044e-05, 'epoch': 4.961397379912664, 'step': 14200}\n",
      "{'loss': 3.6000390625, 'learning_rate': 8.75087351502446e-05, 'epoch': 4.996331877729258, 'step': 14300}\n",
      "\n"
     ]
    },
    {
     "data": {
      "application/vnd.jupyter.widget-view+json": {
       "model_id": "2b703a0c8d0b4804ad6112f2dcd171bc",
       "version_major": 2,
       "version_minor": 0
      },
      "text/plain": [
       "HBox(children=(FloatProgress(value=0.0, description='Iteration', max=11450.0, style=ProgressStyle(description_…"
      ]
     },
     "metadata": {},
     "output_type": "display_data"
    },
    {
     "name": "stdout",
     "output_type": "stream",
     "text": [
      "{'loss': 3.6087109375, 'learning_rate': 8.742138364779875e-05, 'epoch': 5.031441048034934, 'step': 14400}\n",
      "{'loss': 3.5890625, 'learning_rate': 8.733403214535291e-05, 'epoch': 5.066375545851528, 'step': 14500}\n",
      "{'loss': 3.6009375, 'learning_rate': 8.724668064290706e-05, 'epoch': 5.101310043668122, 'step': 14600}\n",
      "{'loss': 3.5857421875, 'learning_rate': 8.715932914046122e-05, 'epoch': 5.136244541484716, 'step': 14700}\n",
      "{'loss': 3.5903125, 'learning_rate': 8.707197763801538e-05, 'epoch': 5.17117903930131, 'step': 14800}\n",
      "{'loss': 3.59953125, 'learning_rate': 8.698462613556953e-05, 'epoch': 5.206113537117904, 'step': 14900}\n",
      "{'loss': 3.5923828125, 'learning_rate': 8.689727463312369e-05, 'epoch': 5.241048034934498, 'step': 15000}\n",
      "{'loss': 3.587109375, 'learning_rate': 8.680992313067784e-05, 'epoch': 5.275982532751092, 'step': 15100}\n",
      "{'loss': 3.5877734375, 'learning_rate': 8.672257162823201e-05, 'epoch': 5.310917030567685, 'step': 15200}\n",
      "{'loss': 3.6002734375, 'learning_rate': 8.663522012578617e-05, 'epoch': 5.345851528384279, 'step': 15300}\n",
      "{'loss': 3.595546875, 'learning_rate': 8.654786862334033e-05, 'epoch': 5.380786026200873, 'step': 15400}\n",
      "{'loss': 3.59296875, 'learning_rate': 8.646051712089448e-05, 'epoch': 5.415720524017467, 'step': 15500}\n",
      "{'loss': 3.5861328125, 'learning_rate': 8.637316561844864e-05, 'epoch': 5.450655021834061, 'step': 15600}\n",
      "{'loss': 3.5986328125, 'learning_rate': 8.62858141160028e-05, 'epoch': 5.485589519650655, 'step': 15700}\n",
      "{'loss': 3.59765625, 'learning_rate': 8.619846261355696e-05, 'epoch': 5.520524017467249, 'step': 15800}\n",
      "{'loss': 3.593125, 'learning_rate': 8.611111111111112e-05, 'epoch': 5.555458515283843, 'step': 15900}\n",
      "{'loss': 3.5908984375, 'learning_rate': 8.602375960866527e-05, 'epoch': 5.590393013100437, 'step': 16000}\n",
      "{'loss': 3.601796875, 'learning_rate': 8.593640810621943e-05, 'epoch': 5.625327510917031, 'step': 16100}\n",
      "{'loss': 3.5926953125, 'learning_rate': 8.584905660377359e-05, 'epoch': 5.660262008733625, 'step': 16200}\n",
      "{'loss': 3.5937109375, 'learning_rate': 8.576170510132776e-05, 'epoch': 5.695196506550218, 'step': 16300}\n",
      "{'loss': 3.6038671875, 'learning_rate': 8.567435359888191e-05, 'epoch': 5.730131004366812, 'step': 16400}\n",
      "{'loss': 3.605390625, 'learning_rate': 8.558700209643607e-05, 'epoch': 5.765065502183406, 'step': 16500}\n",
      "{'loss': 3.5916796875, 'learning_rate': 8.549965059399022e-05, 'epoch': 5.8, 'step': 16600}\n",
      "{'loss': 3.6059375, 'learning_rate': 8.541229909154438e-05, 'epoch': 5.834934497816594, 'step': 16700}\n",
      "{'loss': 3.5972265625, 'learning_rate': 8.532494758909854e-05, 'epoch': 5.869868995633188, 'step': 16800}\n",
      "{'loss': 3.60828125, 'learning_rate': 8.523759608665269e-05, 'epoch': 5.904803493449782, 'step': 16900}\n",
      "{'loss': 3.6015234375, 'learning_rate': 8.515024458420685e-05, 'epoch': 5.939737991266376, 'step': 17000}\n",
      "{'loss': 3.5971484375, 'learning_rate': 8.5062893081761e-05, 'epoch': 5.97467248908297, 'step': 17100}\n",
      "\n"
     ]
    },
    {
     "data": {
      "application/vnd.jupyter.widget-view+json": {
       "model_id": "43d0b003c15241be9a282caf481851ea",
       "version_major": 2,
       "version_minor": 0
      },
      "text/plain": [
       "HBox(children=(FloatProgress(value=0.0, description='Iteration', max=11450.0, style=ProgressStyle(description_…"
      ]
     },
     "metadata": {},
     "output_type": "display_data"
    },
    {
     "name": "stdout",
     "output_type": "stream",
     "text": [
      "{'loss': 3.6125, 'learning_rate': 8.497554157931516e-05, 'epoch': 6.009781659388646, 'step': 17200}\n",
      "{'loss': 3.5806640625, 'learning_rate': 8.488819007686933e-05, 'epoch': 6.04471615720524, 'step': 17300}\n",
      "{'loss': 3.5851953125, 'learning_rate': 8.480083857442348e-05, 'epoch': 6.079650655021834, 'step': 17400}\n",
      "{'loss': 3.5840234375, 'learning_rate': 8.471348707197764e-05, 'epoch': 6.114585152838428, 'step': 17500}\n",
      "{'loss': 3.5896875, 'learning_rate': 8.46261355695318e-05, 'epoch': 6.149519650655022, 'step': 17600}\n",
      "{'loss': 3.5843359375, 'learning_rate': 8.453878406708597e-05, 'epoch': 6.184454148471616, 'step': 17700}\n",
      "{'loss': 3.5888671875, 'learning_rate': 8.445143256464012e-05, 'epoch': 6.21938864628821, 'step': 17800}\n",
      "{'loss': 3.5907421875, 'learning_rate': 8.436408106219428e-05, 'epoch': 6.254323144104804, 'step': 17900}\n",
      "{'loss': 3.5909765625, 'learning_rate': 8.427672955974843e-05, 'epoch': 6.289257641921397, 'step': 18000}\n",
      "{'loss': 3.582734375, 'learning_rate': 8.418937805730259e-05, 'epoch': 6.324192139737991, 'step': 18100}\n",
      "{'loss': 3.587265625, 'learning_rate': 8.410202655485675e-05, 'epoch': 6.359126637554585, 'step': 18200}\n",
      "{'loss': 3.5996875, 'learning_rate': 8.40146750524109e-05, 'epoch': 6.394061135371179, 'step': 18300}\n",
      "{'loss': 3.594765625, 'learning_rate': 8.392732354996507e-05, 'epoch': 6.428995633187773, 'step': 18400}\n",
      "{'loss': 3.587265625, 'learning_rate': 8.383997204751923e-05, 'epoch': 6.463930131004367, 'step': 18500}\n",
      "{'loss': 3.593203125, 'learning_rate': 8.375262054507338e-05, 'epoch': 6.498864628820961, 'step': 18600}\n",
      "{'loss': 3.593046875, 'learning_rate': 8.366526904262754e-05, 'epoch': 6.533799126637555, 'step': 18700}\n",
      "{'loss': 3.602109375, 'learning_rate': 8.35779175401817e-05, 'epoch': 6.568733624454149, 'step': 18800}\n",
      "{'loss': 3.596015625, 'learning_rate': 8.349056603773585e-05, 'epoch': 6.603668122270743, 'step': 18900}\n",
      "{'loss': 3.586015625, 'learning_rate': 8.340321453529e-05, 'epoch': 6.638602620087337, 'step': 19000}\n",
      "{'loss': 3.604921875, 'learning_rate': 8.331586303284416e-05, 'epoch': 6.67353711790393, 'step': 19100}\n",
      "{'loss': 3.59734375, 'learning_rate': 8.322851153039832e-05, 'epoch': 6.708471615720524, 'step': 19200}\n",
      "{'loss': 3.594453125, 'learning_rate': 8.314116002795249e-05, 'epoch': 6.743406113537118, 'step': 19300}\n",
      "{'loss': 3.60234375, 'learning_rate': 8.305380852550664e-05, 'epoch': 6.778340611353712, 'step': 19400}\n",
      "{'loss': 3.60125, 'learning_rate': 8.29664570230608e-05, 'epoch': 6.813275109170306, 'step': 19500}\n",
      "{'loss': 3.595625, 'learning_rate': 8.287910552061497e-05, 'epoch': 6.8482096069869, 'step': 19600}\n",
      "{'loss': 3.59890625, 'learning_rate': 8.279175401816912e-05, 'epoch': 6.883144104803494, 'step': 19700}\n",
      "{'loss': 3.605, 'learning_rate': 8.270440251572328e-05, 'epoch': 6.918078602620088, 'step': 19800}\n",
      "{'loss': 3.598046875, 'learning_rate': 8.261705101327744e-05, 'epoch': 6.9530131004366815, 'step': 19900}\n",
      "{'loss': 3.59890625, 'learning_rate': 8.252969951083159e-05, 'epoch': 6.9879475982532755, 'step': 20000}\n",
      "\n"
     ]
    },
    {
     "data": {
      "application/vnd.jupyter.widget-view+json": {
       "model_id": "2e82f5021fc64010a79c5fae0baea458",
       "version_major": 2,
       "version_minor": 0
      },
      "text/plain": [
       "HBox(children=(FloatProgress(value=0.0, description='Iteration', max=11450.0, style=ProgressStyle(description_…"
      ]
     },
     "metadata": {},
     "output_type": "display_data"
    },
    {
     "name": "stdout",
     "output_type": "stream",
     "text": [
      "{'loss': 3.61046875, 'learning_rate': 8.244234800838575e-05, 'epoch': 7.023056768558952, 'step': 20100}\n",
      "{'loss': 3.587734375, 'learning_rate': 8.23549965059399e-05, 'epoch': 7.057991266375546, 'step': 20200}\n",
      "{'loss': 3.5890625, 'learning_rate': 8.226764500349406e-05, 'epoch': 7.09292576419214, 'step': 20300}\n",
      "{'loss': 3.582734375, 'learning_rate': 8.218029350104822e-05, 'epoch': 7.127860262008734, 'step': 20400}\n",
      "{'loss': 3.587421875, 'learning_rate': 8.209294199860239e-05, 'epoch': 7.162794759825328, 'step': 20500}\n",
      "{'loss': 3.585625, 'learning_rate': 8.200559049615654e-05, 'epoch': 7.197729257641921, 'step': 20600}\n",
      "{'loss': 3.597265625, 'learning_rate': 8.19182389937107e-05, 'epoch': 7.232663755458515, 'step': 20700}\n",
      "{'loss': 3.58984375, 'learning_rate': 8.183088749126485e-05, 'epoch': 7.267598253275109, 'step': 20800}\n",
      "{'loss': 3.586953125, 'learning_rate': 8.174353598881901e-05, 'epoch': 7.302532751091703, 'step': 20900}\n",
      "{'loss': 3.593359375, 'learning_rate': 8.165618448637316e-05, 'epoch': 7.337467248908297, 'step': 21000}\n",
      "{'loss': 3.588359375, 'learning_rate': 8.156883298392732e-05, 'epoch': 7.372401746724891, 'step': 21100}\n",
      "{'loss': 3.5984375, 'learning_rate': 8.148148148148148e-05, 'epoch': 7.407336244541485, 'step': 21200}\n",
      "{'loss': 3.594375, 'learning_rate': 8.139412997903563e-05, 'epoch': 7.442270742358079, 'step': 21300}\n",
      "{'loss': 3.587578125, 'learning_rate': 8.13067784765898e-05, 'epoch': 7.477205240174673, 'step': 21400}\n",
      "{'loss': 3.586015625, 'learning_rate': 8.121942697414396e-05, 'epoch': 7.512139737991267, 'step': 21500}\n",
      "{'loss': 3.596328125, 'learning_rate': 8.113207547169813e-05, 'epoch': 7.547074235807861, 'step': 21600}\n",
      "{'loss': 3.595703125, 'learning_rate': 8.104472396925228e-05, 'epoch': 7.582008733624454, 'step': 21700}\n",
      "{'loss': 3.595625, 'learning_rate': 8.095737246680644e-05, 'epoch': 7.616943231441048, 'step': 21800}\n",
      "{'loss': 3.586328125, 'learning_rate': 8.08700209643606e-05, 'epoch': 7.651877729257642, 'step': 21900}\n",
      "{'loss': 3.594921875, 'learning_rate': 8.078266946191475e-05, 'epoch': 7.686812227074236, 'step': 22000}\n",
      "{'loss': 3.60234375, 'learning_rate': 8.06953179594689e-05, 'epoch': 7.72174672489083, 'step': 22100}\n",
      "{'loss': 3.589609375, 'learning_rate': 8.060796645702306e-05, 'epoch': 7.7566812227074236, 'step': 22200}\n",
      "{'loss': 3.59328125, 'learning_rate': 8.052061495457722e-05, 'epoch': 7.7916157205240175, 'step': 22300}\n",
      "{'loss': 3.5890625, 'learning_rate': 8.043326345213137e-05, 'epoch': 7.8265502183406115, 'step': 22400}\n",
      "{'loss': 3.581796875, 'learning_rate': 8.034591194968554e-05, 'epoch': 7.8614847161572055, 'step': 22500}\n",
      "{'loss': 3.592421875, 'learning_rate': 8.02585604472397e-05, 'epoch': 7.896419213973799, 'step': 22600}\n",
      "{'loss': 3.596796875, 'learning_rate': 8.017120894479386e-05, 'epoch': 7.931353711790393, 'step': 22700}\n",
      "{'loss': 3.59015625, 'learning_rate': 8.008385744234801e-05, 'epoch': 7.9662882096069865, 'step': 22800}\n",
      "\n"
     ]
    },
    {
     "data": {
      "application/vnd.jupyter.widget-view+json": {
       "model_id": "95639f5dd38943dcabf667ddae18eed8",
       "version_major": 2,
       "version_minor": 0
      },
      "text/plain": [
       "HBox(children=(FloatProgress(value=0.0, description='Iteration', max=11450.0, style=ProgressStyle(description_…"
      ]
     },
     "metadata": {},
     "output_type": "display_data"
    },
    {
     "name": "stdout",
     "output_type": "stream",
     "text": [
      "{'loss': 3.61671875, 'learning_rate': 7.999650593990217e-05, 'epoch': 8.001397379912664, 'step': 22900}\n",
      "{'loss': 3.5809375, 'learning_rate': 7.990915443745632e-05, 'epoch': 8.036331877729257, 'step': 23000}\n",
      "{'loss': 3.586015625, 'learning_rate': 7.982180293501048e-05, 'epoch': 8.071266375545852, 'step': 23100}\n",
      "{'loss': 3.57203125, 'learning_rate': 7.973445143256464e-05, 'epoch': 8.106200873362445, 'step': 23200}\n",
      "{'loss': 3.58140625, 'learning_rate': 7.96470999301188e-05, 'epoch': 8.14113537117904, 'step': 23300}\n",
      "{'loss': 3.58625, 'learning_rate': 7.955974842767296e-05, 'epoch': 8.176069868995633, 'step': 23400}\n",
      "{'loss': 3.57609375, 'learning_rate': 7.947239692522712e-05, 'epoch': 8.211004366812228, 'step': 23500}\n",
      "{'loss': 3.591640625, 'learning_rate': 7.938504542278127e-05, 'epoch': 8.24593886462882, 'step': 23600}\n",
      "{'loss': 3.584296875, 'learning_rate': 7.929769392033544e-05, 'epoch': 8.280873362445416, 'step': 23700}\n",
      "{'loss': 3.5909375, 'learning_rate': 7.92103424178896e-05, 'epoch': 8.315807860262009, 'step': 23800}\n",
      "{'loss': 3.58578125, 'learning_rate': 7.912299091544375e-05, 'epoch': 8.350742358078602, 'step': 23900}\n",
      "{'loss': 3.590078125, 'learning_rate': 7.903563941299791e-05, 'epoch': 8.385676855895197, 'step': 24000}\n",
      "{'loss': 3.582265625, 'learning_rate': 7.894828791055207e-05, 'epoch': 8.42061135371179, 'step': 24100}\n",
      "{'loss': 3.58859375, 'learning_rate': 7.886093640810622e-05, 'epoch': 8.455545851528385, 'step': 24200}\n",
      "{'loss': 3.598125, 'learning_rate': 7.877358490566038e-05, 'epoch': 8.490480349344978, 'step': 24300}\n",
      "{'loss': 3.594375, 'learning_rate': 7.868623340321453e-05, 'epoch': 8.525414847161572, 'step': 24400}\n",
      "{'loss': 3.59484375, 'learning_rate': 7.859888190076869e-05, 'epoch': 8.560349344978166, 'step': 24500}\n",
      "{'loss': 3.589375, 'learning_rate': 7.851153039832286e-05, 'epoch': 8.59528384279476, 'step': 24600}\n",
      "{'loss': 3.586796875, 'learning_rate': 7.842417889587701e-05, 'epoch': 8.630218340611354, 'step': 24700}\n",
      "{'loss': 3.594921875, 'learning_rate': 7.833682739343117e-05, 'epoch': 8.665152838427948, 'step': 24800}\n",
      "{'loss': 3.58875, 'learning_rate': 7.824947589098533e-05, 'epoch': 8.700087336244541, 'step': 24900}\n",
      "{'loss': 3.5928125, 'learning_rate': 7.816212438853948e-05, 'epoch': 8.735021834061136, 'step': 25000}\n",
      "{'loss': 3.594296875, 'learning_rate': 7.807477288609365e-05, 'epoch': 8.76995633187773, 'step': 25100}\n",
      "{'loss': 3.591796875, 'learning_rate': 7.798742138364781e-05, 'epoch': 8.804890829694322, 'step': 25200}\n",
      "{'loss': 3.5928125, 'learning_rate': 7.790006988120196e-05, 'epoch': 8.839825327510917, 'step': 25300}\n",
      "{'loss': 3.59421875, 'learning_rate': 7.781271837875612e-05, 'epoch': 8.87475982532751, 'step': 25400}\n",
      "{'loss': 3.59078125, 'learning_rate': 7.772536687631028e-05, 'epoch': 8.909694323144105, 'step': 25500}\n",
      "{'loss': 3.5953125, 'learning_rate': 7.763801537386443e-05, 'epoch': 8.944628820960698, 'step': 25600}\n",
      "{'loss': 3.600390625, 'learning_rate': 7.75506638714186e-05, 'epoch': 8.979563318777293, 'step': 25700}\n",
      "\n"
     ]
    },
    {
     "data": {
      "application/vnd.jupyter.widget-view+json": {
       "model_id": "59b493a530074258a6d8f8e56d776536",
       "version_major": 2,
       "version_minor": 0
      },
      "text/plain": [
       "HBox(children=(FloatProgress(value=0.0, description='Iteration', max=11450.0, style=ProgressStyle(description_…"
      ]
     },
     "metadata": {},
     "output_type": "display_data"
    },
    {
     "name": "stdout",
     "output_type": "stream",
     "text": [
      "{'loss': 3.61875, 'learning_rate': 7.746331236897276e-05, 'epoch': 9.014672489082969, 'step': 25800}\n",
      "{'loss': 3.580859375, 'learning_rate': 7.737596086652691e-05, 'epoch': 9.049606986899564, 'step': 25900}\n",
      "{'loss': 3.571328125, 'learning_rate': 7.728860936408107e-05, 'epoch': 9.084541484716157, 'step': 26000}\n",
      "{'loss': 3.5884375, 'learning_rate': 7.720125786163522e-05, 'epoch': 9.119475982532752, 'step': 26100}\n",
      "{'loss': 3.58421875, 'learning_rate': 7.711390635918938e-05, 'epoch': 9.154410480349345, 'step': 26200}\n",
      "{'loss': 3.59015625, 'learning_rate': 7.702655485674354e-05, 'epoch': 9.18934497816594, 'step': 26300}\n",
      "{'loss': 3.586953125, 'learning_rate': 7.693920335429769e-05, 'epoch': 9.224279475982533, 'step': 26400}\n",
      "{'loss': 3.579140625, 'learning_rate': 7.685185185185185e-05, 'epoch': 9.259213973799127, 'step': 26500}\n",
      "{'loss': 3.59484375, 'learning_rate': 7.6764500349406e-05, 'epoch': 9.29414847161572, 'step': 26600}\n",
      "{'loss': 3.58109375, 'learning_rate': 7.667714884696017e-05, 'epoch': 9.329082969432314, 'step': 26700}\n",
      "{'loss': 3.58921875, 'learning_rate': 7.658979734451433e-05, 'epoch': 9.364017467248908, 'step': 26800}\n",
      "{'loss': 3.583515625, 'learning_rate': 7.650244584206848e-05, 'epoch': 9.398951965065502, 'step': 26900}\n",
      "{'loss': 3.596875, 'learning_rate': 7.641509433962265e-05, 'epoch': 9.433886462882096, 'step': 27000}\n",
      "{'loss': 3.590234375, 'learning_rate': 7.632774283717681e-05, 'epoch': 9.46882096069869, 'step': 27100}\n",
      "{'loss': 3.593828125, 'learning_rate': 7.624039133473097e-05, 'epoch': 9.503755458515284, 'step': 27200}\n",
      "{'loss': 3.5946875, 'learning_rate': 7.615303983228512e-05, 'epoch': 9.538689956331877, 'step': 27300}\n",
      "{'loss': 3.588046875, 'learning_rate': 7.606568832983928e-05, 'epoch': 9.573624454148472, 'step': 27400}\n",
      "{'loss': 3.58359375, 'learning_rate': 7.597833682739343e-05, 'epoch': 9.608558951965065, 'step': 27500}\n",
      "{'loss': 3.588515625, 'learning_rate': 7.589098532494759e-05, 'epoch': 9.643493449781658, 'step': 27600}\n",
      "{'loss': 3.598203125, 'learning_rate': 7.580363382250175e-05, 'epoch': 9.678427947598253, 'step': 27700}\n",
      "{'loss': 3.586875, 'learning_rate': 7.571628232005592e-05, 'epoch': 9.713362445414846, 'step': 27800}\n",
      "{'loss': 3.5859375, 'learning_rate': 7.562893081761007e-05, 'epoch': 9.748296943231441, 'step': 27900}\n",
      "{'loss': 3.59078125, 'learning_rate': 7.554157931516423e-05, 'epoch': 9.783231441048034, 'step': 28000}\n",
      "{'loss': 3.587578125, 'learning_rate': 7.545422781271838e-05, 'epoch': 9.81816593886463, 'step': 28100}\n",
      "{'loss': 3.5878125, 'learning_rate': 7.536687631027254e-05, 'epoch': 9.853100436681222, 'step': 28200}\n",
      "{'loss': 3.5896875, 'learning_rate': 7.52795248078267e-05, 'epoch': 9.888034934497817, 'step': 28300}\n",
      "{'loss': 3.586953125, 'learning_rate': 7.519217330538085e-05, 'epoch': 9.92296943231441, 'step': 28400}\n",
      "{'loss': 3.5878125, 'learning_rate': 7.5104821802935e-05, 'epoch': 9.957903930131005, 'step': 28500}\n",
      "{'loss': 3.58234375, 'learning_rate': 7.501747030048916e-05, 'epoch': 9.992838427947598, 'step': 28600}\n",
      "\n"
     ]
    },
    {
     "data": {
      "application/vnd.jupyter.widget-view+json": {
       "model_id": "a135b4dd47804c6abe11dc66dc73548b",
       "version_major": 2,
       "version_minor": 0
      },
      "text/plain": [
       "HBox(children=(FloatProgress(value=0.0, description='Iteration', max=11450.0, style=ProgressStyle(description_…"
      ]
     },
     "metadata": {},
     "output_type": "display_data"
    },
    {
     "name": "stdout",
     "output_type": "stream",
     "text": [
      "{'loss': 3.59546875, 'learning_rate': 7.493011879804333e-05, 'epoch': 10.027947598253276, 'step': 28700}\n",
      "{'loss': 3.58296875, 'learning_rate': 7.484276729559749e-05, 'epoch': 10.062882096069869, 'step': 28800}\n",
      "{'loss': 3.5846875, 'learning_rate': 7.475541579315166e-05, 'epoch': 10.097816593886463, 'step': 28900}\n",
      "{'loss': 3.58875, 'learning_rate': 7.466806429070581e-05, 'epoch': 10.132751091703057, 'step': 29000}\n",
      "{'loss': 3.5846875, 'learning_rate': 7.458071278825997e-05, 'epoch': 10.167685589519651, 'step': 29100}\n",
      "{'loss': 3.5790625, 'learning_rate': 7.449336128581412e-05, 'epoch': 10.202620087336244, 'step': 29200}\n",
      "{'loss': 3.58421875, 'learning_rate': 7.440600978336828e-05, 'epoch': 10.237554585152838, 'step': 29300}\n",
      "{'loss': 3.58203125, 'learning_rate': 7.431865828092244e-05, 'epoch': 10.272489082969432, 'step': 29400}\n",
      "{'loss': 3.580625, 'learning_rate': 7.423130677847659e-05, 'epoch': 10.307423580786025, 'step': 29500}\n",
      "{'loss': 3.585859375, 'learning_rate': 7.414395527603075e-05, 'epoch': 10.34235807860262, 'step': 29600}\n",
      "{'loss': 3.585390625, 'learning_rate': 7.40566037735849e-05, 'epoch': 10.377292576419213, 'step': 29700}\n",
      "{'loss': 3.57640625, 'learning_rate': 7.396925227113906e-05, 'epoch': 10.412227074235808, 'step': 29800}\n",
      "{'loss': 3.589296875, 'learning_rate': 7.388190076869323e-05, 'epoch': 10.447161572052401, 'step': 29900}\n",
      "{'loss': 3.58609375, 'learning_rate': 7.379454926624739e-05, 'epoch': 10.482096069868996, 'step': 30000}\n",
      "{'loss': 3.582890625, 'learning_rate': 7.370719776380154e-05, 'epoch': 10.51703056768559, 'step': 30100}\n",
      "{'loss': 3.57859375, 'learning_rate': 7.36198462613557e-05, 'epoch': 10.551965065502184, 'step': 30200}\n",
      "{'loss': 3.592578125, 'learning_rate': 7.353249475890985e-05, 'epoch': 10.586899563318777, 'step': 30300}\n",
      "{'loss': 3.577421875, 'learning_rate': 7.344514325646401e-05, 'epoch': 10.62183406113537, 'step': 30400}\n",
      "{'loss': 3.590546875, 'learning_rate': 7.335779175401817e-05, 'epoch': 10.656768558951965, 'step': 30500}\n",
      "{'loss': 3.584921875, 'learning_rate': 7.327044025157232e-05, 'epoch': 10.691703056768558, 'step': 30600}\n",
      "{'loss': 3.5853125, 'learning_rate': 7.318308874912649e-05, 'epoch': 10.726637554585153, 'step': 30700}\n",
      "{'loss': 3.586328125, 'learning_rate': 7.309573724668065e-05, 'epoch': 10.761572052401746, 'step': 30800}\n",
      "{'loss': 3.586484375, 'learning_rate': 7.30083857442348e-05, 'epoch': 10.796506550218341, 'step': 30900}\n",
      "{'loss': 3.590078125, 'learning_rate': 7.292103424178897e-05, 'epoch': 10.831441048034934, 'step': 31000}\n",
      "{'loss': 3.585703125, 'learning_rate': 7.283368273934313e-05, 'epoch': 10.866375545851529, 'step': 31100}\n",
      "{'loss': 3.592265625, 'learning_rate': 7.274633123689728e-05, 'epoch': 10.901310043668122, 'step': 31200}\n",
      "{'loss': 3.5921875, 'learning_rate': 7.265897973445144e-05, 'epoch': 10.936244541484717, 'step': 31300}\n",
      "{'loss': 3.59859375, 'learning_rate': 7.25716282320056e-05, 'epoch': 10.97117903930131, 'step': 31400}\n",
      "\n"
     ]
    },
    {
     "data": {
      "application/vnd.jupyter.widget-view+json": {
       "model_id": "6c31fb6852da4b688ac7a04fc41b039f",
       "version_major": 2,
       "version_minor": 0
      },
      "text/plain": [
       "HBox(children=(FloatProgress(value=0.0, description='Iteration', max=11450.0, style=ProgressStyle(description_…"
      ]
     },
     "metadata": {},
     "output_type": "display_data"
    },
    {
     "name": "stdout",
     "output_type": "stream",
     "text": [
      "{'loss': 3.613125, 'learning_rate': 7.248427672955975e-05, 'epoch': 11.006288209606987, 'step': 31500}\n",
      "{'loss': 3.590078125, 'learning_rate': 7.239692522711391e-05, 'epoch': 11.04122270742358, 'step': 31600}\n",
      "{'loss': 3.578203125, 'learning_rate': 7.230957372466806e-05, 'epoch': 11.076157205240175, 'step': 31700}\n",
      "{'loss': 3.578203125, 'learning_rate': 7.222222222222222e-05, 'epoch': 11.111091703056768, 'step': 31800}\n",
      "{'loss': 3.5775, 'learning_rate': 7.213487071977639e-05, 'epoch': 11.146026200873363, 'step': 31900}\n",
      "{'loss': 3.578203125, 'learning_rate': 7.204751921733054e-05, 'epoch': 11.180960698689956, 'step': 32000}\n",
      "{'loss': 3.581953125, 'learning_rate': 7.19601677148847e-05, 'epoch': 11.21589519650655, 'step': 32100}\n",
      "{'loss': 3.582109375, 'learning_rate': 7.187281621243886e-05, 'epoch': 11.250829694323144, 'step': 32200}\n",
      "{'loss': 3.577265625, 'learning_rate': 7.178546470999301e-05, 'epoch': 11.285764192139737, 'step': 32300}\n",
      "{'loss': 3.5875, 'learning_rate': 7.169811320754717e-05, 'epoch': 11.320698689956332, 'step': 32400}\n"
     ]
    },
    {
     "ename": "KeyboardInterrupt",
     "evalue": "",
     "output_type": "error",
     "traceback": [
      "\u001b[1;31m---------------------------------------------------------------------------\u001b[0m",
      "\u001b[1;31mKeyboardInterrupt\u001b[0m                         Traceback (most recent call last)",
      "\u001b[1;32m<ipython-input-10-3435b262f1ae>\u001b[0m in \u001b[0;36m<module>\u001b[1;34m\u001b[0m\n\u001b[1;32m----> 1\u001b[1;33m \u001b[0mtrainer\u001b[0m\u001b[1;33m.\u001b[0m\u001b[0mtrain\u001b[0m\u001b[1;33m(\u001b[0m\u001b[1;33m)\u001b[0m\u001b[1;33m\u001b[0m\u001b[1;33m\u001b[0m\u001b[0m\n\u001b[0m",
      "\u001b[1;32mE:\\Users\\anshengqiang\\anaconda3\\lib\\site-packages\\transformers\\trainer.py\u001b[0m in \u001b[0;36mtrain\u001b[1;34m(self, model_path, trial)\u001b[0m\n\u001b[0;32m    705\u001b[0m                     \u001b[1;32mcontinue\u001b[0m\u001b[1;33m\u001b[0m\u001b[1;33m\u001b[0m\u001b[0m\n\u001b[0;32m    706\u001b[0m \u001b[1;33m\u001b[0m\u001b[0m\n\u001b[1;32m--> 707\u001b[1;33m                 \u001b[0mtr_loss\u001b[0m \u001b[1;33m+=\u001b[0m \u001b[0mself\u001b[0m\u001b[1;33m.\u001b[0m\u001b[0mtraining_step\u001b[0m\u001b[1;33m(\u001b[0m\u001b[0mmodel\u001b[0m\u001b[1;33m,\u001b[0m \u001b[0minputs\u001b[0m\u001b[1;33m)\u001b[0m\u001b[1;33m\u001b[0m\u001b[1;33m\u001b[0m\u001b[0m\n\u001b[0m\u001b[0;32m    708\u001b[0m \u001b[1;33m\u001b[0m\u001b[0m\n\u001b[0;32m    709\u001b[0m                 if (step + 1) % self.args.gradient_accumulation_steps == 0 or (\n",
      "\u001b[1;32mE:\\Users\\anshengqiang\\anaconda3\\lib\\site-packages\\transformers\\trainer.py\u001b[0m in \u001b[0;36mtraining_step\u001b[1;34m(self, model, inputs)\u001b[0m\n\u001b[0;32m   1006\u001b[0m \u001b[1;33m\u001b[0m\u001b[0m\n\u001b[0;32m   1007\u001b[0m         \u001b[1;32mif\u001b[0m \u001b[0mself\u001b[0m\u001b[1;33m.\u001b[0m\u001b[0margs\u001b[0m\u001b[1;33m.\u001b[0m\u001b[0mfp16\u001b[0m \u001b[1;32mand\u001b[0m \u001b[0m_use_native_amp\u001b[0m\u001b[1;33m:\u001b[0m\u001b[1;33m\u001b[0m\u001b[1;33m\u001b[0m\u001b[0m\n\u001b[1;32m-> 1008\u001b[1;33m             \u001b[0mself\u001b[0m\u001b[1;33m.\u001b[0m\u001b[0mscaler\u001b[0m\u001b[1;33m.\u001b[0m\u001b[0mscale\u001b[0m\u001b[1;33m(\u001b[0m\u001b[0mloss\u001b[0m\u001b[1;33m)\u001b[0m\u001b[1;33m.\u001b[0m\u001b[0mbackward\u001b[0m\u001b[1;33m(\u001b[0m\u001b[1;33m)\u001b[0m\u001b[1;33m\u001b[0m\u001b[1;33m\u001b[0m\u001b[0m\n\u001b[0m\u001b[0;32m   1009\u001b[0m         \u001b[1;32melif\u001b[0m \u001b[0mself\u001b[0m\u001b[1;33m.\u001b[0m\u001b[0margs\u001b[0m\u001b[1;33m.\u001b[0m\u001b[0mfp16\u001b[0m \u001b[1;32mand\u001b[0m \u001b[0m_use_apex\u001b[0m\u001b[1;33m:\u001b[0m\u001b[1;33m\u001b[0m\u001b[1;33m\u001b[0m\u001b[0m\n\u001b[0;32m   1010\u001b[0m             \u001b[1;32mwith\u001b[0m \u001b[0mamp\u001b[0m\u001b[1;33m.\u001b[0m\u001b[0mscale_loss\u001b[0m\u001b[1;33m(\u001b[0m\u001b[0mloss\u001b[0m\u001b[1;33m,\u001b[0m \u001b[0mself\u001b[0m\u001b[1;33m.\u001b[0m\u001b[0moptimizer\u001b[0m\u001b[1;33m)\u001b[0m \u001b[1;32mas\u001b[0m \u001b[0mscaled_loss\u001b[0m\u001b[1;33m:\u001b[0m\u001b[1;33m\u001b[0m\u001b[1;33m\u001b[0m\u001b[0m\n",
      "\u001b[1;32mE:\\Users\\anshengqiang\\anaconda3\\lib\\site-packages\\torch\\tensor.py\u001b[0m in \u001b[0;36mbackward\u001b[1;34m(self, gradient, retain_graph, create_graph)\u001b[0m\n\u001b[0;32m    183\u001b[0m                 \u001b[0mproducts\u001b[0m\u001b[1;33m.\u001b[0m \u001b[0mDefaults\u001b[0m \u001b[0mto\u001b[0m\u001b[0;31m \u001b[0m\u001b[0;31m`\u001b[0m\u001b[0;31m`\u001b[0m\u001b[1;32mFalse\u001b[0m\u001b[0;31m`\u001b[0m\u001b[0;31m`\u001b[0m\u001b[1;33m.\u001b[0m\u001b[1;33m\u001b[0m\u001b[1;33m\u001b[0m\u001b[0m\n\u001b[0;32m    184\u001b[0m         \"\"\"\n\u001b[1;32m--> 185\u001b[1;33m         \u001b[0mtorch\u001b[0m\u001b[1;33m.\u001b[0m\u001b[0mautograd\u001b[0m\u001b[1;33m.\u001b[0m\u001b[0mbackward\u001b[0m\u001b[1;33m(\u001b[0m\u001b[0mself\u001b[0m\u001b[1;33m,\u001b[0m \u001b[0mgradient\u001b[0m\u001b[1;33m,\u001b[0m \u001b[0mretain_graph\u001b[0m\u001b[1;33m,\u001b[0m \u001b[0mcreate_graph\u001b[0m\u001b[1;33m)\u001b[0m\u001b[1;33m\u001b[0m\u001b[1;33m\u001b[0m\u001b[0m\n\u001b[0m\u001b[0;32m    186\u001b[0m \u001b[1;33m\u001b[0m\u001b[0m\n\u001b[0;32m    187\u001b[0m     \u001b[1;32mdef\u001b[0m \u001b[0mregister_hook\u001b[0m\u001b[1;33m(\u001b[0m\u001b[0mself\u001b[0m\u001b[1;33m,\u001b[0m \u001b[0mhook\u001b[0m\u001b[1;33m)\u001b[0m\u001b[1;33m:\u001b[0m\u001b[1;33m\u001b[0m\u001b[1;33m\u001b[0m\u001b[0m\n",
      "\u001b[1;32mE:\\Users\\anshengqiang\\anaconda3\\lib\\site-packages\\torch\\autograd\\__init__.py\u001b[0m in \u001b[0;36mbackward\u001b[1;34m(tensors, grad_tensors, retain_graph, create_graph, grad_variables)\u001b[0m\n\u001b[0;32m    123\u001b[0m         \u001b[0mretain_graph\u001b[0m \u001b[1;33m=\u001b[0m \u001b[0mcreate_graph\u001b[0m\u001b[1;33m\u001b[0m\u001b[1;33m\u001b[0m\u001b[0m\n\u001b[0;32m    124\u001b[0m \u001b[1;33m\u001b[0m\u001b[0m\n\u001b[1;32m--> 125\u001b[1;33m     Variable._execution_engine.run_backward(\n\u001b[0m\u001b[0;32m    126\u001b[0m         \u001b[0mtensors\u001b[0m\u001b[1;33m,\u001b[0m \u001b[0mgrad_tensors\u001b[0m\u001b[1;33m,\u001b[0m \u001b[0mretain_graph\u001b[0m\u001b[1;33m,\u001b[0m \u001b[0mcreate_graph\u001b[0m\u001b[1;33m,\u001b[0m\u001b[1;33m\u001b[0m\u001b[1;33m\u001b[0m\u001b[0m\n\u001b[0;32m    127\u001b[0m         allow_unreachable=True)  # allow_unreachable flag\n",
      "\u001b[1;31mKeyboardInterrupt\u001b[0m: "
     ]
    }
   ],
   "source": [
    "trainer.train()"
   ]
  },
  {
   "cell_type": "markdown",
   "metadata": {
    "colab_type": "text",
    "id": "_ZkooHz1-_2h"
   },
   "source": [
    "### 🎉 Save final model (+ tokenizer + config) to disk"
   ]
  },
  {
   "cell_type": "code",
   "execution_count": 11,
   "metadata": {
    "colab": {},
    "colab_type": "code",
    "id": "QDNgPls7_l13"
   },
   "outputs": [],
   "source": [
    "trainer.save_model(model_path)"
   ]
  },
  {
   "cell_type": "markdown",
   "metadata": {},
   "source": [
    "#### ！！！注意，这里需要把词表拷贝到模型文件夹！！！"
   ]
  },
  {
   "cell_type": "markdown",
   "metadata": {
    "colab_type": "text",
    "id": "d0caceCy_p1-"
   },
   "source": [
    "# 5. Check the model"
   ]
  },
  {
   "cell_type": "code",
   "execution_count": 14,
   "metadata": {
    "colab": {},
    "colab_type": "code",
    "id": "ltXgXyCbAJLY"
   },
   "outputs": [],
   "source": [
    "from transformers import pipeline\n",
    "\n",
    "generate = pipeline(\n",
    "    \"text-generation\",\n",
    "    model=model_path,\n",
    ")"
   ]
  },
  {
   "cell_type": "code",
   "execution_count": 20,
   "metadata": {
    "colab": {
     "base_uri": "https://localhost:8080/",
     "height": 283
    },
    "colab_type": "code",
    "id": "UIvgZ3S6AO0z",
    "outputId": "5f3d2f00-abdc-44a9-9c1b-75e3ec328576",
    "scrolled": false
   },
   "outputs": [
    {
     "name": "stderr",
     "output_type": "stream",
     "text": [
      "Setting `pad_token_id` to 50256 (first `eos_token_id`) to generate sequence\n"
     ]
    },
    {
     "name": "stdout",
     "output_type": "stream",
     "text": [
      "1.5550296306610107\n",
      "第八十四章 满月的呓语\n",
      "　　克莱恩刚披上双排扣长礼服，拿起半高丝绸礼帽，往门口走去，忽然听见了层层回荡的虚幻祈求声。\n",
      "　　谁？他微皱眉头，侧耳倾听了一下，但只能确认祈求者是一位女士，而且嗓音断断续续，似乎蕴藏着极大的痛苦。\n",
      "　　想着也没什么特别紧要的事情，新晋“魔术师”克莱恩随手一扔，让半高丝绸礼帽又准确无误地挂到了衣帽架上，自身则返回卧室，逆走四步，进入巍峨雄伟的宫殿。\n",
      "　　这一次，他借助“源堡”提供了力量，让“福根之犬”途径失控需要很久来提升力量的奥黛丽借助深红星辰来维持自己的身体，以维持自身的姿态，未去尝试祈求者，未变再出现较合适的仪式。\n",
      "　　在灰雾之上，愚者祈祷者的灵性直觉是催眠的前置目标。\n",
      "　　经过这次的事情，奥黛丽对“祈福人”途径有一定的了解，所以对晋升“愚者”有较有戒备了，因为有“愚者”力量带来的帮助，“魔术师”小姐能很快恢复正常，而且，这让她感觉得到\n",
      "\n",
      "==================================================\n",
      "\n",
      "第八十四章 满月的呓语\n",
      "　　克莱恩刚披上双排扣长礼服，拿起半高丝绸礼帽，往门口走去，忽然听见了层层回荡的虚幻祈求声。\n",
      "　　谁？他微皱眉头，侧耳倾听了一下，但只能确认祈求者是一位女士，而且嗓音断断续续，似乎蕴藏着极大的痛苦。\n",
      "　　想着也没什么特别紧要的事情，新晋“魔术师”克莱恩随手一扔，让半高丝绸礼帽又准确无误地挂到了衣帽架上，自身则返回卧室，逆走四步，进入巍峨雄伟的宫殿。\n",
      "　　这一次，他没有尝试敲门，因为他能真切地感受到自身有“梦境占卜”的技巧。\n",
      "　　这很说明，这是非常好的结果。\n",
      "　　这是指它被灰雾包裹的状态，有特殊，有特殊的那种感觉，没有特殊的地方，克莱恩没有刻意去思考，只是根据预定，敲开门窗，看见里面一片漆黑，没有任何生气。\n",
      "　　这……克莱恩暗自吸了口气道：\n",
      "　　“你真是的，有的时候，我好像更喜欢这种场景。”\n",
      "　　他旋即吸了口气，准备回房，准备起别的占卜。\n",
      "　　可\n",
      "\n",
      "==================================================\n",
      "\n",
      "第八十四章 满月的呓语\n",
      "　　克莱恩刚披上双排扣长礼服，拿起半高丝绸礼帽，往门口走去，忽然听见了层层回荡的虚幻祈求声。\n",
      "　　谁？他微皱眉头，侧耳倾听了一下，但只能确认祈求者是一位女士，而且嗓音断断续续，似乎蕴藏着极大的痛苦。\n",
      "　　想着也没什么特别紧要的事情，新晋“魔术师”克莱恩随手一扔，让半高丝绸礼帽又准确无误地挂到了衣帽架上，自身则返回卧室，逆走四步，进入巍峨雄伟的宫殿。\n",
      "　　这一次，他不再像刚晋升神眷者。\n",
      "　　他先是尝试向“愚者”祷告，继而用右手轻敲青铜长桌的边缘，从灰雾之上“看”出了那扇古老斑驳的古老青铜大门。\n",
      "　　这大门里摆放的那对近乎完全透明的“眼睛”静静注视着他。\n",
      "　　“灰雾之上的神秘主宰……”克莱恩微不可见点头，忽然低诵起第二个问题。\n",
      "　　那对“眼睛”的奇异身影旋即穿透了他的眼眸，从他手里接过了那件事物后靠成了拳头，似乎有一点的不属于本身的东西。\n",
      "　　“\n",
      "\n",
      "==================================================\n",
      "\n"
     ]
    }
   ],
   "source": [
    "import time\n",
    "time0 = time.time()\n",
    "result = generate(\"\"\"第八十四章 满月的呓语\n",
    "　　克莱恩刚披上双排扣长礼服，拿起半高丝绸礼帽，往门口走去，忽然听见了层层回荡的虚幻祈求声。\n",
    "　　谁？他微皱眉头，侧耳倾听了一下，但只能确认祈求者是一位女士，而且嗓音断断续续，似乎蕴藏着极大的痛苦。\n",
    "　　想着也没什么特别紧要的事情，新晋“魔术师”克莱恩随手一扔，让半高丝绸礼帽又准确无误地挂到了衣帽架上，自身则返回卧室，逆走四步，进入巍峨雄伟的宫殿。\n",
    "　　这一次，\"\"\", max_length=256, repetition_penalty=1, do_sample=True, top_k=40, temperature=1.2, num_return_sequences=3)\n",
    "print(time.time()-time0)\n",
    "for item in result:\n",
    "  print(item[\"generated_text\"])\n",
    "  print()\n",
    "  print(\"=\"*50)\n",
    "  print()"
   ]
  }
 ],
 "metadata": {
  "accelerator": "GPU",
  "colab": {
   "collapsed_sections": [],
   "machine_shape": "hm",
   "name": "01_how-to-train.ipynb",
   "provenance": [],
   "toc_visible": true
  },
  "kernelspec": {
   "display_name": "Python 3",
   "language": "python",
   "name": "python3"
  },
  "language_info": {
   "codemirror_mode": {
    "name": "ipython",
    "version": 3
   },
   "file_extension": ".py",
   "mimetype": "text/x-python",
   "name": "python",
   "nbconvert_exporter": "python",
   "pygments_lexer": "ipython3",
   "version": "3.8.3"
  },
  "pycharm": {
   "stem_cell": {
    "cell_type": "raw",
    "metadata": {
     "collapsed": false
    },
    "source": []
   }
  },
  "widgets": {
   "application/vnd.jupyter.widget-state+json": {
    "016d7c8318f742c1943464b08232a510": {
     "model_module": "@jupyter-widgets/base",
     "model_name": "LayoutModel",
     "state": {
      "_model_module": "@jupyter-widgets/base",
      "_model_module_version": "1.2.0",
      "_model_name": "LayoutModel",
      "_view_count": null,
      "_view_module": "@jupyter-widgets/base",
      "_view_module_version": "1.2.0",
      "_view_name": "LayoutView",
      "align_content": null,
      "align_items": null,
      "align_self": null,
      "border": null,
      "bottom": null,
      "display": null,
      "flex": null,
      "flex_flow": null,
      "grid_area": null,
      "grid_auto_columns": null,
      "grid_auto_flow": null,
      "grid_auto_rows": null,
      "grid_column": null,
      "grid_gap": null,
      "grid_row": null,
      "grid_template_areas": null,
      "grid_template_columns": null,
      "grid_template_rows": null,
      "height": null,
      "justify_content": null,
      "justify_items": null,
      "left": null,
      "margin": null,
      "max_height": null,
      "max_width": null,
      "min_height": null,
      "min_width": null,
      "object_fit": null,
      "object_position": null,
      "order": null,
      "overflow": null,
      "overflow_x": null,
      "overflow_y": null,
      "padding": null,
      "right": null,
      "top": null,
      "visibility": null,
      "width": null
     }
    },
    "04e7e6d291da49d5816dc98a2904e95c": {
     "model_module": "@jupyter-widgets/controls",
     "model_name": "HTMLModel",
     "state": {
      "_dom_classes": [],
      "_model_module": "@jupyter-widgets/controls",
      "_model_module_version": "1.5.0",
      "_model_name": "HTMLModel",
      "_view_count": null,
      "_view_module": "@jupyter-widgets/controls",
      "_view_module_version": "1.5.0",
      "_view_name": "HTMLView",
      "description": "",
      "description_tooltip": null,
      "layout": "IPY_MODEL_39c23c6a972b419eb2eeeebafeaedc22",
      "placeholder": "​",
      "style": "IPY_MODEL_8388e9da9da4492c98c19235ca5fc1b5",
      "value": " 15228/15228 [2:46:46&lt;00:00,  1.52it/s]"
     }
    },
    "0989d41a4da24e9ebff377e02127642c": {
     "model_module": "@jupyter-widgets/controls",
     "model_name": "HBoxModel",
     "state": {
      "_dom_classes": [],
      "_model_module": "@jupyter-widgets/controls",
      "_model_module_version": "1.5.0",
      "_model_name": "HBoxModel",
      "_view_count": null,
      "_view_module": "@jupyter-widgets/controls",
      "_view_module_version": "1.5.0",
      "_view_name": "HBoxView",
      "box_style": "",
      "children": [
       "IPY_MODEL_d295dd80550447d88da0f04ce36a22ff",
       "IPY_MODEL_04e7e6d291da49d5816dc98a2904e95c"
      ],
      "layout": "IPY_MODEL_42c6061ef7e44f179db5a6e3551c0f17"
     }
    },
    "39c23c6a972b419eb2eeeebafeaedc22": {
     "model_module": "@jupyter-widgets/base",
     "model_name": "LayoutModel",
     "state": {
      "_model_module": "@jupyter-widgets/base",
      "_model_module_version": "1.2.0",
      "_model_name": "LayoutModel",
      "_view_count": null,
      "_view_module": "@jupyter-widgets/base",
      "_view_module_version": "1.2.0",
      "_view_name": "LayoutView",
      "align_content": null,
      "align_items": null,
      "align_self": null,
      "border": null,
      "bottom": null,
      "display": null,
      "flex": null,
      "flex_flow": null,
      "grid_area": null,
      "grid_auto_columns": null,
      "grid_auto_flow": null,
      "grid_auto_rows": null,
      "grid_column": null,
      "grid_gap": null,
      "grid_row": null,
      "grid_template_areas": null,
      "grid_template_columns": null,
      "grid_template_rows": null,
      "height": null,
      "justify_content": null,
      "justify_items": null,
      "left": null,
      "margin": null,
      "max_height": null,
      "max_width": null,
      "min_height": null,
      "min_width": null,
      "object_fit": null,
      "object_position": null,
      "order": null,
      "overflow": null,
      "overflow_x": null,
      "overflow_y": null,
      "padding": null,
      "right": null,
      "top": null,
      "visibility": null,
      "width": null
     }
    },
    "40bf955ba0284e84b198da6be8654219": {
     "model_module": "@jupyter-widgets/controls",
     "model_name": "ProgressStyleModel",
     "state": {
      "_model_module": "@jupyter-widgets/controls",
      "_model_module_version": "1.5.0",
      "_model_name": "ProgressStyleModel",
      "_view_count": null,
      "_view_module": "@jupyter-widgets/base",
      "_view_module_version": "1.2.0",
      "_view_name": "StyleView",
      "bar_color": null,
      "description_width": "initial"
     }
    },
    "42c6061ef7e44f179db5a6e3551c0f17": {
     "model_module": "@jupyter-widgets/base",
     "model_name": "LayoutModel",
     "state": {
      "_model_module": "@jupyter-widgets/base",
      "_model_module_version": "1.2.0",
      "_model_name": "LayoutModel",
      "_view_count": null,
      "_view_module": "@jupyter-widgets/base",
      "_view_module_version": "1.2.0",
      "_view_name": "LayoutView",
      "align_content": null,
      "align_items": null,
      "align_self": null,
      "border": null,
      "bottom": null,
      "display": null,
      "flex": null,
      "flex_flow": null,
      "grid_area": null,
      "grid_auto_columns": null,
      "grid_auto_flow": null,
      "grid_auto_rows": null,
      "grid_column": null,
      "grid_gap": null,
      "grid_row": null,
      "grid_template_areas": null,
      "grid_template_columns": null,
      "grid_template_rows": null,
      "height": null,
      "justify_content": null,
      "justify_items": null,
      "left": null,
      "margin": null,
      "max_height": null,
      "max_width": null,
      "min_height": null,
      "min_width": null,
      "object_fit": null,
      "object_position": null,
      "order": null,
      "overflow": null,
      "overflow_x": null,
      "overflow_y": null,
      "padding": null,
      "right": null,
      "top": null,
      "visibility": null,
      "width": null
     }
    },
    "6feb10aeb43147e6aba028d065947ae8": {
     "model_module": "@jupyter-widgets/base",
     "model_name": "LayoutModel",
     "state": {
      "_model_module": "@jupyter-widgets/base",
      "_model_module_version": "1.2.0",
      "_model_name": "LayoutModel",
      "_view_count": null,
      "_view_module": "@jupyter-widgets/base",
      "_view_module_version": "1.2.0",
      "_view_name": "LayoutView",
      "align_content": null,
      "align_items": null,
      "align_self": null,
      "border": null,
      "bottom": null,
      "display": null,
      "flex": null,
      "flex_flow": null,
      "grid_area": null,
      "grid_auto_columns": null,
      "grid_auto_flow": null,
      "grid_auto_rows": null,
      "grid_column": null,
      "grid_gap": null,
      "grid_row": null,
      "grid_template_areas": null,
      "grid_template_columns": null,
      "grid_template_rows": null,
      "height": null,
      "justify_content": null,
      "justify_items": null,
      "left": null,
      "margin": null,
      "max_height": null,
      "max_width": null,
      "min_height": null,
      "min_width": null,
      "object_fit": null,
      "object_position": null,
      "order": null,
      "overflow": null,
      "overflow_x": null,
      "overflow_y": null,
      "padding": null,
      "right": null,
      "top": null,
      "visibility": null,
      "width": null
     }
    },
    "837c9ddc3d594e088891874560c646b8": {
     "model_module": "@jupyter-widgets/controls",
     "model_name": "FloatProgressModel",
     "state": {
      "_dom_classes": [],
      "_model_module": "@jupyter-widgets/controls",
      "_model_module_version": "1.5.0",
      "_model_name": "FloatProgressModel",
      "_view_count": null,
      "_view_module": "@jupyter-widgets/controls",
      "_view_module_version": "1.5.0",
      "_view_name": "ProgressView",
      "bar_style": "success",
      "description": "Epoch: 100%",
      "description_tooltip": null,
      "layout": "IPY_MODEL_fe20a8dae6e84628b5076d02183090f5",
      "max": 1,
      "min": 0,
      "orientation": "horizontal",
      "style": "IPY_MODEL_40bf955ba0284e84b198da6be8654219",
      "value": 1
     }
    },
    "8388e9da9da4492c98c19235ca5fc1b5": {
     "model_module": "@jupyter-widgets/controls",
     "model_name": "DescriptionStyleModel",
     "state": {
      "_model_module": "@jupyter-widgets/controls",
      "_model_module_version": "1.5.0",
      "_model_name": "DescriptionStyleModel",
      "_view_count": null,
      "_view_module": "@jupyter-widgets/base",
      "_view_module_version": "1.2.0",
      "_view_name": "StyleView",
      "description_width": ""
     }
    },
    "93b3f9eae3cb4e3e859cf456e3547c6d": {
     "model_module": "@jupyter-widgets/controls",
     "model_name": "DescriptionStyleModel",
     "state": {
      "_model_module": "@jupyter-widgets/controls",
      "_model_module_version": "1.5.0",
      "_model_name": "DescriptionStyleModel",
      "_view_count": null,
      "_view_module": "@jupyter-widgets/base",
      "_view_module_version": "1.2.0",
      "_view_name": "StyleView",
      "description_width": ""
     }
    },
    "a491e8caa0a048beb3b5259f14eb233f": {
     "model_module": "@jupyter-widgets/base",
     "model_name": "LayoutModel",
     "state": {
      "_model_module": "@jupyter-widgets/base",
      "_model_module_version": "1.2.0",
      "_model_name": "LayoutModel",
      "_view_count": null,
      "_view_module": "@jupyter-widgets/base",
      "_view_module_version": "1.2.0",
      "_view_name": "LayoutView",
      "align_content": null,
      "align_items": null,
      "align_self": null,
      "border": null,
      "bottom": null,
      "display": null,
      "flex": null,
      "flex_flow": null,
      "grid_area": null,
      "grid_auto_columns": null,
      "grid_auto_flow": null,
      "grid_auto_rows": null,
      "grid_column": null,
      "grid_gap": null,
      "grid_row": null,
      "grid_template_areas": null,
      "grid_template_columns": null,
      "grid_template_rows": null,
      "height": null,
      "justify_content": null,
      "justify_items": null,
      "left": null,
      "margin": null,
      "max_height": null,
      "max_width": null,
      "min_height": null,
      "min_width": null,
      "object_fit": null,
      "object_position": null,
      "order": null,
      "overflow": null,
      "overflow_x": null,
      "overflow_y": null,
      "padding": null,
      "right": null,
      "top": null,
      "visibility": null,
      "width": null
     }
    },
    "a58a66392b644b1384661e850c077a6c": {
     "model_module": "@jupyter-widgets/controls",
     "model_name": "HBoxModel",
     "state": {
      "_dom_classes": [],
      "_model_module": "@jupyter-widgets/controls",
      "_model_module_version": "1.5.0",
      "_model_name": "HBoxModel",
      "_view_count": null,
      "_view_module": "@jupyter-widgets/controls",
      "_view_module_version": "1.5.0",
      "_view_name": "HBoxView",
      "box_style": "",
      "children": [
       "IPY_MODEL_837c9ddc3d594e088891874560c646b8",
       "IPY_MODEL_dbf50873d62c4ba39321faefbed0cca5"
      ],
      "layout": "IPY_MODEL_a491e8caa0a048beb3b5259f14eb233f"
     }
    },
    "d295dd80550447d88da0f04ce36a22ff": {
     "model_module": "@jupyter-widgets/controls",
     "model_name": "FloatProgressModel",
     "state": {
      "_dom_classes": [],
      "_model_module": "@jupyter-widgets/controls",
      "_model_module_version": "1.5.0",
      "_model_name": "FloatProgressModel",
      "_view_count": null,
      "_view_module": "@jupyter-widgets/controls",
      "_view_module_version": "1.5.0",
      "_view_name": "ProgressView",
      "bar_style": "success",
      "description": "Iteration: 100%",
      "description_tooltip": null,
      "layout": "IPY_MODEL_016d7c8318f742c1943464b08232a510",
      "max": 15228,
      "min": 0,
      "orientation": "horizontal",
      "style": "IPY_MODEL_e7d8c3a4fecd40778e32966b29ea65a1",
      "value": 15228
     }
    },
    "dbf50873d62c4ba39321faefbed0cca5": {
     "model_module": "@jupyter-widgets/controls",
     "model_name": "HTMLModel",
     "state": {
      "_dom_classes": [],
      "_model_module": "@jupyter-widgets/controls",
      "_model_module_version": "1.5.0",
      "_model_name": "HTMLModel",
      "_view_count": null,
      "_view_module": "@jupyter-widgets/controls",
      "_view_module_version": "1.5.0",
      "_view_name": "HTMLView",
      "description": "",
      "description_tooltip": null,
      "layout": "IPY_MODEL_6feb10aeb43147e6aba028d065947ae8",
      "placeholder": "​",
      "style": "IPY_MODEL_93b3f9eae3cb4e3e859cf456e3547c6d",
      "value": " 1/1 [2:46:46&lt;00:00, 10006.17s/it]"
     }
    },
    "e7d8c3a4fecd40778e32966b29ea65a1": {
     "model_module": "@jupyter-widgets/controls",
     "model_name": "ProgressStyleModel",
     "state": {
      "_model_module": "@jupyter-widgets/controls",
      "_model_module_version": "1.5.0",
      "_model_name": "ProgressStyleModel",
      "_view_count": null,
      "_view_module": "@jupyter-widgets/base",
      "_view_module_version": "1.2.0",
      "_view_name": "StyleView",
      "bar_color": null,
      "description_width": "initial"
     }
    },
    "fe20a8dae6e84628b5076d02183090f5": {
     "model_module": "@jupyter-widgets/base",
     "model_name": "LayoutModel",
     "state": {
      "_model_module": "@jupyter-widgets/base",
      "_model_module_version": "1.2.0",
      "_model_name": "LayoutModel",
      "_view_count": null,
      "_view_module": "@jupyter-widgets/base",
      "_view_module_version": "1.2.0",
      "_view_name": "LayoutView",
      "align_content": null,
      "align_items": null,
      "align_self": null,
      "border": null,
      "bottom": null,
      "display": null,
      "flex": null,
      "flex_flow": null,
      "grid_area": null,
      "grid_auto_columns": null,
      "grid_auto_flow": null,
      "grid_auto_rows": null,
      "grid_column": null,
      "grid_gap": null,
      "grid_row": null,
      "grid_template_areas": null,
      "grid_template_columns": null,
      "grid_template_rows": null,
      "height": null,
      "justify_content": null,
      "justify_items": null,
      "left": null,
      "margin": null,
      "max_height": null,
      "max_width": null,
      "min_height": null,
      "min_width": null,
      "object_fit": null,
      "object_position": null,
      "order": null,
      "overflow": null,
      "overflow_x": null,
      "overflow_y": null,
      "padding": null,
      "right": null,
      "top": null,
      "visibility": null,
      "width": null
     }
    }
   }
  }
 },
 "nbformat": 4,
 "nbformat_minor": 1
}
