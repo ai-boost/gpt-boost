{
 "cells": [
  {
   "cell_type": "code",
   "execution_count": 1,
   "metadata": {},
   "outputs": [],
   "source": [
    "import sys\n",
    "sys.path.append(\"..\")\n",
    "import torch\n",
    "from transformers import GPT2Tokenizer\n",
    "from transformers import GPT2LMHeadModel\n",
    "# from models.memory.modeling_gpt2_memory import GPT2LMHeadModel"
   ]
  },
  {
   "cell_type": "code",
   "execution_count": 2,
   "metadata": {},
   "outputs": [],
   "source": [
    "device = torch.device(\"cuda:0\")\n",
    "model_path = \"E:\\\\data\\\\models\\\\gpt-boost\\\\novel-gpt-base\\\\\"\n",
    "tokenizer_path = \"E:\\\\data\\\\models\\\\tokenizer\""
   ]
  },
  {
   "cell_type": "code",
   "execution_count": 3,
   "metadata": {
    "scrolled": true
   },
   "outputs": [],
   "source": [
    "tokenizer = GPT2Tokenizer.from_pretrained(tokenizer_path)\n",
    "model = GPT2LMHeadModel.from_pretrained(model_path).to(device)"
   ]
  },
  {
   "cell_type": "code",
   "execution_count": 4,
   "metadata": {},
   "outputs": [
    {
     "data": {
      "text/plain": [
       "100612608"
      ]
     },
     "execution_count": 4,
     "metadata": {},
     "output_type": "execute_result"
    }
   ],
   "source": [
    "model.num_parameters()"
   ]
  },
  {
   "cell_type": "code",
   "execution_count": 5,
   "metadata": {},
   "outputs": [],
   "source": [
    "context = \"\"\"武汉市内，一名男子出现在大街上，怀里抱着一只狸花猫。他嘴唇\"\"\""
   ]
  },
  {
   "cell_type": "code",
   "execution_count": 20,
   "metadata": {},
   "outputs": [
    {
     "name": "stdout",
     "output_type": "stream",
     "text": [
      "武汉市内，一名男子出现在大街上，怀里抱着一只狸花猫。他嘴唇翕动，似乎在呼唤些什么。\n",
      "　　“喵？”\n",
      "　　一只巨大的老鼠忽然出现在了他的身前，将一只狸花猫拖了过来。\n",
      "　　这只老鼠，体型很大，足有五十多米高，体型比林夕、北方栖姬还要大一些，看起来有些像小孩子。\n",
      "　　王菲菲和北方栖姬，两只猫头鹰一样大小，\n"
     ]
    }
   ],
   "source": [
    "input_ids = tokenizer(context, return_tensors=\"pt\")[\"input_ids\"].to(device)\n",
    "\n",
    "max_generated_len = 30\n",
    "generated_ids = []\n",
    "\n",
    "stop_id = tokenizer.encode(\"，。\\n\")\n",
    "\n",
    "for i in range(max_generated_len):\n",
    "    input_len = input_ids.size(1)\n",
    "    outputs = model.generate(input_ids=input_ids, max_length=input_len+1, top_k=40, top_p=0.95, temperature=0.8, repetition_penalty=1.1, pad_token_id=50256, do_sample=True)\n",
    "    output_id = outputs[0][-1]\n",
    "    generated_ids.append(output_id)\n",
    "    input_ids = input_ids.tolist()\n",
    "    input_ids[0].append(output_id)\n",
    "    input_ids = torch.LongTensor(input_ids).to(device)\n",
    "\n",
    "    if output_id.item() in stop_id:\n",
    "        break\n",
    "\n",
    "context += tokenizer.decode(generated_ids)\n",
    "print(context)\n"
   ]
  }
 ],
 "metadata": {
  "kernelspec": {
   "display_name": "Python 3",
   "language": "python",
   "name": "python3"
  },
  "language_info": {
   "codemirror_mode": {
    "name": "ipython",
    "version": 3
   },
   "file_extension": ".py",
   "mimetype": "text/x-python",
   "name": "python",
   "nbconvert_exporter": "python",
   "pygments_lexer": "ipython3",
   "version": "3.8.3"
  }
 },
 "nbformat": 4,
 "nbformat_minor": 1
}
