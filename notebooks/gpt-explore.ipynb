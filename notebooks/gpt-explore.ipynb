{
 "cells": [
  {
   "cell_type": "code",
   "execution_count": 1,
   "metadata": {},
   "outputs": [],
   "source": [
    "import sys\n",
    "sys.path.append(\"..\")\n",
    "import torch\n",
    "from transformers import GPT2Tokenizer\n",
    "from transformers import GPT2LMHeadModel\n",
    "# from models.memory.modeling_gpt2_memory import GPT2LMHeadModel"
   ]
  },
  {
   "cell_type": "code",
   "execution_count": 2,
   "metadata": {},
   "outputs": [],
   "source": [
    "device = torch.device(\"cuda:0\")\n",
    "model_path = \"E:\\\\data\\\\models\\\\gpt-boost\\\\gpt-1-layer\\\\\"\n",
    "tokenizer_path = \".\\\\tokenizer\""
   ]
  },
  {
   "cell_type": "code",
   "execution_count": 3,
   "metadata": {
    "scrolled": true
   },
   "outputs": [],
   "source": [
    "tokenizer = GPT2Tokenizer.from_pretrained(tokenizer_path)\n",
    "model = GPT2LMHeadModel.from_pretrained(model_path).to(device)"
   ]
  },
  {
   "cell_type": "code",
   "execution_count": 4,
   "metadata": {},
   "outputs": [],
   "source": [
    "contenxt = \"\"\"灰雾之上，恢弘雄伟的宫殿内。\n",
    "“愚者”克莱恩问“魔镜”阿罗德斯：“谁将成为诡秘之主？”\n",
    "阿罗德斯：“当然是\"\"\""
   ]
  },
  {
   "cell_type": "code",
   "execution_count": 5,
   "metadata": {},
   "outputs": [
    {
     "data": {
      "text/plain": [
       "13524480"
      ]
     },
     "execution_count": 5,
     "metadata": {},
     "output_type": "execute_result"
    }
   ],
   "source": [
    "model.num_parameters()"
   ]
  },
  {
   "cell_type": "code",
   "execution_count": 6,
   "metadata": {},
   "outputs": [
    {
     "name": "stdout",
     "output_type": "stream",
     "text": [
      "你，是‘占卜家’途径的‘源堡’吗？\n",
      "　　“祂也是从‘愚者’先生，你还有什么办法？\n",
      "　　当然，我也不认为这个问题……嗯，有谁在白银城时不提前的观察后，不，克莱恩决定直接返回灰雾之上，并考虑另外三页日记。”克莱恩简单回应了一下，没提自己的疑问。\n",
      "　　他认为“隐者”女士没有直接问过，而是考虑到“愚者”先生、“倒吊人”先生，这是真的？”克莱恩边回了个理由。\n",
      "　　克莱恩微不可见地点了下头：\n",
      "　　“这，可以让我去灰雾之上寻找线索，否则你肯定会被阿蒙阿蒙盯上，从而让别人怀疑那位“愚者”先生是否在灰雾之上做出占卜决定后，用“隐者”嘉德丽雅等塔罗会成员帮忙，结果还是自己自己现在还剩的！\n",
      "　　“很感谢我，可以尝试着帮助你帮我消化掉魔药，或者不一定效果\n"
     ]
    }
   ],
   "source": [
    "input_ids = tokenizer(contenxt, return_tensors=\"pt\")[\"input_ids\"].to(device)\n",
    "\n",
    "max_generated_len = 200\n",
    "generated_ids = []\n",
    "\n",
    "stop_id = [198]\n",
    "\n",
    "for i in range(max_generated_len):\n",
    "    input_len = input_ids.size(1)\n",
    "    outputs = model.generate(input_ids=input_ids, max_length=input_len+1, do_sample=True, top_k=40, top_p=0.95, temperature=1.2, pad_token_id=50256, penality=1.2)\n",
    "    output_id = outputs[0][-1]\n",
    "    generated_ids.append(output_id)\n",
    "    input_ids = input_ids.tolist()\n",
    "    input_ids[0].append(output_id)\n",
    "    input_ids = torch.LongTensor(input_ids).to(device)\n",
    "\n",
    "    if output_id.item() in stop_id:\n",
    "        break\n",
    "\n",
    "print(tokenizer.decode(generated_ids))\n"
   ]
  }
 ],
 "metadata": {
  "kernelspec": {
   "display_name": "Python 3",
   "language": "python",
   "name": "python3"
  },
  "language_info": {
   "codemirror_mode": {
    "name": "ipython",
    "version": 3
   },
   "file_extension": ".py",
   "mimetype": "text/x-python",
   "name": "python",
   "nbconvert_exporter": "python",
   "pygments_lexer": "ipython3",
   "version": "3.8.3"
  }
 },
 "nbformat": 4,
 "nbformat_minor": 1
}